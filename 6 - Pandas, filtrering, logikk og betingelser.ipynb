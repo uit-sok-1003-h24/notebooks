{
 "cells": [
  {
   "cell_type": "markdown",
   "id": "a94965cd",
   "metadata": {},
   "source": [
    "##### [< Forrige](5%20-%20sympy.ipynb)     |     [Neste >](7%20-%20løkker%20og%20simulering.ipynb)"
   ]
  },
  {
   "cell_type": "markdown",
   "id": "3b799010-59c6-47e5-84b5-758348032385",
   "metadata": {
    "jp-MarkdownHeadingCollapsed": true,
    "tags": []
   },
   "source": [
    "<span style=\"color:#9bb1d4;font-size:30px;font-weight:900\"> 6 - pandas, filtrering, logikk og betingelser </span>  "
   ]
  },
  {
   "cell_type": "markdown",
   "id": "6185fa04",
   "metadata": {},
   "source": [
    "# Logikk og betingelser"
   ]
  },
  {
   "cell_type": "markdown",
   "id": "a68a2fb5",
   "metadata": {},
   "source": [
    "Noe av det vi gjør oftest når vi programmerer er å teste om en betingelse er sann eller usann. Når testen er utført, kan programmet velge riktig vei å gå i fortsettelsen. Slik testing kalles \"logikk\". Vi har allerede i innledningen vært inne på variabeltypen som avgjør om en test er sann eller usann, typen `bool`. \n",
    "\n",
    "Sann eller usann (`True` og `False`) brukes som oftest sammen med en `if`-betingelse, slik som dette:\n",
    "\n",
    "#### Eksempel 1:"
   ]
  },
  {
   "cell_type": "code",
   "execution_count": 62,
   "id": "79193e95",
   "metadata": {},
   "outputs": [
    {
     "name": "stdout",
     "output_type": "stream",
     "text": [
      "Hå\n"
     ]
    }
   ],
   "source": [
    "if False:\n",
    "    print(\"Hei\")\n",
    "else:\n",
    "    print(\"Hå\")"
   ]
  },
  {
   "cell_type": "code",
   "execution_count": 63,
   "id": "cadcdbcb",
   "metadata": {},
   "outputs": [
    {
     "name": "stdout",
     "output_type": "stream",
     "text": [
      "Tallet er mindre enn 6\n"
     ]
    }
   ],
   "source": [
    "a = 5\n",
    "\n",
    "if a < 6:\n",
    "    print('Tallet er mindre enn 6')\n",
    "else:\n",
    "    print('Tallet er større eller lik 6')"
   ]
  },
  {
   "cell_type": "markdown",
   "id": "1ecda1ec",
   "metadata": {},
   "source": [
    "Vanligvis vil `if`-setningen inneholde en test som ikke er helt åpenbar, og som avhenger av input i en funksjon eller en variabel som er definert et annet sted i koden. Her er et eksempel på det første:\n",
    "\n",
    "#### Eksempel 2:"
   ]
  },
  {
   "cell_type": "code",
   "execution_count": 70,
   "id": "0792b05d",
   "metadata": {},
   "outputs": [
    {
     "data": {
      "text/plain": [
       "0.3766918808489508"
      ]
     },
     "execution_count": 70,
     "metadata": {},
     "output_type": "execute_result"
    }
   ],
   "source": [
    "np.random.rand()"
   ]
  },
  {
   "cell_type": "code",
   "execution_count": 73,
   "id": "375d9cb8",
   "metadata": {},
   "outputs": [
    {
     "name": "stdout",
     "output_type": "stream",
     "text": [
      "Bought for: 100\n",
      "Worth today: 51\n",
      "You lost\n"
     ]
    }
   ],
   "source": [
    "import numpy as np\n",
    "\n",
    "def did_I_win(s0, s1):\n",
    "    if s1 > s0:\n",
    "        return \"won!\"\n",
    "    else:\n",
    "        return \"lost\" \n",
    "\n",
    "PricePaid = 100\n",
    "StockPriceToday = int(np.random.rand()*200)\n",
    "\n",
    "print(\n",
    "    f\"Bought for: {PricePaid}\\n\"\n",
    "    f\"Worth today: {StockPriceToday}\\n\"\n",
    "    f\"You {did_I_win(PricePaid, StockPriceToday)}\"\n",
    ")"
   ]
  },
  {
   "cell_type": "markdown",
   "id": "92ec3e41",
   "metadata": {},
   "source": [
    "Ofte vil du ønske å sammenligne ulike datasett, for eksempel to numpy-rekker. Dersom du skal ha en `if`-betingelse, må du imidlertid huske på at for å få ett svar på en sammenligning mellom to numpy-rekker, så må du angi på hvilken måte de skal sammenlignes. I utgangspunktet vil en slik sammenligning bare gi resultatet fra en sammenligning av hvert element i de to rekkene. Resultatet av sammenligningen er altså ikke en bolsk verdi (`bool`) men en ny rekke. En slik sammenligning vil derfor føre til en feil:\n",
    "\n",
    "#### Eksempel 3:"
   ]
  },
  {
   "cell_type": "code",
   "execution_count": 75,
   "id": "b01219bf",
   "metadata": {},
   "outputs": [
    {
     "name": "stdout",
     "output_type": "stream",
     "text": [
      "[False False  True]\n"
     ]
    },
    {
     "ename": "ValueError",
     "evalue": "The truth value of an array with more than one element is ambiguous. Use a.any() or a.all()",
     "output_type": "error",
     "traceback": [
      "\u001b[0;31m---------------------------------------------------------------------------\u001b[0m",
      "\u001b[0;31mValueError\u001b[0m                                Traceback (most recent call last)",
      "Cell \u001b[0;32mIn[75], line 6\u001b[0m\n\u001b[1;32m      2\u001b[0m b \u001b[38;5;241m=\u001b[39m np\u001b[38;5;241m.\u001b[39marray([\u001b[38;5;241m3\u001b[39m,\u001b[38;5;241m2\u001b[39m,\u001b[38;5;241m1\u001b[39m])\n\u001b[1;32m      4\u001b[0m \u001b[38;5;28mprint\u001b[39m(a \u001b[38;5;241m>\u001b[39m b)\n\u001b[0;32m----> 6\u001b[0m \u001b[38;5;28;01mif\u001b[39;00m a \u001b[38;5;241m>\u001b[39m b:\n\u001b[1;32m      7\u001b[0m     \u001b[38;5;28mprint\u001b[39m(\u001b[38;5;124m'\u001b[39m\u001b[38;5;124ma was bigger than b\u001b[39m\u001b[38;5;124m'\u001b[39m)\n",
      "\u001b[0;31mValueError\u001b[0m: The truth value of an array with more than one element is ambiguous. Use a.any() or a.all()"
     ]
    }
   ],
   "source": [
    "a = np.array([1,2,3])\n",
    "b = np.array([3,2,1])\n",
    "\n",
    "print(a > b)\n",
    "\n",
    "if a > b:\n",
    "    print('a was bigger than b')"
   ]
  },
  {
   "cell_type": "markdown",
   "id": "a3bfcf50",
   "metadata": {},
   "source": [
    "I stedet må vi angi hvordan den elementvise sammenligningen skal sammenfattes i et sant/usant-resultat. Vi kan da velge mellom å kreve at alle elementene er sanne med numpyfunksjonen `all()`, eller at minst ett av elementene er sanne med `any()`.\n",
    "\n",
    "#### Eksempel 4:\n"
   ]
  },
  {
   "cell_type": "code",
   "execution_count": 77,
   "id": "8b8ccb8d",
   "metadata": {},
   "outputs": [
    {
     "name": "stdout",
     "output_type": "stream",
     "text": [
      "There were elements in a where the corresponding element in b was smaller\n",
      "All elements in a was bigger than the corresponding element in b\n"
     ]
    }
   ],
   "source": [
    "if np.any(a > b):\n",
    "    print('There were elements in a where the corresponding element in b was smaller')\n",
    "    \n",
    "    \n",
    "a = np.array([101,102,103])\n",
    "\n",
    "if np.all(a > b):\n",
    "    print('All elements in a was bigger than the corresponding element in b')\n"
   ]
  },
  {
   "cell_type": "markdown",
   "id": "1be0bf26",
   "metadata": {},
   "source": [
    "Ofte vil du ha bruk for å bruke flere vilkår for testen, der du enten krever at alle må være sanne, eller at det holder at én er sann, eller en kombinasjon. Det oppnår vi med `and` og `or`. \n",
    "\n",
    "Et annet nyttig nøkkelord for logiske tester er `in`. Dette brukes på alt fra å finne ut om et objekt er i en liste eller annen datastruktur, til om en delstreng er i en streng. Her er et eksempel som bruker alle disse nøkkelordene i `if` og `elif`-setninger:\n",
    "\n",
    "#### Eksempel 5:"
   ]
  },
  {
   "cell_type": "code",
   "execution_count": 79,
   "id": "e9ea6acd",
   "metadata": {},
   "outputs": [
    {
     "name": "stdout",
     "output_type": "stream",
     "text": [
      "bear is not a cat, but it is a mammal\n"
     ]
    }
   ],
   "source": [
    "animal = 'bear'\n",
    "\n",
    "cats = ['lion','tiger','puma','lynx']\n",
    "mammals = ['human','bear','cat','whale','mouse']+cats\n",
    "\n",
    "if (animal in cats) and (animal in mammals):\n",
    "    print(f\"{animal} is a cat and a mammal\")\n",
    "elif (not animal in cats) and (animal in mammals):\n",
    "    print(f\"{animal} is not a cat, but it is a mammal\")\n",
    "elif (animal in cats) and (not animal in mammals):\n",
    "    print(f\"{animal} is a cat, but not a mammal\")   \n",
    "else:\n",
    "    print(f\"{animal} is neither a cat nor a mammal\")"
   ]
  },
  {
   "cell_type": "markdown",
   "id": "c7f8933b",
   "metadata": {},
   "source": [
    "Legg merke til `elif` over. De er `if`-setninger som er knyttet til `if`-setningen over. Koden til en `elif`-setning kjøres dersom hverken `if`-setningen eller noen `elif`-setninger over har blitt tilfredsstilt. "
   ]
  },
  {
   "cell_type": "markdown",
   "id": "fa6fe27b",
   "metadata": {},
   "source": [
    "# **Pandas** - et verktøy for behandling og lasting av data\n",
    "I denne delen skal vi utforske hvordan du kan bruke Pandas til å håndtere data. Vi skal også gå gjennom grunnleggende databehandling, filtrering, aggregering og visualisering."
   ]
  },
  {
   "cell_type": "markdown",
   "id": "afcbd745",
   "metadata": {},
   "source": [
    "# 1. Introduksjon til Pandas\n",
    "Pandas er et kraftig verktøy for datahåndtering og analyse. Det gir deg muligheten til å arbeide med datasett som er representert som DataFrames, en struktur som ligner regneark.\n",
    "\n",
    "Men først, som alle pakker i Python, må vi laste den inn først.\n",
    "\n",
    "Først, hvis vi ikke har gjort det, bruker vi ```pip install``` for å laste ned pandas. Det kan gjøres ved å skrive følgende:\n",
    "\n",
    "```python\n",
    "        # Laster ned pandas med pip\n",
    "        !pip install pandas\n",
    "```\n",
    "\n",
    "Så må vi importere modulen, at vi \"henter\" den klar for bruk, ved å kjøre cellen under: "
   ]
  },
  {
   "cell_type": "code",
   "execution_count": 81,
   "id": "f95514ad",
   "metadata": {},
   "outputs": [],
   "source": [
    "import pandas as pd"
   ]
  },
  {
   "cell_type": "markdown",
   "id": "cf9728a4",
   "metadata": {},
   "source": [
    "## **Eksempel 6: Importere Pandas og laste inn en CSV-fil**\n",
    "Det gjør vi ved å skrive følgende:\n",
    "\n",
    "```python\n",
    "        # Laste inn en CSV-fil som et DataFrame\n",
    "        data = pd.read_csv('data/eksempel_data.csv')\n",
    "\n",
    "        # Vise de første radene i DataFrame\n",
    "        data.head()\n",
    "```\n",
    "\n",
    "MEN! Her er det viktig å huske på at *'data/eksempel_data.csv'* må være *banenavn* til filen du ønsker å lese. Den må være unik for din PC/MAC.\n",
    "\n",
    "OBS! En del Windows brukere må skrive en ´r´ foran *'data/eksempel_data.csv'*, så prøv det om du får feilmelding."
   ]
  },
  {
   "cell_type": "code",
   "execution_count": 82,
   "id": "dc4d92f6",
   "metadata": {},
   "outputs": [
    {
     "data": {
      "text/html": [
       "<div>\n",
       "<style scoped>\n",
       "    .dataframe tbody tr th:only-of-type {\n",
       "        vertical-align: middle;\n",
       "    }\n",
       "\n",
       "    .dataframe tbody tr th {\n",
       "        vertical-align: top;\n",
       "    }\n",
       "\n",
       "    .dataframe thead th {\n",
       "        text-align: right;\n",
       "    }\n",
       "</style>\n",
       "<table border=\"1\" class=\"dataframe\">\n",
       "  <thead>\n",
       "    <tr style=\"text-align: right;\">\n",
       "      <th></th>\n",
       "      <th>Land</th>\n",
       "      <th>Landkode</th>\n",
       "      <th>BNP_per_capita</th>\n",
       "      <th>Utdanning</th>\n",
       "      <th>Befolkning</th>\n",
       "    </tr>\n",
       "  </thead>\n",
       "  <tbody>\n",
       "    <tr>\n",
       "      <th>0</th>\n",
       "      <td>Norway</td>\n",
       "      <td>NOR</td>\n",
       "      <td>73262.680</td>\n",
       "      <td>11.65</td>\n",
       "      <td>4886000</td>\n",
       "    </tr>\n",
       "    <tr>\n",
       "      <th>1</th>\n",
       "      <td>Kuwait</td>\n",
       "      <td>KWT</td>\n",
       "      <td>67029.523</td>\n",
       "      <td>6.39</td>\n",
       "      <td>2992000</td>\n",
       "    </tr>\n",
       "    <tr>\n",
       "      <th>2</th>\n",
       "      <td>Luxembourg</td>\n",
       "      <td>LUX</td>\n",
       "      <td>57882.809</td>\n",
       "      <td>11.33</td>\n",
       "      <td>508000</td>\n",
       "    </tr>\n",
       "    <tr>\n",
       "      <th>3</th>\n",
       "      <td>Switzerland</td>\n",
       "      <td>CHE</td>\n",
       "      <td>55688.020</td>\n",
       "      <td>12.92</td>\n",
       "      <td>7809000</td>\n",
       "    </tr>\n",
       "    <tr>\n",
       "      <th>4</th>\n",
       "      <td>United States</td>\n",
       "      <td>USA</td>\n",
       "      <td>49500.629</td>\n",
       "      <td>13.24</td>\n",
       "      <td>309011008</td>\n",
       "    </tr>\n",
       "  </tbody>\n",
       "</table>\n",
       "</div>"
      ],
      "text/plain": [
       "            Land Landkode  BNP_per_capita  Utdanning  Befolkning\n",
       "0         Norway      NOR       73262.680      11.65     4886000\n",
       "1         Kuwait      KWT       67029.523       6.39     2992000\n",
       "2     Luxembourg      LUX       57882.809      11.33      508000\n",
       "3    Switzerland      CHE       55688.020      12.92     7809000\n",
       "4  United States      USA       49500.629      13.24   309011008"
      ]
     },
     "execution_count": 82,
     "metadata": {},
     "output_type": "execute_result"
    }
   ],
   "source": [
    "# Laste inn en CSV-fil som et DataFrame\n",
    "df = pd.read_csv('/Users/maaas6121/Library/CloudStorage/OneDrive-UiTOffice365/Skrivebord/Bachelor_Emner/SOK-1003/notebooks/data/schooling-gdp.csv') # Din vei til data.\n",
    "\n",
    "### OBS: FÅR DU FEILMEDLING OVER, SJEKK FILBANEN!!! ###\n",
    "\n",
    "# Vise de første radene i DataFrame\n",
    "df.head()"
   ]
  },
  {
   "cell_type": "markdown",
   "id": "4ec53a60",
   "metadata": {},
   "source": [
    "Vi ser at vi har fire variabler: Land, Landkode, BNP_per_capita (BNP per innbygger), Utdanning og Befolkning. BNP er \"brutto nasjonalprodukt\" som måler hvor mye som produseres i et land i løpet av et år. BNP_per_capita viser altså hvor mye hver person i landet produserer hvert år i gjennomsnitt.  \n",
    "\n",
    "Import av data til `pandas` gjøres enkelt med funksjonen `read_csv`. Dersom du har lastet ned siste versjon av notebooks, ligger den en fil i mappen \"data\" som heter schooling-gdp.csv. (kilde: https://ourworldindata.org/grapher/correlation-between-mean-years-of-schooling-and-gdp-per-capita). Denne filen inneholder data på BNP og utdanningsnivå for endel land i 2010."
   ]
  },
  {
   "cell_type": "markdown",
   "id": "5dd46871",
   "metadata": {},
   "source": [
    "## **Operasjoner på dataframe's**\n",
    "Hvis vi antar at vi har kalt *dataframen* (norsk: *dataramme*) for ```data``` (som over). \n",
    "\n",
    "Her er en liste av operasjoner vi kan gjøre for å inspisere, endre og bli kjent med data'en vår ved hjelp av Pandas. Denne kan være et fint oppslagsverk for hva dere kan trenge om Pandas. Dokumentasjon om dette finnes også [her](https://pandas.pydata.org/docs/) og over hele Google!\n",
    "\n",
    "| **Operasjon**                          | **Formål**                                                     | **Syntaks i Python**                                |\n",
    "|----------------------------------------|----------------------------------------------------------------|-----------------------------------------------------|\n",
    "| Vise kolonneoverskriftene              | Viser navnene på kolonnene i DataFrame                         | `data.columns`                                      |\n",
    "| Velge en spesifikk kolonne             | Hente data fra en spesifikk kolonne                            | `data['kolonnenavn']`                               |\n",
    "| Filtrere rader basert på betingelse     | Filtrere data der en betingelse er oppfylt                     | `data[data['Utdanning'] > 10]`                          |\n",
    "| Sjekke manglende verdier               | Sjekker om det finnes manglende verdier i datasetet            | `data.isnull().sum()`                               |\n",
    "| Fylle manglende verdier                | Fyller inn manglende verdier med en gitt verdi                 | `data.fillna(0, inplace=True)`                      |\n",
    "| Beskrivelse av numeriske verdier        | Gir en statistisk oversikt over numeriske kolonner             | `data.describe()`                                   |\n",
    "| Sortere data (stigende)                | Sorterer data etter en kolonne i stigende rekkefølge            | `data.sort_values('kolonnenavn', ascending=True)`   |\n",
    "| Se datatyper                           | Viser datatypene til hver kolonne                              | `data.dtypes`                                       |\n",
    "| Konvertere datatype                    | Endrer datatype for en spesifikk kolonne                       | `data['kolonne'] = data['kolonne'].astype(float)`   |\n",
    "| Lese fra Excel-fil                     | Leser data fra en Excel-fil                                    | `data = pd.read_excel('filnavn.xlsx')`              |\n",
    "| Ny kolonne med beregninger             | Oppretter en ny kolonne som er et resultat av beregninger       | `data['new_column'] = data['kolonne1'] / data['kolonne2']` |\n",
    "| Finne duplikater                       | Sjekker om det finnes dupliserte rader                         | `data.duplicated()`                                 |\n",
    "| Fjerne duplikater                      | Fjerner dupliserte rader                                       | `data.drop_duplicates(inplace=True)`                |\n",
    "| Histogram                              | Lager et histogram for en spesifikk kolonne                    | `data['kolonnenavn'].plot(kind='hist')`             |\n",
    "| Konvertere til datetime                | Konverterer en kolonne til datetime-objekter                   | `data['dato'] = pd.to_datetime(data['dato'])`       |\n",
    "\n",
    "... og det er mange, mange fler. Det vil dere få testa dere på gjennom oppgavene. Kommer du over et problem du ikke har sett før, prøv å google det. Lurer du på noe, så har noen lurt på det samme før deg :-)\n",
    "\n",
    "## Eksempelbruk av operasjoner på dataframe's\n",
    "Siden vi allerede har kjørt kodeblokken over, har vi variabelen ```df```, som inneholder dataframe'n med data fra 'schooling-gdp.csv'-filen vår."
   ]
  },
  {
   "cell_type": "code",
   "execution_count": 83,
   "id": "cb2a0e9c",
   "metadata": {},
   "outputs": [
    {
     "name": "stdout",
     "output_type": "stream",
     "text": [
      "Index(['Land', 'Landkode', 'BNP_per_capita', 'Utdanning', 'Befolkning'], dtype='object')\n"
     ]
    }
   ],
   "source": [
    "# 1. Viser kolonneoverskriftene\n",
    "print(df.columns)"
   ]
  },
  {
   "cell_type": "markdown",
   "id": "2da198bd",
   "metadata": {},
   "source": [
    "Her ser i at vi får navn på alle kolonnene i dataframe'n vår. Nyttig inspeksjon!"
   ]
  },
  {
   "cell_type": "code",
   "execution_count": 85,
   "id": "8c77a09c",
   "metadata": {},
   "outputs": [
    {
     "name": "stdout",
     "output_type": "stream",
     "text": [
      "0      73262.68000\n",
      "1      67029.52300\n",
      "2      57882.80900\n",
      "3      55688.02000\n",
      "4      49500.62900\n",
      "          ...     \n",
      "101      972.04572\n",
      "102      969.23077\n",
      "103      845.86932\n",
      "104      786.67023\n",
      "105      634.97137\n",
      "Name: BNP_per_capita, Length: 106, dtype: float64\n"
     ]
    },
    {
     "data": {
      "text/plain": [
       "73262.68"
      ]
     },
     "execution_count": 85,
     "metadata": {},
     "output_type": "execute_result"
    }
   ],
   "source": [
    "# 2. Velg en spesifikk kolonne (BNP per capita)\n",
    "bnp_column = df['BNP_per_capita']\n",
    "print(bnp_column)\n",
    "\n",
    "bnp_column[0]"
   ]
  },
  {
   "cell_type": "markdown",
   "id": "dbc11c08",
   "metadata": {},
   "source": [
    "Her ser vi verdiene for kolonnen 'BNP_per_capita', vi ser kolonnens 'Name', 'Length' (altså hvor mange tall) og 'dtype' (her har vi et flyttall (float))."
   ]
  },
  {
   "cell_type": "code",
   "execution_count": 86,
   "id": "57b54418",
   "metadata": {},
   "outputs": [
    {
     "name": "stdout",
     "output_type": "stream",
     "text": [
      "                   Land Landkode  BNP_per_capita  Utdanning  Befolkning\n",
      "0                Norway      NOR      73262.6800      11.65     4886000\n",
      "2            Luxembourg      LUX      57882.8090      11.33      508000\n",
      "3           Switzerland      CHE      55688.0200      12.92     7809000\n",
      "4         United States      USA      49500.6290      13.24   309011008\n",
      "5               Ireland      IRL      47823.5040      12.45     4554000\n",
      "6             Australia      AUS      44854.9020      11.69    22155000\n",
      "7           Netherlands      NLD      44004.1450      11.71    16683000\n",
      "8               Denmark      DNK      43416.2230      11.97     5555000\n",
      "9             Hong Kong      HKG      41687.9490      12.20     6966000\n",
      "10              Germany      DEU      40627.2300      12.58    80827000\n",
      "11              Austria      AUT      40489.8090      10.13     8410000\n",
      "12               Sweden      SWE      40421.9060      11.95     9390000\n",
      "13               Canada      CAN      40269.0310      12.74    34148000\n",
      "14              Finland      FIN      38394.0590      10.71     5366000\n",
      "15              Belgium      BEL      38177.9450      11.29    10939000\n",
      "16              Iceland      ISL      37729.0160      11.48      320000\n",
      "17               Taiwan      TWN      37188.8950      11.96    23188000\n",
      "18                Japan      JPN      36595.6330      12.44   128542000\n",
      "19               France      FRA      35786.1600      11.34    62880000\n",
      "20       United Kingdom      GBR      34810.2810      12.46    63460000\n",
      "21                Italy      ITA      34727.6760      10.71    59325000\n",
      "22                Spain      ESP      31610.9800      10.75    46931000\n",
      "23          South Korea      KOR      31589.7050      12.96    49546000\n",
      "24          New Zealand      NZL      30867.0530      11.12     4370000\n",
      "25               Cyprus      CYP      28046.3750      11.76     1113000\n",
      "26  Trinidad and Tobago      TTO      27510.2360      10.96     1328000\n",
      "27              Czechia      CZE      26129.5680      12.80    10537000\n",
      "28               Greece      GRC      25815.7990      11.36    10888000\n",
      "30                Malta      MLT      22983.4510      11.06      414000\n",
      "31               Russia      RUS      21754.0660      12.02   143479008\n",
      "32               Poland      POL      21006.0270      11.62    38330000\n",
      "33              Hungary      HUN      20477.7990      11.98     9927000\n",
      "34                Chile      CHL      18092.9410      10.35    17063000\n",
      "36             Malaysia      MYS      17913.1640      10.89    28208000\n",
      "38              Romania      ROU      16775.6090      11.08    20472000\n",
      "44             Bulgaria      BGR      14906.7850      11.07     7425000\n",
      "50               Serbia      SRB      12453.4820      11.52     8991000\n",
      "56              Albania      ALB       9544.7402      10.44     2948000\n",
      "63            Sri Lanka      LKA       8390.4297      10.67    20262000\n",
      "67                 Fiji      FJI       6902.0688      10.35      860000\n",
      "69              Jamaica      JAM       6675.1768      10.33     2810000\n"
     ]
    }
   ],
   "source": [
    "# 3. Filtrer rader basert på en betingelse (land med utdanning > 10 år)\n",
    "high_education = df[df['Utdanning'] > 10]\n",
    "print(high_education)"
   ]
  },
  {
   "cell_type": "markdown",
   "id": "70347cfc",
   "metadata": {},
   "source": [
    "Her får vi listet opp alle landene som har at 'Utdanning' er over 10 år."
   ]
  },
  {
   "cell_type": "code",
   "execution_count": 88,
   "id": "0aa2578e",
   "metadata": {},
   "outputs": [
    {
     "data": {
      "text/html": [
       "<div>\n",
       "<style scoped>\n",
       "    .dataframe tbody tr th:only-of-type {\n",
       "        vertical-align: middle;\n",
       "    }\n",
       "\n",
       "    .dataframe tbody tr th {\n",
       "        vertical-align: top;\n",
       "    }\n",
       "\n",
       "    .dataframe thead th {\n",
       "        text-align: right;\n",
       "    }\n",
       "</style>\n",
       "<table border=\"1\" class=\"dataframe\">\n",
       "  <thead>\n",
       "    <tr style=\"text-align: right;\">\n",
       "      <th></th>\n",
       "      <th>Land</th>\n",
       "      <th>Landkode</th>\n",
       "      <th>BNP_per_capita</th>\n",
       "      <th>Utdanning</th>\n",
       "      <th>Befolkning</th>\n",
       "    </tr>\n",
       "  </thead>\n",
       "  <tbody>\n",
       "    <tr>\n",
       "      <th>0</th>\n",
       "      <td>Norway</td>\n",
       "      <td>NOR</td>\n",
       "      <td>73262.68000</td>\n",
       "      <td>11.65</td>\n",
       "      <td>4886000</td>\n",
       "    </tr>\n",
       "    <tr>\n",
       "      <th>1</th>\n",
       "      <td>Kuwait</td>\n",
       "      <td>KWT</td>\n",
       "      <td>67029.52300</td>\n",
       "      <td>6.39</td>\n",
       "      <td>2992000</td>\n",
       "    </tr>\n",
       "    <tr>\n",
       "      <th>2</th>\n",
       "      <td>Luxembourg</td>\n",
       "      <td>LUX</td>\n",
       "      <td>57882.80900</td>\n",
       "      <td>11.33</td>\n",
       "      <td>508000</td>\n",
       "    </tr>\n",
       "    <tr>\n",
       "      <th>3</th>\n",
       "      <td>Switzerland</td>\n",
       "      <td>CHE</td>\n",
       "      <td>55688.02000</td>\n",
       "      <td>12.92</td>\n",
       "      <td>7809000</td>\n",
       "    </tr>\n",
       "    <tr>\n",
       "      <th>4</th>\n",
       "      <td>United States</td>\n",
       "      <td>USA</td>\n",
       "      <td>49500.62900</td>\n",
       "      <td>13.24</td>\n",
       "      <td>309011008</td>\n",
       "    </tr>\n",
       "    <tr>\n",
       "      <th>...</th>\n",
       "      <td>...</td>\n",
       "      <td>...</td>\n",
       "      <td>...</td>\n",
       "      <td>...</td>\n",
       "      <td>...</td>\n",
       "    </tr>\n",
       "    <tr>\n",
       "      <th>101</th>\n",
       "      <td>Malawi</td>\n",
       "      <td>MWI</td>\n",
       "      <td>972.04572</td>\n",
       "      <td>5.01</td>\n",
       "      <td>14540000</td>\n",
       "    </tr>\n",
       "    <tr>\n",
       "      <th>102</th>\n",
       "      <td>Mozambique</td>\n",
       "      <td>MOZ</td>\n",
       "      <td>969.23077</td>\n",
       "      <td>2.03</td>\n",
       "      <td>23532000</td>\n",
       "    </tr>\n",
       "    <tr>\n",
       "      <th>103</th>\n",
       "      <td>Niger</td>\n",
       "      <td>NER</td>\n",
       "      <td>845.86932</td>\n",
       "      <td>1.95</td>\n",
       "      <td>16464000</td>\n",
       "    </tr>\n",
       "    <tr>\n",
       "      <th>104</th>\n",
       "      <td>Liberia</td>\n",
       "      <td>LBR</td>\n",
       "      <td>786.67023</td>\n",
       "      <td>4.35</td>\n",
       "      <td>3891000</td>\n",
       "    </tr>\n",
       "    <tr>\n",
       "      <th>105</th>\n",
       "      <td>Democratic Republic of Congo</td>\n",
       "      <td>COD</td>\n",
       "      <td>634.97137</td>\n",
       "      <td>3.79</td>\n",
       "      <td>64564000</td>\n",
       "    </tr>\n",
       "  </tbody>\n",
       "</table>\n",
       "<p>106 rows × 5 columns</p>\n",
       "</div>"
      ],
      "text/plain": [
       "                             Land Landkode  BNP_per_capita  Utdanning  \\\n",
       "0                          Norway      NOR     73262.68000      11.65   \n",
       "1                          Kuwait      KWT     67029.52300       6.39   \n",
       "2                      Luxembourg      LUX     57882.80900      11.33   \n",
       "3                     Switzerland      CHE     55688.02000      12.92   \n",
       "4                   United States      USA     49500.62900      13.24   \n",
       "..                            ...      ...             ...        ...   \n",
       "101                        Malawi      MWI       972.04572       5.01   \n",
       "102                    Mozambique      MOZ       969.23077       2.03   \n",
       "103                         Niger      NER       845.86932       1.95   \n",
       "104                       Liberia      LBR       786.67023       4.35   \n",
       "105  Democratic Republic of Congo      COD       634.97137       3.79   \n",
       "\n",
       "     Befolkning  \n",
       "0       4886000  \n",
       "1       2992000  \n",
       "2        508000  \n",
       "3       7809000  \n",
       "4     309011008  \n",
       "..          ...  \n",
       "101    14540000  \n",
       "102    23532000  \n",
       "103    16464000  \n",
       "104     3891000  \n",
       "105    64564000  \n",
       "\n",
       "[106 rows x 5 columns]"
      ]
     },
     "execution_count": 88,
     "metadata": {},
     "output_type": "execute_result"
    }
   ],
   "source": [
    "df"
   ]
  },
  {
   "cell_type": "code",
   "execution_count": 87,
   "id": "5a2fa953",
   "metadata": {},
   "outputs": [
    {
     "name": "stdout",
     "output_type": "stream",
     "text": [
      "Land              0\n",
      "Landkode          0\n",
      "BNP_per_capita    0\n",
      "Utdanning         0\n",
      "Befolkning        0\n",
      "dtype: int64\n"
     ]
    }
   ],
   "source": [
    "# 4. Sjekke om det finnes noen manglende verdier\n",
    "missing_values = df.isnull().sum()\n",
    "print(missing_values)"
   ]
  },
  {
   "cell_type": "markdown",
   "id": "377260b4",
   "metadata": {},
   "source": [
    "Denne koden sjekker om det er manglende verdier i datasettet vårt. Her er det '0' i alle kolonnene, som betyr at det er data i alle cellene i dataframe'n, men jobber man med ekte data - trenger det slett ikke være tilfelle."
   ]
  },
  {
   "cell_type": "code",
   "execution_count": 89,
   "id": "bf7b5a02",
   "metadata": {},
   "outputs": [],
   "source": [
    "# 5. Fyll manglende verdier (hvis det var noen) med 0\n",
    "df.fillna(0, inplace=True)"
   ]
  },
  {
   "cell_type": "markdown",
   "id": "4889e0ac",
   "metadata": {},
   "source": [
    "Koden over vil fulle inn '0' der det er manglende verdier. Men det kan godt tenkes man burde ta gjennomsnitt, median eller en annen verdi her."
   ]
  },
  {
   "cell_type": "code",
   "execution_count": 90,
   "id": "3339004f",
   "metadata": {},
   "outputs": [
    {
     "name": "stdout",
     "output_type": "stream",
     "text": [
      "       BNP_per_capita   Utdanning    Befolkning\n",
      "count      106.000000  106.000000  1.060000e+02\n",
      "mean     17295.935035    8.629434  5.755919e+07\n",
      "std      16527.233275    2.918427  1.807718e+08\n",
      "min        634.971370    1.950000  2.820000e+05\n",
      "25%       4037.425625    6.425000  6.290000e+06\n",
      "50%      11444.386500    8.745000  1.482050e+07\n",
      "75%      27165.069000   11.110000  4.025450e+07\n",
      "max      73262.680000   13.240000  1.368811e+09\n"
     ]
    }
   ],
   "source": [
    "# 6. Beskrivelse av numeriske verdier\n",
    "description = df.describe()\n",
    "print(description)"
   ]
  },
  {
   "cell_type": "markdown",
   "id": "2277f212",
   "metadata": {},
   "source": [
    "Her får vi en beskrivelse av de numeriske verdiene i dataframe'n. "
   ]
  },
  {
   "cell_type": "code",
   "execution_count": 93,
   "id": "d484bafc",
   "metadata": {},
   "outputs": [
    {
     "name": "stdout",
     "output_type": "stream",
     "text": [
      "                             Land Landkode  BNP_per_capita  Utdanning  \\\n",
      "105  Democratic Republic of Congo      COD       634.97137       3.79   \n",
      "104                       Liberia      LBR       786.67023       4.35   \n",
      "103                         Niger      NER       845.86932       1.95   \n",
      "102                    Mozambique      MOZ       969.23077       2.03   \n",
      "101                        Malawi      MWI       972.04572       5.01   \n",
      "..                            ...      ...             ...        ...   \n",
      "4                   United States      USA     49500.62900      13.24   \n",
      "3                     Switzerland      CHE     55688.02000      12.92   \n",
      "2                      Luxembourg      LUX     57882.80900      11.33   \n",
      "1                          Kuwait      KWT     67029.52300       6.39   \n",
      "0                          Norway      NOR     73262.68000      11.65   \n",
      "\n",
      "     Befolkning  \n",
      "105    64564000  \n",
      "104     3891000  \n",
      "103    16464000  \n",
      "102    23532000  \n",
      "101    14540000  \n",
      "..          ...  \n",
      "4     309011008  \n",
      "3       7809000  \n",
      "2        508000  \n",
      "1       2992000  \n",
      "0       4886000  \n",
      "\n",
      "[106 rows x 5 columns]\n"
     ]
    }
   ],
   "source": [
    "# 7. Sortere data etter BNP per capita (stigende)\n",
    "sorted_data = df.sort_values('BNP_per_capita', ascending=True)\n",
    "print(sorted_data)"
   ]
  },
  {
   "cell_type": "markdown",
   "id": "bd9b5cd2",
   "metadata": {},
   "source": [
    "Her har vi sortert data'en i stigende rekkefølge, basert på variablen 'BNP_per_capita'. Hadde vi satt ```ascending=False```, ville det være i synkende rekkefølge!"
   ]
  },
  {
   "cell_type": "code",
   "execution_count": 94,
   "id": "9e688f74",
   "metadata": {},
   "outputs": [
    {
     "name": "stdout",
     "output_type": "stream",
     "text": [
      "Land               object\n",
      "Landkode           object\n",
      "BNP_per_capita    float64\n",
      "Utdanning         float64\n",
      "Befolkning          int64\n",
      "dtype: object\n"
     ]
    }
   ],
   "source": [
    "# 8. Se datatypene\n",
    "data_types = df.dtypes\n",
    "print(data_types)"
   ]
  },
  {
   "cell_type": "markdown",
   "id": "cea1ec87",
   "metadata": {},
   "source": [
    "Her ser vi datatypene til kolonnene våre."
   ]
  },
  {
   "cell_type": "code",
   "execution_count": 95,
   "id": "b15e7e73",
   "metadata": {},
   "outputs": [
    {
     "data": {
      "text/html": [
       "<div>\n",
       "<style scoped>\n",
       "    .dataframe tbody tr th:only-of-type {\n",
       "        vertical-align: middle;\n",
       "    }\n",
       "\n",
       "    .dataframe tbody tr th {\n",
       "        vertical-align: top;\n",
       "    }\n",
       "\n",
       "    .dataframe thead th {\n",
       "        text-align: right;\n",
       "    }\n",
       "</style>\n",
       "<table border=\"1\" class=\"dataframe\">\n",
       "  <thead>\n",
       "    <tr style=\"text-align: right;\">\n",
       "      <th></th>\n",
       "      <th>Land</th>\n",
       "      <th>Landkode</th>\n",
       "      <th>BNP_per_capita</th>\n",
       "      <th>Utdanning</th>\n",
       "      <th>Befolkning</th>\n",
       "    </tr>\n",
       "  </thead>\n",
       "  <tbody>\n",
       "    <tr>\n",
       "      <th>0</th>\n",
       "      <td>Norway</td>\n",
       "      <td>NOR</td>\n",
       "      <td>73262.680</td>\n",
       "      <td>11.65</td>\n",
       "      <td>4886000</td>\n",
       "    </tr>\n",
       "    <tr>\n",
       "      <th>1</th>\n",
       "      <td>Kuwait</td>\n",
       "      <td>KWT</td>\n",
       "      <td>67029.523</td>\n",
       "      <td>6.39</td>\n",
       "      <td>2992000</td>\n",
       "    </tr>\n",
       "    <tr>\n",
       "      <th>2</th>\n",
       "      <td>Luxembourg</td>\n",
       "      <td>LUX</td>\n",
       "      <td>57882.809</td>\n",
       "      <td>11.33</td>\n",
       "      <td>508000</td>\n",
       "    </tr>\n",
       "    <tr>\n",
       "      <th>3</th>\n",
       "      <td>Switzerland</td>\n",
       "      <td>CHE</td>\n",
       "      <td>55688.020</td>\n",
       "      <td>12.92</td>\n",
       "      <td>7809000</td>\n",
       "    </tr>\n",
       "    <tr>\n",
       "      <th>4</th>\n",
       "      <td>United States</td>\n",
       "      <td>USA</td>\n",
       "      <td>49500.629</td>\n",
       "      <td>13.24</td>\n",
       "      <td>309011008</td>\n",
       "    </tr>\n",
       "  </tbody>\n",
       "</table>\n",
       "</div>"
      ],
      "text/plain": [
       "            Land Landkode  BNP_per_capita  Utdanning  Befolkning\n",
       "0         Norway      NOR       73262.680      11.65     4886000\n",
       "1         Kuwait      KWT       67029.523       6.39     2992000\n",
       "2     Luxembourg      LUX       57882.809      11.33      508000\n",
       "3    Switzerland      CHE       55688.020      12.92     7809000\n",
       "4  United States      USA       49500.629      13.24   309011008"
      ]
     },
     "execution_count": 95,
     "metadata": {},
     "output_type": "execute_result"
    }
   ],
   "source": [
    "df.head()"
   ]
  },
  {
   "cell_type": "code",
   "execution_count": 96,
   "id": "86e20426",
   "metadata": {},
   "outputs": [
    {
     "data": {
      "text/plain": [
       "0        4886000.0\n",
       "1        2992000.0\n",
       "2         508000.0\n",
       "3        7809000.0\n",
       "4      309011008.0\n",
       "          ...     \n",
       "101     14540000.0\n",
       "102     23532000.0\n",
       "103     16464000.0\n",
       "104      3891000.0\n",
       "105     64564000.0\n",
       "Name: Befolkning, Length: 106, dtype: float64"
      ]
     },
     "execution_count": 96,
     "metadata": {},
     "output_type": "execute_result"
    }
   ],
   "source": [
    "# 9. Konvertere en kolonne til en annen datatype (Befolkning til float)\n",
    "df['Befolkning'] = df['Befolkning'].astype(float)\n",
    "df['Befolkning']"
   ]
  },
  {
   "cell_type": "markdown",
   "id": "295e64bf",
   "metadata": {},
   "source": [
    "Her ser vi at vi gjorde om 'Befolkning' fra heltall ('int64') til flyttall ('float64')."
   ]
  },
  {
   "cell_type": "code",
   "execution_count": 97,
   "id": "ebcb27f7",
   "metadata": {},
   "outputs": [
    {
     "data": {
      "text/html": [
       "<div>\n",
       "<style scoped>\n",
       "    .dataframe tbody tr th:only-of-type {\n",
       "        vertical-align: middle;\n",
       "    }\n",
       "\n",
       "    .dataframe tbody tr th {\n",
       "        vertical-align: top;\n",
       "    }\n",
       "\n",
       "    .dataframe thead th {\n",
       "        text-align: right;\n",
       "    }\n",
       "</style>\n",
       "<table border=\"1\" class=\"dataframe\">\n",
       "  <thead>\n",
       "    <tr style=\"text-align: right;\">\n",
       "      <th></th>\n",
       "      <th>Land</th>\n",
       "      <th>Landkode</th>\n",
       "      <th>BNP_per_capita</th>\n",
       "      <th>Utdanning</th>\n",
       "      <th>Befolkning</th>\n",
       "      <th>BNP_total</th>\n",
       "    </tr>\n",
       "  </thead>\n",
       "  <tbody>\n",
       "    <tr>\n",
       "      <th>0</th>\n",
       "      <td>Norway</td>\n",
       "      <td>NOR</td>\n",
       "      <td>73262.68000</td>\n",
       "      <td>11.65</td>\n",
       "      <td>4886000.0</td>\n",
       "      <td>3.579615e+11</td>\n",
       "    </tr>\n",
       "    <tr>\n",
       "      <th>1</th>\n",
       "      <td>Kuwait</td>\n",
       "      <td>KWT</td>\n",
       "      <td>67029.52300</td>\n",
       "      <td>6.39</td>\n",
       "      <td>2992000.0</td>\n",
       "      <td>2.005523e+11</td>\n",
       "    </tr>\n",
       "    <tr>\n",
       "      <th>2</th>\n",
       "      <td>Luxembourg</td>\n",
       "      <td>LUX</td>\n",
       "      <td>57882.80900</td>\n",
       "      <td>11.33</td>\n",
       "      <td>508000.0</td>\n",
       "      <td>2.940447e+10</td>\n",
       "    </tr>\n",
       "    <tr>\n",
       "      <th>3</th>\n",
       "      <td>Switzerland</td>\n",
       "      <td>CHE</td>\n",
       "      <td>55688.02000</td>\n",
       "      <td>12.92</td>\n",
       "      <td>7809000.0</td>\n",
       "      <td>4.348677e+11</td>\n",
       "    </tr>\n",
       "    <tr>\n",
       "      <th>4</th>\n",
       "      <td>United States</td>\n",
       "      <td>USA</td>\n",
       "      <td>49500.62900</td>\n",
       "      <td>13.24</td>\n",
       "      <td>309011008.0</td>\n",
       "      <td>1.529624e+13</td>\n",
       "    </tr>\n",
       "    <tr>\n",
       "      <th>...</th>\n",
       "      <td>...</td>\n",
       "      <td>...</td>\n",
       "      <td>...</td>\n",
       "      <td>...</td>\n",
       "      <td>...</td>\n",
       "      <td>...</td>\n",
       "    </tr>\n",
       "    <tr>\n",
       "      <th>101</th>\n",
       "      <td>Malawi</td>\n",
       "      <td>MWI</td>\n",
       "      <td>972.04572</td>\n",
       "      <td>5.01</td>\n",
       "      <td>14540000.0</td>\n",
       "      <td>1.413354e+10</td>\n",
       "    </tr>\n",
       "    <tr>\n",
       "      <th>102</th>\n",
       "      <td>Mozambique</td>\n",
       "      <td>MOZ</td>\n",
       "      <td>969.23077</td>\n",
       "      <td>2.03</td>\n",
       "      <td>23532000.0</td>\n",
       "      <td>2.280794e+10</td>\n",
       "    </tr>\n",
       "    <tr>\n",
       "      <th>103</th>\n",
       "      <td>Niger</td>\n",
       "      <td>NER</td>\n",
       "      <td>845.86932</td>\n",
       "      <td>1.95</td>\n",
       "      <td>16464000.0</td>\n",
       "      <td>1.392639e+10</td>\n",
       "    </tr>\n",
       "    <tr>\n",
       "      <th>104</th>\n",
       "      <td>Liberia</td>\n",
       "      <td>LBR</td>\n",
       "      <td>786.67023</td>\n",
       "      <td>4.35</td>\n",
       "      <td>3891000.0</td>\n",
       "      <td>3.060934e+09</td>\n",
       "    </tr>\n",
       "    <tr>\n",
       "      <th>105</th>\n",
       "      <td>Democratic Republic of Congo</td>\n",
       "      <td>COD</td>\n",
       "      <td>634.97137</td>\n",
       "      <td>3.79</td>\n",
       "      <td>64564000.0</td>\n",
       "      <td>4.099629e+10</td>\n",
       "    </tr>\n",
       "  </tbody>\n",
       "</table>\n",
       "<p>106 rows × 6 columns</p>\n",
       "</div>"
      ],
      "text/plain": [
       "                             Land Landkode  BNP_per_capita  Utdanning  \\\n",
       "0                          Norway      NOR     73262.68000      11.65   \n",
       "1                          Kuwait      KWT     67029.52300       6.39   \n",
       "2                      Luxembourg      LUX     57882.80900      11.33   \n",
       "3                     Switzerland      CHE     55688.02000      12.92   \n",
       "4                   United States      USA     49500.62900      13.24   \n",
       "..                            ...      ...             ...        ...   \n",
       "101                        Malawi      MWI       972.04572       5.01   \n",
       "102                    Mozambique      MOZ       969.23077       2.03   \n",
       "103                         Niger      NER       845.86932       1.95   \n",
       "104                       Liberia      LBR       786.67023       4.35   \n",
       "105  Democratic Republic of Congo      COD       634.97137       3.79   \n",
       "\n",
       "      Befolkning     BNP_total  \n",
       "0      4886000.0  3.579615e+11  \n",
       "1      2992000.0  2.005523e+11  \n",
       "2       508000.0  2.940447e+10  \n",
       "3      7809000.0  4.348677e+11  \n",
       "4    309011008.0  1.529624e+13  \n",
       "..           ...           ...  \n",
       "101   14540000.0  1.413354e+10  \n",
       "102   23532000.0  2.280794e+10  \n",
       "103   16464000.0  1.392639e+10  \n",
       "104    3891000.0  3.060934e+09  \n",
       "105   64564000.0  4.099629e+10  \n",
       "\n",
       "[106 rows x 6 columns]"
      ]
     },
     "execution_count": 97,
     "metadata": {},
     "output_type": "execute_result"
    }
   ],
   "source": [
    "# 10. Ny kolonne som er en funksjon av andre kolonner (BNP total)\n",
    "df['BNP_total'] = df['BNP_per_capita'] * df['Befolkning']\n",
    "df"
   ]
  },
  {
   "cell_type": "markdown",
   "id": "07ea78d4",
   "metadata": {},
   "source": [
    "Her lager vi en ny kolonner, som en funksjon av de to andre kolonnene, BNP og Befolkning."
   ]
  },
  {
   "cell_type": "code",
   "execution_count": 100,
   "id": "12144a30",
   "metadata": {},
   "outputs": [
    {
     "name": "stdout",
     "output_type": "stream",
     "text": [
      "0      False\n",
      "1      False\n",
      "2      False\n",
      "3      False\n",
      "4      False\n",
      "       ...  \n",
      "101    False\n",
      "102    False\n",
      "103    False\n",
      "104    False\n",
      "105    False\n",
      "Length: 106, dtype: bool\n",
      "Det er 0 duplikater i vårt datasett!\n"
     ]
    }
   ],
   "source": [
    "# 11. Finne dupliserte rader\n",
    "duplicates = df.duplicated()\n",
    "print(duplicates)\n",
    "\n",
    "print(f'Det er {sum(duplicates)} duplikater i vårt datasett!')"
   ]
  },
  {
   "cell_type": "markdown",
   "id": "cca08311",
   "metadata": {},
   "source": [
    "Her leter vi etter duplikater i data'en vår. Her ser alt ut til å være 'False' --> altså, ingen duplikater.\n",
    "\n",
    "Legg merke til at ```print(duplicates)``` viser 'False' for de første fem, og de siste 5 radene i dataframe'n. Men vanskelig å si noe om de mellom indeks 4 og indeks 101.\n",
    "\n",
    "Derfor har jeg skrevet ```print(sum(duplicates))```, for vi husker fra tidligere forelesning. Så behandles 'False' som tallet $0$ og 'True' som tallet $1$."
   ]
  },
  {
   "cell_type": "code",
   "execution_count": 101,
   "id": "fec36c22",
   "metadata": {},
   "outputs": [],
   "source": [
    "# 12. Fjerne duplikater\n",
    "df.drop_duplicates(inplace=True)"
   ]
  },
  {
   "cell_type": "markdown",
   "id": "645aa2a6",
   "metadata": {},
   "source": [
    "Hadde vi hatt duplikater (noe vi ikke har her), hadde vi nå fjernet dem! :-) "
   ]
  },
  {
   "cell_type": "code",
   "execution_count": 102,
   "id": "fd6a147c",
   "metadata": {},
   "outputs": [
    {
     "data": {
      "text/plain": [
       "<Axes: ylabel='Frequency'>"
      ]
     },
     "execution_count": 102,
     "metadata": {},
     "output_type": "execute_result"
    },
    {
     "data": {
      "image/png": "[encoded data removed]",
      "text/plain": [
       "<Figure size 640x480 with 1 Axes>"
      ]
     },
     "metadata": {},
     "output_type": "display_data"
    }
   ],
   "source": [
    "# 13. Plot et histogram over utdanningsnivå\n",
    "df['Utdanning'].plot(kind='hist')"
   ]
  },
  {
   "cell_type": "code",
   "execution_count": 103,
   "id": "ced56bba",
   "metadata": {},
   "outputs": [
    {
     "data": {
      "image/png": "[encoded data removed]",
      "text/plain": [
       "<Figure size 640x480 with 1 Axes>"
      ]
     },
     "metadata": {},
     "output_type": "display_data"
    }
   ],
   "source": [
    "import pandas as pd\n",
    "import matplotlib.pyplot as plt\n",
    "df = pd.read_csv('/Users/maaas6121/Library/CloudStorage/OneDrive-UiTOffice365/Skrivebord/Bachelor_Emner/SOK-1003/notebooks/data/schooling-gdp.csv') # Din vei til data.\n",
    "df.plot.scatter('BNP_per_capita','Utdanning')\n",
    "plt.show()"
   ]
  },
  {
   "cell_type": "markdown",
   "id": "8589c40d",
   "metadata": {},
   "source": [
    "# For-løkker i Python\n",
    "\n",
    "For-løkker er en viktig del av programmering som lar deg iterere over en sekvens (for eksempel en liste eller et intervall). I økonomi kan for-løkker være nyttige for å beregne totalverdier, avgifter, eller for å analysere datasett.\n",
    "\n",
    "## Syntaks\n",
    "\n",
    "```python\n",
    "for element in sekvens:\n",
    "    # Kodeblokk som kjøres for hvert element\n",
    "```\n",
    "\n",
    "En for-løkke består altså av følgende;\n",
    "\n",
    "| Komponent    | Beskrivelse                                                     | Eksempel                       |\n",
    "|--------------|---------------------------------------------------------------|-------------------------------|\n",
    "| **for**      | Starten av løkken.                                            | `for i in range(10):`        |\n",
    "| **Element**  | Variabelen som tar verdien til hvert element i sekvensen.    | `i`                           |\n",
    "| **Sekvens**  | Listen, området, eller annen itererbar datatype.              | `range(10)`, `list`          |\n",
    "| **Kodeblokk**    | Koden som utføres for hvert element i sekvensen.              | `print(i)`                   |"
   ]
  },
  {
   "cell_type": "code",
   "execution_count": 105,
   "id": "0245a122",
   "metadata": {},
   "outputs": [
    {
     "name": "stdout",
     "output_type": "stream",
     "text": [
      "1\n",
      "5\n",
      "7\n",
      "19\n",
      "25\n"
     ]
    }
   ],
   "source": [
    "liste = [1, 5, 7, 19, 25]\n",
    "\n",
    "for b in liste:\n",
    "    print(b)"
   ]
  },
  {
   "cell_type": "markdown",
   "id": "0c30e2e3",
   "metadata": {},
   "source": [
    "Vi ser at sammenhengen virker mer usikker for når utdanningsnivået og BNP per capita er høyt. Vi kan derfor bruke en `if`-setning til å kun ta med land med høyt BNP per capita eller høyt utdanningsnivå. Vi ønsker også å kun se på andre land en Norge. Da kan vi for eksempel kjøre denne koden:\n",
    "\n",
    "#### Eksempel 7:"
   ]
  },
  {
   "cell_type": "code",
   "execution_count": 113,
   "id": "502f7f1f",
   "metadata": {},
   "outputs": [
    {
     "data": {
      "text/html": [
       "<div>\n",
       "<style scoped>\n",
       "    .dataframe tbody tr th:only-of-type {\n",
       "        vertical-align: middle;\n",
       "    }\n",
       "\n",
       "    .dataframe tbody tr th {\n",
       "        vertical-align: top;\n",
       "    }\n",
       "\n",
       "    .dataframe thead th {\n",
       "        text-align: right;\n",
       "    }\n",
       "</style>\n",
       "<table border=\"1\" class=\"dataframe\">\n",
       "  <thead>\n",
       "    <tr style=\"text-align: right;\">\n",
       "      <th></th>\n",
       "      <th>Land</th>\n",
       "      <th>Landkode</th>\n",
       "      <th>BNP_per_capita</th>\n",
       "      <th>Utdanning</th>\n",
       "      <th>Befolkning</th>\n",
       "    </tr>\n",
       "  </thead>\n",
       "  <tbody>\n",
       "    <tr>\n",
       "      <th>0</th>\n",
       "      <td>Norway</td>\n",
       "      <td>NOR</td>\n",
       "      <td>73262.68000</td>\n",
       "      <td>11.65</td>\n",
       "      <td>4886000</td>\n",
       "    </tr>\n",
       "    <tr>\n",
       "      <th>1</th>\n",
       "      <td>Kuwait</td>\n",
       "      <td>KWT</td>\n",
       "      <td>67029.52300</td>\n",
       "      <td>6.39</td>\n",
       "      <td>2992000</td>\n",
       "    </tr>\n",
       "    <tr>\n",
       "      <th>2</th>\n",
       "      <td>Luxembourg</td>\n",
       "      <td>LUX</td>\n",
       "      <td>57882.80900</td>\n",
       "      <td>11.33</td>\n",
       "      <td>508000</td>\n",
       "    </tr>\n",
       "    <tr>\n",
       "      <th>3</th>\n",
       "      <td>Switzerland</td>\n",
       "      <td>CHE</td>\n",
       "      <td>55688.02000</td>\n",
       "      <td>12.92</td>\n",
       "      <td>7809000</td>\n",
       "    </tr>\n",
       "    <tr>\n",
       "      <th>4</th>\n",
       "      <td>United States</td>\n",
       "      <td>USA</td>\n",
       "      <td>49500.62900</td>\n",
       "      <td>13.24</td>\n",
       "      <td>309011008</td>\n",
       "    </tr>\n",
       "    <tr>\n",
       "      <th>...</th>\n",
       "      <td>...</td>\n",
       "      <td>...</td>\n",
       "      <td>...</td>\n",
       "      <td>...</td>\n",
       "      <td>...</td>\n",
       "    </tr>\n",
       "    <tr>\n",
       "      <th>101</th>\n",
       "      <td>Malawi</td>\n",
       "      <td>MWI</td>\n",
       "      <td>972.04572</td>\n",
       "      <td>5.01</td>\n",
       "      <td>14540000</td>\n",
       "    </tr>\n",
       "    <tr>\n",
       "      <th>102</th>\n",
       "      <td>Mozambique</td>\n",
       "      <td>MOZ</td>\n",
       "      <td>969.23077</td>\n",
       "      <td>2.03</td>\n",
       "      <td>23532000</td>\n",
       "    </tr>\n",
       "    <tr>\n",
       "      <th>103</th>\n",
       "      <td>Niger</td>\n",
       "      <td>NER</td>\n",
       "      <td>845.86932</td>\n",
       "      <td>1.95</td>\n",
       "      <td>16464000</td>\n",
       "    </tr>\n",
       "    <tr>\n",
       "      <th>104</th>\n",
       "      <td>Liberia</td>\n",
       "      <td>LBR</td>\n",
       "      <td>786.67023</td>\n",
       "      <td>4.35</td>\n",
       "      <td>3891000</td>\n",
       "    </tr>\n",
       "    <tr>\n",
       "      <th>105</th>\n",
       "      <td>Democratic Republic of Congo</td>\n",
       "      <td>COD</td>\n",
       "      <td>634.97137</td>\n",
       "      <td>3.79</td>\n",
       "      <td>64564000</td>\n",
       "    </tr>\n",
       "  </tbody>\n",
       "</table>\n",
       "<p>106 rows × 5 columns</p>\n",
       "</div>"
      ],
      "text/plain": [
       "                             Land Landkode  BNP_per_capita  Utdanning  \\\n",
       "0                          Norway      NOR     73262.68000      11.65   \n",
       "1                          Kuwait      KWT     67029.52300       6.39   \n",
       "2                      Luxembourg      LUX     57882.80900      11.33   \n",
       "3                     Switzerland      CHE     55688.02000      12.92   \n",
       "4                   United States      USA     49500.62900      13.24   \n",
       "..                            ...      ...             ...        ...   \n",
       "101                        Malawi      MWI       972.04572       5.01   \n",
       "102                    Mozambique      MOZ       969.23077       2.03   \n",
       "103                         Niger      NER       845.86932       1.95   \n",
       "104                       Liberia      LBR       786.67023       4.35   \n",
       "105  Democratic Republic of Congo      COD       634.97137       3.79   \n",
       "\n",
       "     Befolkning  \n",
       "0       4886000  \n",
       "1       2992000  \n",
       "2        508000  \n",
       "3       7809000  \n",
       "4     309011008  \n",
       "..          ...  \n",
       "101    14540000  \n",
       "102    23532000  \n",
       "103    16464000  \n",
       "104     3891000  \n",
       "105    64564000  \n",
       "\n",
       "[106 rows x 5 columns]"
      ]
     },
     "execution_count": 113,
     "metadata": {},
     "output_type": "execute_result"
    }
   ],
   "source": [
    "df"
   ]
  },
  {
   "cell_type": "code",
   "execution_count": 114,
   "id": "1fef502f",
   "metadata": {},
   "outputs": [
    {
     "data": {
      "text/plain": [
       "Land              Switzerland\n",
       "Landkode                  CHE\n",
       "BNP_per_capita       55688.02\n",
       "Utdanning               12.92\n",
       "Befolkning            7809000\n",
       "Name: 3, dtype: object"
      ]
     },
     "execution_count": 114,
     "metadata": {},
     "output_type": "execute_result"
    }
   ],
   "source": [
    "df.iloc[3]"
   ]
  },
  {
   "cell_type": "code",
   "execution_count": 116,
   "id": "2c69080d",
   "metadata": {},
   "outputs": [
    {
     "data": {
      "image/png": "[encoded data removed]",
      "text/plain": [
       "<Figure size 640x480 with 1 Axes>"
      ]
     },
     "metadata": {},
     "output_type": "display_data"
    }
   ],
   "source": [
    "# Lager en tom liste\n",
    "index_list = []\n",
    "\n",
    "for index, (country,code,gdp_cap,edu,pop) in df.iterrows():\n",
    "    if (gdp_cap>20000 and country != 'Norway') and edu > 10:\n",
    "        index_list.append(index)\n",
    "    \n",
    "index_list\n",
    "\n",
    "df_filtered = df[df.index.isin(index_list)]\n",
    "\n",
    "df_filtered.plot.scatter('BNP_per_capita','Utdanning')\n",
    "\n",
    "plt.show()"
   ]
  },
  {
   "cell_type": "markdown",
   "id": "9588c610",
   "metadata": {},
   "source": [
    "Her lager vi en liste, og legger til indeksen til hvert element i datarammen `df` som skal inkluderes. Vi velger så ut radene i datarammen med disse indeksene med `dataframe`-funksjonen `isin()`. Funksjonens navn kommer fra *is in*, så den tester altså om index_list er i datarammen `df`. Som vi ser, ser det ut til å være er det liten sammenheng mellom BNP per capita og utdanningsnivå for disse observasjonene. "
   ]
  },
  {
   "cell_type": "markdown",
   "id": "694222ac",
   "metadata": {},
   "source": [
    "#### Tips:\n",
    "Vi kan også gjøre filtreringer direkte når vi viser dataene, men da må vi bruke \"bitvis\" sammenligning. Her er `and` lik `&` og `or` lik `|`"
   ]
  },
  {
   "cell_type": "code",
   "execution_count": 117,
   "id": "6d934bfd",
   "metadata": {},
   "outputs": [
    {
     "data": {
      "text/plain": [
       "<Axes: xlabel='BNP_per_capita', ylabel='Utdanning'>"
      ]
     },
     "execution_count": 117,
     "metadata": {},
     "output_type": "execute_result"
    },
    {
     "data": {
      "image/png": "[encoded data removed]",
      "text/plain": [
       "<Figure size 640x480 with 1 Axes>"
      ]
     },
     "metadata": {},
     "output_type": "display_data"
    }
   ],
   "source": [
    "df[((df[\"Utdanning\"]>11) | (df[\"BNP_per_capita\"]>30000))].plot.scatter(\"BNP_per_capita\", \"Utdanning\")"
   ]
  },
  {
   "cell_type": "markdown",
   "id": "5162bc44",
   "metadata": {},
   "source": [
    "## SeaBorn - bygge på matplotlib\n",
    "Seaborn er et kraftig Python-bibliotek for visualiseringer bygget på toppen av Matplotlib. Det er spesielt designet for å håndtere statistiske grafer og integrerer godt med Pandas og Numpy, som gjør det enklere å lage komplekse visualiseringer med få linjer kode.\n",
    "\n",
    "### Heatmap - korrelasjon mellom numeriske variabler"
   ]
  },
  {
   "cell_type": "code",
   "execution_count": 118,
   "id": "bf052092",
   "metadata": {},
   "outputs": [
    {
     "data": {
      "image/png": "[encoded data removed]",
      "text/plain": [
       "<Figure size 800x600 with 2 Axes>"
      ]
     },
     "metadata": {},
     "output_type": "display_data"
    }
   ],
   "source": [
    "import numpy as np \n",
    "import seaborn as sns\n",
    "\n",
    "# Filtrere ut kun numeriske kolonner\n",
    "df_numeric = df.select_dtypes(include=[np.number])\n",
    "\n",
    "# Plot correlation heatmap\n",
    "plt.figure(figsize=(8, 6))\n",
    "sns.heatmap(df_numeric.corr(), annot=True, cmap='coolwarm')\n",
    "plt.title('Correlation Heatmap')\n",
    "plt.show()"
   ]
  },
  {
   "cell_type": "markdown",
   "id": "719fac0f",
   "metadata": {},
   "source": [
    "### Forklaring av Heatmap:\n",
    "\n",
    "1. **Korrelasjon:**\n",
    "   Et korrelasjonsheatmap viser sammenhengen mellom numeriske variabler i datasettet ditt. Korrelasjon måler hvor sterkt to variabler henger sammen, og verdiene spenner fra -1 til 1:\n",
    "   \n",
    "   - **1:** Perfekt positiv korrelasjon (når en variabel øker, øker også den andre).\n",
    "   - **0:** Ingen korrelasjon (ingen lineær sammenheng mellom variablene).\n",
    "   - **-1:** Perfekt negativ korrelasjon (når en variabel øker, synker den andre).\n",
    "\n",
    "2. **Heatmap-fargene:**\n",
    "   Fargene i heatmap'et representerer korrelasjonsverdiene:\n",
    "   \n",
    "   - **Røde områder:** Indikerer en negativ korrelasjon (mørkere rødfarge betyr sterkere negativ korrelasjon).\n",
    "   - **Blå områder:** Indikerer en positiv korrelasjon (jo mørkere blå, jo sterkere positiv korrelasjon).\n",
    "   - **Hvite områder:** Indikerer korrelasjoner nær null, altså liten eller ingen lineær sammenheng mellom variablene.\n",
    "\n",
    "3. **Diagonal:**\n",
    "   På diagonalen i heatmap’et vil du se verdien 1 fordi hver variabel er perfekt korrelert med seg selv.\n",
    "\n",
    "### Hvordan tolke heatmap’et:\n",
    "- **Styrken på sammenhengen:** Du ser på hvor nær korrelasjonen er 1 (positiv sammenheng) eller -1 (negativ sammenheng).\n",
    "- **Mønster:** Du kan identifisere grupper av variabler som er sterkt korrelert med hverandre, noe som kan være nyttig i analysen. For eksempel, hvis flere variabler er sterkt korrelert, kan det indikere at de påvirkes av lignende faktorer.\n",
    "\n",
    "### Eksempel:\n",
    "Hvis du har et datasett med variabler som `BNP_per_capita`, `Utdanning`, og `Befolkning`, kan heatmap’et over vise at høyere utdanningsnivå er knyttet til høyere BNP per innbygger. Det ser vi fordi `BNP_per_capita` og `Utdanning` har en korrelasjon på 0.72, noe som betyr det at disse to variablene har en sterk positiv lineær sammenheng."
   ]
  },
  {
   "cell_type": "markdown",
   "id": "1dd7d263",
   "metadata": {},
   "source": [
    "## Oppgaver:\n",
    "I statistikk-kurs, så brukes ofte et datasett kalt 'iris' for å lære seg databehandling. Det ble brukt av den britiske statistikeren og biologen Ronald Fisher. Selv om det ikke er et økonomisk datasett, skal vi se på det i oppgavene her.\n",
    "\n",
    "### Oppgave 1 - Grunnleggende utforskning av Iris-datasettet\n",
    "1. Last inn filen med å kjøre følgende kode:\n",
    "```python\n",
    "        iris = pd.read_csv('https://raw.githubusercontent.com/mwaskom/seaborn-data/master/iris.csv')\n",
    "```\n",
    "Skriv ut de første fem radene.\n",
    "\n",
    "2. Finn ut hvor mange rader og kolonner datasettet har.\n",
    "3. Sjekk om datasettet inneholder manglende verdier.\n",
    "4. Beregn gjennomsnittet for hver kolonne som inneholder numeriske verdier."
   ]
  },
  {
   "cell_type": "code",
   "execution_count": 119,
   "id": "f5b427d8",
   "metadata": {},
   "outputs": [
    {
     "data": {
      "text/html": [
       "<div>\n",
       "<style scoped>\n",
       "    .dataframe tbody tr th:only-of-type {\n",
       "        vertical-align: middle;\n",
       "    }\n",
       "\n",
       "    .dataframe tbody tr th {\n",
       "        vertical-align: top;\n",
       "    }\n",
       "\n",
       "    .dataframe thead th {\n",
       "        text-align: right;\n",
       "    }\n",
       "</style>\n",
       "<table border=\"1\" class=\"dataframe\">\n",
       "  <thead>\n",
       "    <tr style=\"text-align: right;\">\n",
       "      <th></th>\n",
       "      <th>sepal_length</th>\n",
       "      <th>sepal_width</th>\n",
       "      <th>petal_length</th>\n",
       "      <th>petal_width</th>\n",
       "      <th>species</th>\n",
       "    </tr>\n",
       "  </thead>\n",
       "  <tbody>\n",
       "    <tr>\n",
       "      <th>0</th>\n",
       "      <td>5.1</td>\n",
       "      <td>3.5</td>\n",
       "      <td>1.4</td>\n",
       "      <td>0.2</td>\n",
       "      <td>setosa</td>\n",
       "    </tr>\n",
       "    <tr>\n",
       "      <th>1</th>\n",
       "      <td>4.9</td>\n",
       "      <td>3.0</td>\n",
       "      <td>1.4</td>\n",
       "      <td>0.2</td>\n",
       "      <td>setosa</td>\n",
       "    </tr>\n",
       "    <tr>\n",
       "      <th>2</th>\n",
       "      <td>4.7</td>\n",
       "      <td>3.2</td>\n",
       "      <td>1.3</td>\n",
       "      <td>0.2</td>\n",
       "      <td>setosa</td>\n",
       "    </tr>\n",
       "    <tr>\n",
       "      <th>3</th>\n",
       "      <td>4.6</td>\n",
       "      <td>3.1</td>\n",
       "      <td>1.5</td>\n",
       "      <td>0.2</td>\n",
       "      <td>setosa</td>\n",
       "    </tr>\n",
       "    <tr>\n",
       "      <th>4</th>\n",
       "      <td>5.0</td>\n",
       "      <td>3.6</td>\n",
       "      <td>1.4</td>\n",
       "      <td>0.2</td>\n",
       "      <td>setosa</td>\n",
       "    </tr>\n",
       "    <tr>\n",
       "      <th>...</th>\n",
       "      <td>...</td>\n",
       "      <td>...</td>\n",
       "      <td>...</td>\n",
       "      <td>...</td>\n",
       "      <td>...</td>\n",
       "    </tr>\n",
       "    <tr>\n",
       "      <th>145</th>\n",
       "      <td>6.7</td>\n",
       "      <td>3.0</td>\n",
       "      <td>5.2</td>\n",
       "      <td>2.3</td>\n",
       "      <td>virginica</td>\n",
       "    </tr>\n",
       "    <tr>\n",
       "      <th>146</th>\n",
       "      <td>6.3</td>\n",
       "      <td>2.5</td>\n",
       "      <td>5.0</td>\n",
       "      <td>1.9</td>\n",
       "      <td>virginica</td>\n",
       "    </tr>\n",
       "    <tr>\n",
       "      <th>147</th>\n",
       "      <td>6.5</td>\n",
       "      <td>3.0</td>\n",
       "      <td>5.2</td>\n",
       "      <td>2.0</td>\n",
       "      <td>virginica</td>\n",
       "    </tr>\n",
       "    <tr>\n",
       "      <th>148</th>\n",
       "      <td>6.2</td>\n",
       "      <td>3.4</td>\n",
       "      <td>5.4</td>\n",
       "      <td>2.3</td>\n",
       "      <td>virginica</td>\n",
       "    </tr>\n",
       "    <tr>\n",
       "      <th>149</th>\n",
       "      <td>5.9</td>\n",
       "      <td>3.0</td>\n",
       "      <td>5.1</td>\n",
       "      <td>1.8</td>\n",
       "      <td>virginica</td>\n",
       "    </tr>\n",
       "  </tbody>\n",
       "</table>\n",
       "<p>150 rows × 5 columns</p>\n",
       "</div>"
      ],
      "text/plain": [
       "     sepal_length  sepal_width  petal_length  petal_width    species\n",
       "0             5.1          3.5           1.4          0.2     setosa\n",
       "1             4.9          3.0           1.4          0.2     setosa\n",
       "2             4.7          3.2           1.3          0.2     setosa\n",
       "3             4.6          3.1           1.5          0.2     setosa\n",
       "4             5.0          3.6           1.4          0.2     setosa\n",
       "..            ...          ...           ...          ...        ...\n",
       "145           6.7          3.0           5.2          2.3  virginica\n",
       "146           6.3          2.5           5.0          1.9  virginica\n",
       "147           6.5          3.0           5.2          2.0  virginica\n",
       "148           6.2          3.4           5.4          2.3  virginica\n",
       "149           5.9          3.0           5.1          1.8  virginica\n",
       "\n",
       "[150 rows x 5 columns]"
      ]
     },
     "execution_count": 119,
     "metadata": {},
     "output_type": "execute_result"
    }
   ],
   "source": [
    "iris = pd.read_csv('https://raw.githubusercontent.com/mwaskom/seaborn-data/master/iris.csv')\n",
    "iris"
   ]
  },
  {
   "cell_type": "code",
   "execution_count": null,
   "id": "c73fbffd",
   "metadata": {},
   "outputs": [],
   "source": []
  },
  {
   "cell_type": "markdown",
   "id": "94b5f61a",
   "metadata": {},
   "source": [
    "### Oppgave 3 - Plotting med matplotlib og Seaborn\n",
    "\n",
    "1. Lag et histogram for fordelingen av sepal_length.\n",
    "2. Lag et heatmap (med Seaborn) som viser korrelasjonene mellom de numeriske variablene i datasettet. Beskriv hva du ser!"
   ]
  },
  {
   "cell_type": "code",
   "execution_count": null,
   "id": "6cd72acd",
   "metadata": {},
   "outputs": [],
   "source": []
  },
  {
   "cell_type": "markdown",
   "id": "51416452",
   "metadata": {},
   "source": [
    "### Oppgave 4 - Avanserte Pandas-operasjoner\n",
    "1. Gruppér datasettet etter art (species) og beregn gjennomsnittet for hver av de numeriske kolonnene for hver art.\n",
    "2. Sorter datasettet etter petal_length i synkende rekkefølge.\n",
    "3. Bruk apply-funksjonen til å lage en ny kolonne som inneholder lengden på species-navnet."
   ]
  },
  {
   "cell_type": "code",
   "execution_count": null,
   "id": "640ead3c",
   "metadata": {},
   "outputs": [],
   "source": []
  },
  {
   "cell_type": "markdown",
   "id": "4beff551",
   "metadata": {},
   "source": [
    "##### [< Forrige](5%20-%20sympy.ipynb)     |     [Neste >](7%20-%20løkker%20og%20simulering.ipynb)"
   ]
  }
 ],
 "metadata": {
  "kernelspec": {
   "display_name": "Python 3",
   "language": "python",
   "name": "python3"
  },
  "language_info": {
   "codemirror_mode": {
    "name": "ipython",
    "version": 3
   },
   "file_extension": ".py",
   "mimetype": "text/x-python",
   "name": "python",
   "nbconvert_exporter": "python",
   "pygments_lexer": "ipython3",
   "version": "3.12.2"
  }
 },
 "nbformat": 4,
 "nbformat_minor": 5
}
