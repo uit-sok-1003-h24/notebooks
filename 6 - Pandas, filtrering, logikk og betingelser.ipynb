{
 "cells": [
  {
   "cell_type": "markdown",
   "id": "a94965cd",
   "metadata": {},
   "source": [
    "##### [< Forrige](5%20-%20sympy.ipynb)     |     [Neste >](7%20-%20løkker%20og%20simulering.ipynb)"
   ]
  },
  {
   "cell_type": "markdown",
   "id": "3b799010-59c6-47e5-84b5-758348032385",
   "metadata": {
    "jp-MarkdownHeadingCollapsed": true,
    "tags": []
   },
   "source": [
    "<span style=\"color:#9bb1d4;font-size:30px;font-weight:900\"> 6 - pandas, filtrering, logikk og betingelser </span>  "
   ]
  },
  {
   "cell_type": "markdown",
   "id": "6185fa04",
   "metadata": {},
   "source": [
    "# Logikk og betingelser"
   ]
  },
  {
   "cell_type": "markdown",
   "id": "a68a2fb5",
   "metadata": {},
   "source": [
    "Noe av det vi gjør oftest når vi programmerer er å teste om en betingelse er sann eller usann. Når testen er utført, kan programmet velge riktig vei å gå i fortsettelsen. Slik testing kalles \"logikk\". Vi har allerede i innledningen vært inne på variabeltypen som avgjør om en test er sann eller usann, typen `bool`. \n",
    "\n",
    "Sann eller usann (`True` og `False`) brukes som oftest sammen med en `if`-betingelse, slik som dette:\n",
    "\n",
    "#### Eksempel 1:"
   ]
  },
  {
   "cell_type": "code",
   "execution_count": 2,
   "id": "79193e95",
   "metadata": {},
   "outputs": [
    {
     "name": "stdout",
     "output_type": "stream",
     "text": [
      "Hå\n"
     ]
    }
   ],
   "source": [
    "if False:\n",
    "    print(\"Hei\")\n",
    "else:\n",
    "    print(\"Hå\")"
   ]
  },
  {
   "cell_type": "markdown",
   "id": "1ecda1ec",
   "metadata": {},
   "source": [
    "Vanligvis vil `if`-setningen inneholde en test som ikke er helt åpenbar, og som avhenger av input i en funksjon eller en variabel som er definert et annet sted i koden. Her er et eksempel på det første:\n",
    "\n",
    "#### Eskempel 2:"
   ]
  },
  {
   "cell_type": "code",
   "execution_count": 6,
   "id": "375d9cb8",
   "metadata": {},
   "outputs": [
    {
     "name": "stdout",
     "output_type": "stream",
     "text": [
      "Bought for: 100\n",
      "Worth today: 143\n",
      "You won!\n"
     ]
    }
   ],
   "source": [
    "import numpy as np\n",
    "\n",
    "def did_I_win(s0,s1):\n",
    "    if s1>s0:\n",
    "        return \"won!\"\n",
    "    else:\n",
    "        return \"lost\" \n",
    "\n",
    "PricePaid=100\n",
    "StockPriceToday=int(np.random.rand()*200)\n",
    "print(\n",
    "    f\"Bought for: {PricePaid}\\n\"\n",
    "    f\"Worth today: {StockPriceToday}\\n\"\n",
    "    f\"You {did_I_win(PricePaid,StockPriceToday)}\"\n",
    ")"
   ]
  },
  {
   "cell_type": "markdown",
   "id": "92ec3e41",
   "metadata": {},
   "source": [
    "Ofte vil du ønske å sammenligne ulike datasett, for eksempel to numpy-rekker. Dersom du skal ha en `if`-betingelse, må du imidlertid huske på at for å få ett svar på en sammenligning mellom to numpy-rekker, så må du angi på hvilken måte de skal sammenlignes. I utgangspunktet vil en slik sammenligning bare gi resultatet fra en sammenligning av hvert element i de to rekkene. Resultatet av sammenligningen er altså ikke en bolsk verdi (`bool`) men en ny rekke. En slik sammenligning vil derfor føre til en feil:\n",
    "\n",
    "#### Eksempel 2:"
   ]
  },
  {
   "cell_type": "code",
   "execution_count": 8,
   "id": "b01219bf",
   "metadata": {},
   "outputs": [
    {
     "name": "stdout",
     "output_type": "stream",
     "text": [
      "[False False  True]\n"
     ]
    },
    {
     "ename": "ValueError",
     "evalue": "The truth value of an array with more than one element is ambiguous. Use a.any() or a.all()",
     "output_type": "error",
     "traceback": [
      "\u001b[0;31m---------------------------------------------------------------------------\u001b[0m",
      "\u001b[0;31mValueError\u001b[0m                                Traceback (most recent call last)",
      "Cell \u001b[0;32mIn[8], line 4\u001b[0m\n\u001b[1;32m      2\u001b[0m b\u001b[38;5;241m=\u001b[39mnp\u001b[38;5;241m.\u001b[39marray([\u001b[38;5;241m3\u001b[39m,\u001b[38;5;241m2\u001b[39m,\u001b[38;5;241m1\u001b[39m])\n\u001b[1;32m      3\u001b[0m \u001b[38;5;28mprint\u001b[39m(a\u001b[38;5;241m>\u001b[39mb)\n\u001b[0;32m----> 4\u001b[0m \u001b[38;5;28;01mif\u001b[39;00m a\u001b[38;5;241m>\u001b[39mb:\n\u001b[1;32m      5\u001b[0m     \u001b[38;5;28mprint\u001b[39m(\u001b[38;5;124m'\u001b[39m\u001b[38;5;124ma was bigger than b\u001b[39m\u001b[38;5;124m'\u001b[39m)\n",
      "\u001b[0;31mValueError\u001b[0m: The truth value of an array with more than one element is ambiguous. Use a.any() or a.all()"
     ]
    }
   ],
   "source": [
    "a=np.array([1,2,3])\n",
    "b=np.array([3,2,1])\n",
    "print(a>b)\n",
    "if a>b:\n",
    "    print('a was bigger than b')"
   ]
  },
  {
   "cell_type": "markdown",
   "id": "a3bfcf50",
   "metadata": {},
   "source": [
    "I stedet må vi angi hvordan den elementvise sammenligningen skal sammenfattes i et sant/usant-resultat. Vi kan da velge mellom å kreve at alle elementene er sanne med numpyfunksjonen `all()`, eller at minst ett av elementene er sanne med`any()`.\n",
    "\n",
    "#### Eksempel 3:\n"
   ]
  },
  {
   "cell_type": "code",
   "execution_count": 9,
   "id": "8b8ccb8d",
   "metadata": {},
   "outputs": [
    {
     "name": "stdout",
     "output_type": "stream",
     "text": [
      "There were elements in a where the corresponding element in b was smaller\n",
      "All elements in a was bigger than the corresponding element in b\n"
     ]
    }
   ],
   "source": [
    "if np.any(a>b):\n",
    "    print('There were elements in a where the corresponding element in b was smaller')\n",
    "    \n",
    "    \n",
    "a=np.array([101,102,103])\n",
    "if np.all(a>b):\n",
    "    print('All elements in a was bigger than the corresponding element in b')\n"
   ]
  },
  {
   "cell_type": "markdown",
   "id": "1be0bf26",
   "metadata": {},
   "source": [
    "Ofte vil du ha bruk for å bruke flere vilkår for testen, der du enten krever at alle må være sanne, eller at det holder at én er sann, eller en kombinasjon. Det oppnår vi med `and` og `or`. \n",
    "\n",
    "Et annet nyttig nøkkelord for logiske tester er `in`. Dette brukes på alt fra å finne ut om et objekt er i en liste eller annen datastruktur, til om en delstreng er i en streng. Her er et eksempel som bruker alle disse nøkkelordene i `if` og `elif`-setninger:\n",
    "\n",
    "#### Eksempel 4:"
   ]
  },
  {
   "cell_type": "code",
   "execution_count": 10,
   "id": "e9ea6acd",
   "metadata": {},
   "outputs": [
    {
     "name": "stdout",
     "output_type": "stream",
     "text": [
      "lion is a cat and a mammal\n"
     ]
    }
   ],
   "source": [
    "animal='lion'\n",
    "\n",
    "cats=['lion','tiger','puma','lynx']\n",
    "mammals=['human','bear','cat','whale','mouse']+cats\n",
    "\n",
    "if (animal in cats) and (animal in mammals):\n",
    "    print(f\"{animal} is a cat and a mammal\")\n",
    "elif (not animal in cats) and (animal in mammals):\n",
    "    print(f\"{animal} is not a cat, but it is a mammal\")\n",
    "elif (animal in cats) and (not animal in mammals):\n",
    "    print(f\"{animal} is a cat, but not a mammal\")   \n",
    "else:\n",
    "    print(f\"{animal} is neither a cat nor a mammal\")"
   ]
  },
  {
   "cell_type": "markdown",
   "id": "c7f8933b",
   "metadata": {},
   "source": [
    "Legg merke til `elif` over. De er `if`-setninger som er knyttet til `if`-setningen over. Koden til en `elif`-setning kjøres dersom hverken `if`-setningen eller noen `elif`-setninger over har blitt tilfredsstilt. "
   ]
  },
  {
   "cell_type": "markdown",
   "id": "e8685c92",
   "metadata": {},
   "source": [
    "# Eksempel med datasett\n",
    "\n",
    "Vanligvis vil slike tester ligge inne i kode der det ikke er helt åpenbart hva variabelen du tester er. Dette er illustrert i eksemplet under, der variabelen bestemmes av innholdet i datasettet \"schooling-gdp.csv\". Vi starter med å hente inn datasettet og plotte BNP per capita mot Utdanning:\n",
    "\n",
    "#### Eksempel 5:"
   ]
  },
  {
   "cell_type": "code",
   "execution_count": 16,
   "id": "b971eaf1",
   "metadata": {},
   "outputs": [
    {
     "name": "stdout",
     "output_type": "stream",
     "text": [
      "Collecting matplotlib\n",
      "  Using cached matplotlib-3.9.0-cp312-cp312-macosx_10_12_x86_64.whl.metadata (11 kB)\n",
      "Collecting contourpy>=1.0.1 (from matplotlib)\n",
      "  Downloading contourpy-1.2.1-cp312-cp312-macosx_10_9_x86_64.whl.metadata (5.8 kB)\n",
      "Collecting cycler>=0.10 (from matplotlib)\n",
      "  Downloading cycler-0.12.1-py3-none-any.whl.metadata (3.8 kB)\n",
      "Collecting fonttools>=4.22.0 (from matplotlib)\n",
      "  Downloading fonttools-4.53.0-cp312-cp312-macosx_10_9_universal2.whl.metadata (162 kB)\n",
      "\u001b[2K     \u001b[90m━━━━━━━━━━━━━━━━━━━━━━━━━━━━━━━━━━━━━━━\u001b[0m \u001b[32m162.2/162.2 kB\u001b[0m \u001b[31m6.4 MB/s\u001b[0m eta \u001b[36m0:00:00\u001b[0m\n",
      "\u001b[?25hCollecting kiwisolver>=1.3.1 (from matplotlib)\n",
      "  Downloading kiwisolver-1.4.5-cp312-cp312-macosx_10_9_x86_64.whl.metadata (6.4 kB)\n",
      "Requirement already satisfied: numpy>=1.23 in /opt/anaconda3/envs/tf_env/lib/python3.12/site-packages (from matplotlib) (1.26.4)\n",
      "Requirement already satisfied: packaging>=20.0 in /opt/anaconda3/envs/tf_env/lib/python3.12/site-packages (from matplotlib) (24.0)\n",
      "Collecting pillow>=8 (from matplotlib)\n",
      "  Downloading pillow-10.3.0-cp312-cp312-macosx_10_10_x86_64.whl.metadata (9.2 kB)\n",
      "Collecting pyparsing>=2.3.1 (from matplotlib)\n",
      "  Downloading pyparsing-3.1.2-py3-none-any.whl.metadata (5.1 kB)\n",
      "Requirement already satisfied: python-dateutil>=2.7 in /opt/anaconda3/envs/tf_env/lib/python3.12/site-packages (from matplotlib) (2.9.0)\n",
      "Requirement already satisfied: six>=1.5 in /opt/anaconda3/envs/tf_env/lib/python3.12/site-packages (from python-dateutil>=2.7->matplotlib) (1.16.0)\n",
      "Downloading matplotlib-3.9.0-cp312-cp312-macosx_10_12_x86_64.whl (7.9 MB)\n",
      "\u001b[2K   \u001b[90m━━━━━━━━━━━━━━━━━━━━━━━━━━━━━━━━━━━━━━━━\u001b[0m \u001b[32m7.9/7.9 MB\u001b[0m \u001b[31m10.5 MB/s\u001b[0m eta \u001b[36m0:00:00\u001b[0m00:01\u001b[0m00:01\u001b[0m\n",
      "\u001b[?25hDownloading contourpy-1.2.1-cp312-cp312-macosx_10_9_x86_64.whl (263 kB)\n",
      "\u001b[2K   \u001b[90m━━━━━━━━━━━━━━━━━━━━━━━━━━━━━━━━━━━━━━━━\u001b[0m \u001b[32m263.3/263.3 kB\u001b[0m \u001b[31m9.2 MB/s\u001b[0m eta \u001b[36m0:00:00\u001b[0m\n",
      "\u001b[?25hDownloading cycler-0.12.1-py3-none-any.whl (8.3 kB)\n",
      "Downloading fonttools-4.53.0-cp312-cp312-macosx_10_9_universal2.whl (2.8 MB)\n",
      "\u001b[2K   \u001b[90m━━━━━━━━━━━━━━━━━━━━━━━━━━━━━━━━━━━━━━━━\u001b[0m \u001b[32m2.8/2.8 MB\u001b[0m \u001b[31m9.3 MB/s\u001b[0m eta \u001b[36m0:00:00\u001b[0ma \u001b[36m0:00:01\u001b[0mm\n",
      "\u001b[?25hDownloading kiwisolver-1.4.5-cp312-cp312-macosx_10_9_x86_64.whl (67 kB)\n",
      "\u001b[2K   \u001b[90m━━━━━━━━━━━━━━━━━━━━━━━━━━━━━━━━━━━━━━━━\u001b[0m \u001b[32m67.3/67.3 kB\u001b[0m \u001b[31m4.6 MB/s\u001b[0m eta \u001b[36m0:00:00\u001b[0m\n",
      "\u001b[?25hDownloading pillow-10.3.0-cp312-cp312-macosx_10_10_x86_64.whl (3.5 MB)\n",
      "\u001b[2K   \u001b[90m━━━━━━━━━━━━━━━━━━━━━━━━━━━━━━━━━━━━━━━━\u001b[0m \u001b[32m3.5/3.5 MB\u001b[0m \u001b[31m9.1 MB/s\u001b[0m eta \u001b[36m0:00:00\u001b[0m00:01\u001b[0m00:01\u001b[0m\n",
      "\u001b[?25hDownloading pyparsing-3.1.2-py3-none-any.whl (103 kB)\n",
      "\u001b[2K   \u001b[90m━━━━━━━━━━━━━━━━━━━━━━━━━━━━━━━━━━━━━━━━\u001b[0m \u001b[32m103.2/103.2 kB\u001b[0m \u001b[31m5.2 MB/s\u001b[0m eta \u001b[36m0:00:00\u001b[0m\n",
      "\u001b[?25hInstalling collected packages: pyparsing, pillow, kiwisolver, fonttools, cycler, contourpy, matplotlib\n",
      "Successfully installed contourpy-1.2.1 cycler-0.12.1 fonttools-4.53.0 kiwisolver-1.4.5 matplotlib-3.9.0 pillow-10.3.0 pyparsing-3.1.2\n"
     ]
    }
   ],
   "source": [
    "!pip install matplotlib"
   ]
  },
  {
   "cell_type": "code",
   "execution_count": 17,
   "id": "ced56bba",
   "metadata": {},
   "outputs": [
    {
     "name": "stderr",
     "output_type": "stream",
     "text": [
      "Matplotlib is building the font cache; this may take a moment.\n"
     ]
    },
    {
     "data": {
      "text/plain": [
       "<Axes: xlabel='BNP_per_capita', ylabel='Utdanning'>"
      ]
     },
     "execution_count": 17,
     "metadata": {},
     "output_type": "execute_result"
    },
    {
     "data": {
      "image/png": "[encoded data removed]",
      "text/plain": [
       "<Figure size 640x480 with 1 Axes>"
      ]
     },
     "metadata": {},
     "output_type": "display_data"
    }
   ],
   "source": [
    "import pandas as pd\n",
    "import matplotlib.pyplot as plt\n",
    "df = pd.read_csv('/Users/maaas6121/Library/CloudStorage/OneDrive-UiTOffice365/Skrivebord/Python.Lab/notebooks/data/schooling-gdp.csv') # Din vei til data.\n",
    "df.plot.scatter('BNP_per_capita','Utdanning')"
   ]
  },
  {
   "cell_type": "markdown",
   "id": "cd330c29",
   "metadata": {},
   "source": [
    "Vi ser at sammenhengen virker mer usikker for når utdanningsnivået og BNP per capita er høyt. Vi kan derfor bruke en `if`-setning til å kun ta med land med høyt BNP per capita eller høyt utdanningsnivå. Vi ønsker også å kun se på andre land en Norge. Da kan vi for eksempel kjøre denne koden:\n",
    "\n",
    "#### Eksempel 6:"
   ]
  },
  {
   "cell_type": "code",
   "execution_count": 18,
   "id": "2c69080d",
   "metadata": {},
   "outputs": [
    {
     "data": {
      "text/plain": [
       "<Axes: xlabel='BNP_per_capita', ylabel='Utdanning'>"
      ]
     },
     "execution_count": 18,
     "metadata": {},
     "output_type": "execute_result"
    },
    {
     "data": {
      "image/png": "[encoded data removed]",
      "text/plain": [
       "<Figure size 640x480 with 1 Axes>"
      ]
     },
     "metadata": {},
     "output_type": "display_data"
    }
   ],
   "source": [
    "index_list=[]\n",
    "for index, (country,code,gdp_cap,edu,pop) in df.iterrows():\n",
    "    if (gdp_cap>20000 and country!='Norway') or edu>10:\n",
    "        index_list.append(index)\n",
    "    \n",
    "df_filtered=df[df.index.isin(index_list)]\n",
    "df_filtered.plot.scatter('BNP_per_capita','Utdanning')"
   ]
  },
  {
   "cell_type": "markdown",
   "id": "9588c610",
   "metadata": {},
   "source": [
    "Her lager vi en liste, og legger til indeksen til hvert element i datarammen `df` som skal inkluderes. Vi velger så ut radene i datarammen med disse indeksene med `dataframe`-funksjonen `isin()`. Funksjonens navn kommer fra *is in*, så den tester altså om index_list er i datarammen `df`. Som vi ser, ser det ut til å være er det liten sammenheng mellom BNP per capita og utdanningsnivå for disse observasjonene. "
   ]
  },
  {
   "cell_type": "markdown",
   "id": "694222ac",
   "metadata": {},
   "source": [
    "#### Tips:\n",
    "Vi kan også gjøre filtreringer direkte når vi viser dataene, men da må vi bruke \"bitvis\" sammenligning. Her er `and` lik `&` og `or` lik `|`"
   ]
  },
  {
   "cell_type": "code",
   "execution_count": 19,
   "id": "6d934bfd",
   "metadata": {},
   "outputs": [
    {
     "data": {
      "text/plain": [
       "<Axes: xlabel='BNP_per_capita', ylabel='Utdanning'>"
      ]
     },
     "execution_count": 19,
     "metadata": {},
     "output_type": "execute_result"
    },
    {
     "data": {
      "image/png": "[encoded data removed]",
      "text/plain": [
       "<Figure size 640x480 with 1 Axes>"
      ]
     },
     "metadata": {},
     "output_type": "display_data"
    }
   ],
   "source": [
    "df[((df[\"Utdanning\"]>11) | (df[\"BNP_per_capita\"]>30000))].plot.scatter(\"BNP_per_capita\", \"Utdanning\")"
   ]
  },
  {
   "cell_type": "markdown",
   "id": "f5309ed7",
   "metadata": {},
   "source": [
    "# Titlon"
   ]
  },
  {
   "cell_type": "markdown",
   "id": "4de32dfb",
   "metadata": {},
   "source": [
    "I eksemplet over leser Pandas dataene fra en fiil, men Pandas kan også hente data direkte fra en database på nettet. Vi skal først se hvordan vi kan hente data fra `titlon.uit.no`. Dette er en database som inneholder informasjon om aksjer, derviater og obligasjoner handlet på [Oslo Børs Euronext](https://www.euronext.com/en/markets/oslo).  \n",
    "\n",
    "Det første vi må gjøre er å hente en pakke som kan kommunisere med serveren. Vi skal bruke pymysql. Den er i utgangspunktet ikke installert her på uit's jupyter-server, så det må vi gjøre selv. Det gjør du slik:\n",
    "\n",
    "Åpne konsollen og skriv `pip install pymysql`\n",
    "\n",
    "For å hente data gjør du følgende:\n",
    "\n",
    "På [https://titlon.uit.no/](https://titlon.uit.no/) ligger det børsinformasjon fra Oslo Børs. For å hente data fra Titlon gjør du følgende:\n",
    "\n",
    "1. gå inn på [https://titlon.uit.no/](https://titlon.uit.no/) \n",
    "2. trykk på \"Python\"\n",
    "3. logg inn (om du får en feilmelding etter innlogging følger du bare lenken over på nytt)\n",
    "4. Kopierer teksten i tekstboksen\n",
    "5. lim den inn under\n",
    "\n",
    "\n",
    "#### Eksempel 7:\n",
    "LES INSTRUKSJONENE OVER! KODEN UNDER KAN IKKE KJØRES UTEN VIDERE."
   ]
  },
  {
   "cell_type": "code",
   "execution_count": 12,
   "id": "c4539888",
   "metadata": {},
   "outputs": [
    {
     "name": "stdout",
     "output_type": "stream",
     "text": [
      "Collecting pymysql\n",
      "  Downloading PyMySQL-1.1.1-py3-none-any.whl.metadata (4.4 kB)\n",
      "Downloading PyMySQL-1.1.1-py3-none-any.whl (44 kB)\n",
      "\u001b[2K   \u001b[90m━━━━━━━━━━━━━━━━━━━━━━━━━━━━━━━━━━━━━━━━\u001b[0m \u001b[32m45.0/45.0 kB\u001b[0m \u001b[31m2.6 MB/s\u001b[0m eta \u001b[36m0:00:00\u001b[0m\n",
      "\u001b[?25hInstalling collected packages: pymysql\n",
      "Successfully installed pymysql-1.1.1\n"
     ]
    }
   ],
   "source": [
    "!pip install pymysql"
   ]
  },
  {
   "cell_type": "code",
   "execution_count": 13,
   "id": "a6cc9fb6",
   "metadata": {},
   "outputs": [
    {
     "ename": "OperationalError",
     "evalue": "(2003, \"Can't connect to MySQL server on 'titlon.uit.no' (timed out)\")",
     "output_type": "error",
     "traceback": [
      "\u001b[0;31m---------------------------------------------------------------------------\u001b[0m",
      "\u001b[0;31mTimeoutError\u001b[0m                              Traceback (most recent call last)",
      "File \u001b[0;32m/opt/anaconda3/envs/myenv/lib/python3.12/site-packages/pymysql/connections.py:649\u001b[0m, in \u001b[0;36mConnection.connect\u001b[0;34m(self, sock)\u001b[0m\n\u001b[1;32m    648\u001b[0m \u001b[38;5;28;01mtry\u001b[39;00m:\n\u001b[0;32m--> 649\u001b[0m     sock \u001b[38;5;241m=\u001b[39m \u001b[43msocket\u001b[49m\u001b[38;5;241;43m.\u001b[39;49m\u001b[43mcreate_connection\u001b[49m\u001b[43m(\u001b[49m\n\u001b[1;32m    650\u001b[0m \u001b[43m        \u001b[49m\u001b[43m(\u001b[49m\u001b[38;5;28;43mself\u001b[39;49m\u001b[38;5;241;43m.\u001b[39;49m\u001b[43mhost\u001b[49m\u001b[43m,\u001b[49m\u001b[43m \u001b[49m\u001b[38;5;28;43mself\u001b[39;49m\u001b[38;5;241;43m.\u001b[39;49m\u001b[43mport\u001b[49m\u001b[43m)\u001b[49m\u001b[43m,\u001b[49m\u001b[43m \u001b[49m\u001b[38;5;28;43mself\u001b[39;49m\u001b[38;5;241;43m.\u001b[39;49m\u001b[43mconnect_timeout\u001b[49m\u001b[43m,\u001b[49m\u001b[43m \u001b[49m\u001b[38;5;241;43m*\u001b[39;49m\u001b[38;5;241;43m*\u001b[39;49m\u001b[43mkwargs\u001b[49m\n\u001b[1;32m    651\u001b[0m \u001b[43m    \u001b[49m\u001b[43m)\u001b[49m\n\u001b[1;32m    652\u001b[0m     \u001b[38;5;28;01mbreak\u001b[39;00m\n",
      "File \u001b[0;32m/opt/anaconda3/envs/myenv/lib/python3.12/socket.py:852\u001b[0m, in \u001b[0;36mcreate_connection\u001b[0;34m(address, timeout, source_address, all_errors)\u001b[0m\n\u001b[1;32m    851\u001b[0m \u001b[38;5;28;01mif\u001b[39;00m \u001b[38;5;129;01mnot\u001b[39;00m all_errors:\n\u001b[0;32m--> 852\u001b[0m     \u001b[38;5;28;01mraise\u001b[39;00m exceptions[\u001b[38;5;241m0\u001b[39m]\n\u001b[1;32m    853\u001b[0m \u001b[38;5;28;01mraise\u001b[39;00m ExceptionGroup(\u001b[38;5;124m\"\u001b[39m\u001b[38;5;124mcreate_connection failed\u001b[39m\u001b[38;5;124m\"\u001b[39m, exceptions)\n",
      "File \u001b[0;32m/opt/anaconda3/envs/myenv/lib/python3.12/socket.py:837\u001b[0m, in \u001b[0;36mcreate_connection\u001b[0;34m(address, timeout, source_address, all_errors)\u001b[0m\n\u001b[1;32m    836\u001b[0m     sock\u001b[38;5;241m.\u001b[39mbind(source_address)\n\u001b[0;32m--> 837\u001b[0m \u001b[43msock\u001b[49m\u001b[38;5;241;43m.\u001b[39;49m\u001b[43mconnect\u001b[49m\u001b[43m(\u001b[49m\u001b[43msa\u001b[49m\u001b[43m)\u001b[49m\n\u001b[1;32m    838\u001b[0m \u001b[38;5;66;03m# Break explicitly a reference cycle\u001b[39;00m\n",
      "\u001b[0;31mTimeoutError\u001b[0m: timed out",
      "\nDuring handling of the above exception, another exception occurred:\n",
      "\u001b[0;31mOperationalError\u001b[0m                          Traceback (most recent call last)",
      "Cell \u001b[0;32mIn[13], line 4\u001b[0m\n\u001b[1;32m      2\u001b[0m \u001b[38;5;66;03m#you may substitute pymysql for pymssql in the following TWO sentences if you prefer the MS SQL client:\u001b[39;00m\n\u001b[1;32m      3\u001b[0m \u001b[38;5;28;01mimport\u001b[39;00m \u001b[38;5;21;01mpymysql\u001b[39;00m\n\u001b[0;32m----> 4\u001b[0m con \u001b[38;5;241m=\u001b[39m \u001b[43mpymysql\u001b[49m\u001b[38;5;241;43m.\u001b[39;49m\u001b[43mconnect\u001b[49m\u001b[43m(\u001b[49m\u001b[43mhost\u001b[49m\u001b[38;5;241;43m=\u001b[39;49m\u001b[38;5;124;43m'\u001b[39;49m\u001b[38;5;124;43mtitlon.uit.no\u001b[39;49m\u001b[38;5;124;43m'\u001b[39;49m\u001b[43m,\u001b[49m\u001b[43m \u001b[49m\n\u001b[1;32m      5\u001b[0m \u001b[43m                               \u001b[49m\u001b[43muser\u001b[49m\u001b[38;5;241;43m=\u001b[39;49m\u001b[38;5;124;43m\"\u001b[39;49m\u001b[38;5;124;43mmarkus.j.aase@uit.no\u001b[39;49m\u001b[38;5;124;43m\"\u001b[39;49m\u001b[43m,\u001b[49m\u001b[43m \u001b[49m\n\u001b[1;32m      6\u001b[0m \u001b[43m                               \u001b[49m\u001b[43mpassword\u001b[49m\u001b[38;5;241;43m=\u001b[39;49m\u001b[38;5;124;43m\"\u001b[39;49m\u001b[38;5;124;43mjegerstipendiatpåuit\u001b[39;49m\u001b[38;5;124;43m%\u001b[39;49m\u001b[38;5;124;43m$RZcoC8tP5\u001b[39;49m\u001b[38;5;124;43m\"\u001b[39;49m\u001b[43m,\u001b[49m\u001b[43m \u001b[49m\n\u001b[1;32m      7\u001b[0m \u001b[43m                               \u001b[49m\u001b[43mdatabase\u001b[49m\u001b[38;5;241;43m=\u001b[39;49m\u001b[38;5;124;43m'\u001b[39;49m\u001b[38;5;124;43mOSE\u001b[39;49m\u001b[38;5;124;43m'\u001b[39;49m\u001b[43m)\u001b[49m  \n\u001b[1;32m      8\u001b[0m crsr\u001b[38;5;241m=\u001b[39mcon\u001b[38;5;241m.\u001b[39mcursor()\n\u001b[1;32m      9\u001b[0m crsr\u001b[38;5;241m.\u001b[39mexecute(\u001b[38;5;124m\"\u001b[39m\u001b[38;5;124mSELECT * FROM equity WHERE Name=\u001b[39m\u001b[38;5;124m'\u001b[39m\u001b[38;5;124mEquinor\u001b[39m\u001b[38;5;124m'\u001b[39m\u001b[38;5;124m ORDER BY Date\u001b[39m\u001b[38;5;124m\"\u001b[39m)\n",
      "File \u001b[0;32m/opt/anaconda3/envs/myenv/lib/python3.12/site-packages/pymysql/connections.py:361\u001b[0m, in \u001b[0;36mConnection.__init__\u001b[0;34m(self, user, password, host, database, unix_socket, port, charset, collation, sql_mode, read_default_file, conv, use_unicode, client_flag, cursorclass, init_command, connect_timeout, read_default_group, autocommit, local_infile, max_allowed_packet, defer_connect, auth_plugin_map, read_timeout, write_timeout, bind_address, binary_prefix, program_name, server_public_key, ssl, ssl_ca, ssl_cert, ssl_disabled, ssl_key, ssl_key_password, ssl_verify_cert, ssl_verify_identity, compress, named_pipe, passwd, db)\u001b[0m\n\u001b[1;32m    359\u001b[0m     \u001b[38;5;28mself\u001b[39m\u001b[38;5;241m.\u001b[39m_sock \u001b[38;5;241m=\u001b[39m \u001b[38;5;28;01mNone\u001b[39;00m\n\u001b[1;32m    360\u001b[0m \u001b[38;5;28;01melse\u001b[39;00m:\n\u001b[0;32m--> 361\u001b[0m     \u001b[38;5;28;43mself\u001b[39;49m\u001b[38;5;241;43m.\u001b[39;49m\u001b[43mconnect\u001b[49m\u001b[43m(\u001b[49m\u001b[43m)\u001b[49m\n",
      "File \u001b[0;32m/opt/anaconda3/envs/myenv/lib/python3.12/site-packages/pymysql/connections.py:716\u001b[0m, in \u001b[0;36mConnection.connect\u001b[0;34m(self, sock)\u001b[0m\n\u001b[1;32m    714\u001b[0m     \u001b[38;5;28;01mif\u001b[39;00m DEBUG:\n\u001b[1;32m    715\u001b[0m         \u001b[38;5;28mprint\u001b[39m(exc\u001b[38;5;241m.\u001b[39mtraceback)\n\u001b[0;32m--> 716\u001b[0m     \u001b[38;5;28;01mraise\u001b[39;00m exc\n\u001b[1;32m    718\u001b[0m \u001b[38;5;66;03m# If e is neither DatabaseError or IOError, It's a bug.\u001b[39;00m\n\u001b[1;32m    719\u001b[0m \u001b[38;5;66;03m# But raising AssertionError hides original error.\u001b[39;00m\n\u001b[1;32m    720\u001b[0m \u001b[38;5;66;03m# So just reraise it.\u001b[39;00m\n\u001b[1;32m    721\u001b[0m \u001b[38;5;28;01mraise\u001b[39;00m\n",
      "\u001b[0;31mOperationalError\u001b[0m: (2003, \"Can't connect to MySQL server on 'titlon.uit.no' (timed out)\")"
     ]
    }
   ],
   "source": [
    "import pandas as pd\n",
    "#you may substitute pymysql for pymssql in the following TWO sentences if you prefer the MS SQL client:\n",
    "import pymysql\n",
    "con = pymysql.connect(host='titlon.uit.no', \n",
    "                               user=\"markus.j.aase@uit.no\", \n",
    "                               password=\"jegerstipendiatpåuit%$RZcoC8tP5\", \n",
    "                               database='OSE')  \n",
    "crsr=con.cursor()\n",
    "crsr.execute(\"SELECT * FROM equity WHERE Name='Equinor' ORDER BY Date\")\n",
    "r=crsr.fetchall()\n",
    "df=pd.DataFrame(list(r), columns=[i[0] for i in crsr.description])\n",
    "df\n",
    "\n",
    "\t"
   ]
  },
  {
   "cell_type": "markdown",
   "id": "902ba39d",
   "metadata": {},
   "source": [
    "Koden leser inn dataene til en pandas `dataframe`, eller dataramme. Denne er kalt `df` her. Om vi ser nærmere på koden, så ser vi at den gjør følgende:\n",
    "\n",
    "1. lager et objekt `con` som representerer forbindelsen med databasen. Denne lages ved å bruke `connect()`-funksjonen til `pymysql`, som er en pakke for å hente data fra MySQL-databaser. Input er navn på server, brukernavn, passord (automatisk generert) og navn på database. \n",
    "\n",
    "2. lager en streng `sql` med kommandoen til databasen, i SQL-språk\n",
    "3. lager en `dataframe` som kalles `df` ved å bruke  `read_sql_query`-funksjonen i pandas\n",
    "\n",
    "Før vi fortsetter er det kanskje greit å forklare hva SQL er. SQL er et språk laget spesifikt for å hente ut data fra dataabaser. Nesten alle databaser er SQL-basert. Syntaksen kan virke litt knotete, men kan være lurt å lære seg dette språket. En god SQL-spørring kan spare deg for mye programmering senere. Dette er imidlertid ikke et kurs i SQL, så vi går ikke nærmere inn på denne syntaksen her. \n",
    "\n",
    "I tabellen vi henter, over, mangler endel variabler fordi det ikke er plass. For å se navnet på alle variablene kan du bruke `keys()`-funksjonen til datarammen:\n",
    "\n",
    "#### Eksempel 8:"
   ]
  },
  {
   "cell_type": "code",
   "execution_count": null,
   "id": "e63b3d01",
   "metadata": {},
   "outputs": [],
   "source": [
    "df.keys()"
   ]
  },
  {
   "cell_type": "markdown",
   "id": "9cc4c268",
   "metadata": {},
   "source": [
    "En dataframe ligner litt på en oppslagsliste. Du henter frem variabelen du vil bruke ved hjelp av hakeparenteser. I Titlondatabasen er avkastningen `lnDeltaP`, så la oss ta en kikk på på den:\n",
    "\n",
    "#### Eksempel 9:"
   ]
  },
  {
   "cell_type": "code",
   "execution_count": null,
   "id": "2784536d",
   "metadata": {},
   "outputs": [],
   "source": [
    "df['lnDeltaP']"
   ]
  },
  {
   "cell_type": "markdown",
   "id": "0329e860",
   "metadata": {},
   "source": [
    "Det viser seg at i aksjemarkedet, så har aksjene en tendens til å bevege seg i samme retning. Går børsen først ned, så vil det gjelde de aller fleste aksjene på børsen. Gjennomsnittetlig avkastning for alle børsens aksjer måles av *børsindeksen*. I Titlon er børsindeksen lagt inn som en variabel for hvert selskap under navnet `lnDeltaOSEBX`. La oss derfor undersøke om det stemmer at det er en nær sammenheng mellom Equinors kurs og børsindeksen, ved hjelp av `matplotlib`:\n",
    "\n",
    "#### Eksempel 10:"
   ]
  },
  {
   "cell_type": "code",
   "execution_count": null,
   "id": "d11e0ade",
   "metadata": {},
   "outputs": [],
   "source": [
    "df.plot.scatter('lnDeltaP','lnDeltaOSEBX')"
   ]
  },
  {
   "cell_type": "markdown",
   "id": "29a60d81",
   "metadata": {},
   "source": [
    "Du kan finne informasjon om andre aksjer enn Equinor om du vil. Koden under kjører en SQL-spørring som henter navnene på alle selskap i databasen etter 2015. Om du vil hente ut et annet selskap, kan du velge blant disse\n",
    "\n",
    "#### Eksempel 11:"
   ]
  },
  {
   "cell_type": "code",
   "execution_count": null,
   "id": "a924a064",
   "metadata": {},
   "outputs": [],
   "source": [
    "sql=\"SELECT distinct Name,ISIN,SecurityId,CompanyId FROM equity WHERE Year(Date)>2015 ORDER BY `Name`\"\n",
    "companies=pd.read_sql_query(sql, con)\n",
    "list(companies.values)"
   ]
  },
  {
   "cell_type": "markdown",
   "id": "278cbe4c-0c7a-4436-8cbf-d447ab7074ba",
   "metadata": {},
   "source": [
    "### Tips og triks\n",
    "På samme måte som `keys`, kan du også bruke `columns` til å finne kolonnene\n",
    "\n",
    "#### Tips 1:"
   ]
  },
  {
   "cell_type": "code",
   "execution_count": null,
   "id": "6adbfc91-fe97-4372-8547-cf38acec4b67",
   "metadata": {},
   "outputs": [],
   "source": [
    "companies.columns"
   ]
  },
  {
   "cell_type": "markdown",
   "id": "1dc3c7cc-8552-47f1-8912-384e83d3da31",
   "metadata": {},
   "source": [
    "Det kan være interessant å få en enkel oversikt over hvilke observasjoner man har i en kolonne. Da kan man bruke `unique` for å finne unike verdier, og `value_counts` for å finne hvor mange observasjoner av hver unike verdi man har.\n",
    "\n",
    "#### Tips 2:"
   ]
  },
  {
   "cell_type": "code",
   "execution_count": null,
   "id": "f3f15e45-cb4b-4363-96f3-00f0d8cf558e",
   "metadata": {},
   "outputs": [],
   "source": [
    "companies[\"Name\"].unique()\n",
    "companies[\"Name\"].value_counts()"
   ]
  },
  {
   "cell_type": "markdown",
   "id": "db675624",
   "metadata": {},
   "source": [
    "# Lage graf med flere serier, der alle har startverdi 100"
   ]
  },
  {
   "cell_type": "markdown",
   "id": "27e59c68",
   "metadata": {},
   "source": [
    "La oss se nærmere på tre av selskapene, og plott dem sammen. Vi bruker en SQL `WHERE`-betingelse til å begrense utvalget til de tre selskapene som er nevnt og til datoer etter 2000. Så tar vi også med i SQL-setningen en sortering på dato:\n",
    "\n",
    "\n",
    "#### Eksempel 12:"
   ]
  },
  {
   "cell_type": "code",
   "execution_count": null,
   "id": "a28d7b49",
   "metadata": {},
   "outputs": [],
   "source": [
    "sql=(\"SELECT distinct Name,date, AdjustedPrice FROM equity \"\n",
    "    \"WHERE (Name='Equinor' OR Name='Tomra Systems' OR Name='DNB') \"\n",
    "    \"AND `Date`>'2000-01-01'\"\n",
    "    \"ORDER BY `Date`\")"
   ]
  },
  {
   "cell_type": "markdown",
   "id": "36a7f44e",
   "metadata": {},
   "source": [
    "Vi kan nå kjøre denne spørringen mot Titlon:\n",
    "\n",
    "\n",
    "#### Eksempel 13:"
   ]
  },
  {
   "cell_type": "code",
   "execution_count": null,
   "id": "45d8728b",
   "metadata": {},
   "outputs": [],
   "source": [
    "df=pd.read_sql_query(sql, con)\n",
    "df"
   ]
  },
  {
   "cell_type": "markdown",
   "id": "0aa2aa18-21bf-4325-baaf-3ab5fbe2a6f8",
   "metadata": {},
   "source": [
    "Når dataene ligger i \"lengdeformat\" slik som dette, kan vi bruke `groupby` til å samle observasjoner og finne verdier som gjennomsnitt, antall osv\n",
    "\n",
    "#### Tips 3: "
   ]
  },
  {
   "cell_type": "code",
   "execution_count": null,
   "id": "2ebee2b0-7bf7-410a-97cf-da238ed13b18",
   "metadata": {},
   "outputs": [],
   "source": [
    "df.groupby(\"Name\")[\"AdjustedPrice\"].mean()"
   ]
  },
  {
   "cell_type": "markdown",
   "id": "5d086003",
   "metadata": {},
   "source": [
    "Om vi ønsker å sammenligne utviklingen kan det være en fordel å få prisene i hvert selskap i en egen kolonne. Da må vi endre vekk fra \"lengdeformat\". Det gjør vi slik:\n",
    "\n",
    "#### Eksempel 14:"
   ]
  },
  {
   "cell_type": "code",
   "execution_count": null,
   "id": "8179e69f",
   "metadata": {},
   "outputs": [],
   "source": [
    "df=df.pivot(index='date', columns='Name', values='AdjustedPrice')\n",
    "df"
   ]
  },
  {
   "cell_type": "markdown",
   "id": "6a533df8-aa94-425b-8e4a-da0f56fcd295",
   "metadata": {},
   "source": [
    "Hvis vi ønsker å tilbakestille, kan vi bruke `melt`, som er det motsatte av `pivot`\n",
    "\n",
    "#### Tips 4: "
   ]
  },
  {
   "cell_type": "code",
   "execution_count": null,
   "id": "2a94fe20-d649-4af0-ab58-5836eaa5aef8",
   "metadata": {},
   "outputs": [],
   "source": [
    "df1 = df.melt(ignore_index=False, value_name=\"AdjustedPrice\").reset_index()\n",
    "df1"
   ]
  },
  {
   "cell_type": "markdown",
   "id": "de55e760",
   "metadata": {},
   "source": [
    "Equinor ble imidlertid ikke børsnotert før i 2001. I alle observasjoner før børsnoteringen står det derfor `NaN`, hvilket betyr \"ingen observasjon\". For å kunne sammenligne må alle tre aksjene være observert på hver dato. Vi kan oppnå dette med funksjonen `dropna()`:\n",
    "\n",
    "\n",
    "#### Eksempel 15:"
   ]
  },
  {
   "cell_type": "code",
   "execution_count": null,
   "id": "d7c93145",
   "metadata": {},
   "outputs": [],
   "source": [
    "df=df.dropna()\n",
    "df"
   ]
  },
  {
   "cell_type": "markdown",
   "id": "69960cca",
   "metadata": {},
   "source": [
    "Vi ser nå at de tomme cellene er borte. Equinor ble altså børsnotert 18. juni 2001.\n",
    "\n",
    "For å kunne sammenligne selskapenes utvikling bedre, bør de starte på samme tidspunkt. For å gjøre det deler vi alle observasjonene på den første. For å dele observasjoner på noe, bruker vi `div()`-funksjonen til datarammen. Vi skal dele på første rad, som er `df.iloc[0]`. Så multipliserer vi det hele med 100:\n",
    "\n",
    "\n",
    "#### Eksempel 16:"
   ]
  },
  {
   "cell_type": "code",
   "execution_count": null,
   "id": "5569ab33",
   "metadata": {
    "scrolled": true
   },
   "outputs": [],
   "source": [
    "df=100*df.div(df.iloc[0])\n",
    "df"
   ]
  },
  {
   "cell_type": "markdown",
   "id": "1e9a8a70",
   "metadata": {},
   "source": [
    "Vi ser nå at alle aksjene starter på 100 den datoen Equinor ble børsnotert. Hvilet selskap har vært det beste å investere i? Hvilket har vært verst? \n",
    "\n",
    "Vi kan nå plotte utviklingen. Når vi jobber med pandas, er det best å bruke den innebygde `plot()`-funksjonen i pakken. Da får vi automatisk riktige etiketter:\n",
    "\n",
    "#### Eksempel 17:"
   ]
  },
  {
   "cell_type": "code",
   "execution_count": null,
   "id": "7f61e5a2",
   "metadata": {},
   "outputs": [],
   "source": [
    "ax=df.plot()\n",
    "ax.legend(loc='upper left',frameon=False)"
   ]
  },
  {
   "cell_type": "markdown",
   "id": "4f08846d-77c2-4a9a-8700-f0bece96cc62",
   "metadata": {},
   "source": [
    "Pakken `seaborn` bygger oppå `matplotlib` og gjør en del grafer lette med lite bruk av kode. Hvis vi henter frem dataene vi lagret i lengdeformat i `df1`, kan vi ta gjennomsnittet av alle selskapene (uten å justere for startverdien der vi delte på første kolonne)\n",
    "\n",
    "#### Tips 5:"
   ]
  },
  {
   "cell_type": "code",
   "execution_count": null,
   "id": "03dd16c1-bac2-4c99-a9ec-3d5add614cea",
   "metadata": {},
   "outputs": [],
   "source": [
    "import seaborn as sns\n",
    "sns.lineplot(data=df1, y=\"AdjustedPrice\", x= \"date\")"
   ]
  },
  {
   "cell_type": "markdown",
   "id": "1859865a-bc34-4bcd-8852-b429e337c269",
   "metadata": {},
   "source": [
    "Ved å bestemme at vi skal filtrere på variabelen `Name`, så kan vi få et lignende plot som i Eksempel 17 ved å spesifisere `hue`\n",
    "#### Tips 6:"
   ]
  },
  {
   "cell_type": "code",
   "execution_count": null,
   "id": "a2ecbf4a-e04b-42d2-9ddf-d06d6da73bdb",
   "metadata": {},
   "outputs": [],
   "source": [
    "sns.lineplot(data=df1, y=\"AdjustedPrice\", x= \"date\", hue=\"Name\")"
   ]
  },
  {
   "cell_type": "markdown",
   "id": "9354ee9d-ef5e-4eba-ae9c-3e1a01524f74",
   "metadata": {},
   "source": [
    "Det er enkelt å legge til nye variabler. Man gjør det på samme måten som vi gjorde med `dict`\n",
    "#### Tips 7: "
   ]
  },
  {
   "cell_type": "code",
   "execution_count": null,
   "id": "71a5805e-2e22-4f83-80fe-a02c6e9ce393",
   "metadata": {},
   "outputs": [],
   "source": [
    "df1['terningkast_styreleder'] = np.random.randint(1, 7, df1.shape[0])\n",
    "df1"
   ]
  },
  {
   "cell_type": "markdown",
   "id": "89ac1afd-ad48-4575-a808-6d28ea787a8a",
   "metadata": {},
   "source": [
    "Ikke overraskende så har ikke terningkastene noe å si på avkastningen. Her ser vi også hvordan `groupby` kan være til hjelp"
   ]
  },
  {
   "cell_type": "code",
   "execution_count": null,
   "id": "e84a29c2-a06c-4455-9b0d-65216b3a50ce",
   "metadata": {},
   "outputs": [],
   "source": [
    "import matplotlib.pyplot as plt\n",
    "df1.groupby(\"terningkast_styreleder\")[\"AdjustedPrice\"].mean().plot()\n",
    "plt.ylabel(\"avkastning\")"
   ]
  },
  {
   "cell_type": "markdown",
   "id": "d9dd5b6e",
   "metadata": {},
   "source": [
    "# Eurostat"
   ]
  },
  {
   "cell_type": "markdown",
   "id": "726c6289",
   "metadata": {},
   "source": [
    "Eurostat er en veldig nyttig kilde til data. De har et stort utvalg av data på europeiske land. De har laget en egen pakke til python som ikke overraskende heter `eurostat`. Denne pakken er heller ikke installert i utgangspunktet på jupyter.uit.no. Dere må derfor åpne \"Terminal\" og kjøre  `pip install eurostat` for å kjøre den. \n",
    "\n",
    "For å se hvilke tabeller som er der, henter vi innholdsfortegnelsen (table of contents) med funksjonen `get_toc_df`. Det gir oss en `pandas` dataramme:\n",
    "\n",
    "\n",
    "#### Eksempel 18:"
   ]
  },
  {
   "cell_type": "code",
   "execution_count": null,
   "id": "beba81b5",
   "metadata": {
    "scrolled": true
   },
   "outputs": [],
   "source": [
    "import eurostat\n",
    "toc = eurostat.get_toc_df()\n",
    "toc"
   ]
  },
  {
   "cell_type": "markdown",
   "id": "3014cf80",
   "metadata": {},
   "source": [
    "Du kan finne hvor mange tabeller det er med `len(toc)`, og det er i skrivende stund over ti tusen tabeller. Det blir litt krevende å lete gjennom alle, så vi ønsker derfor å begrense antall tabeller til de som er relevante. Anta at vi ønsker å se på utviklingen i BNP per innbygger for landene som er med i statistikken. Nærmere bestemt, vi ønsker å finne alle tabeller der `'GDP per capita'` er i tittelen. \n",
    "\n",
    "BNP per innbygger er hvor mye hver person i landet i gjennomsnitt produserer i løpet av ett år. \n",
    "\n",
    "Vi gjør dette ved å lage følgende \"list comprehension\": `['GDP per capita' in i for i in toc['title']]`. Elementene i denne listen er sant (`True`) dersom 'GDP per capita' er i tittelen, og usant (`false`) om det ikke er i tittelen. \n",
    "\n",
    "#### Eksempel 19:"
   ]
  },
  {
   "cell_type": "code",
   "execution_count": null,
   "id": "fe93aa85",
   "metadata": {},
   "outputs": [],
   "source": [
    "gdp_in_toc_list=['GDP per capita' in i for i in toc['title']]"
   ]
  },
  {
   "cell_type": "markdown",
   "id": "1885ea34",
   "metadata": {},
   "source": [
    "Vi kan så velge de elementene hvor betingelsen er sann ved å sette listen inn i en klammeparentes etter innholdsfortegnelsen, `toc[gdp_in_toc_list]`. Kun de elementene i innholdsfortegnelsen der det står sant (`True`) i listen, tas da med.\n",
    "\n",
    "#### Eksempel 20:"
   ]
  },
  {
   "cell_type": "code",
   "execution_count": null,
   "id": "8837208d",
   "metadata": {},
   "outputs": [],
   "source": [
    "#collecting only the tables where 'GDP per capita' is in the name\n",
    "toc_gdp=toc[gdp_in_toc_list]\n",
    "toc_gdp"
   ]
  },
  {
   "cell_type": "markdown",
   "id": "95ff0380",
   "metadata": {},
   "source": [
    "La oss nå se på tabellen \"Purchasing power adjusted GDP per capita\", som har kode 'sdg_10_10'. Da bruker vi funksjonen `get_data_df` med tabellkoden som argument: \n",
    "\n",
    "\n",
    "#### Eksempel 21:"
   ]
  },
  {
   "cell_type": "code",
   "execution_count": null,
   "id": "81a6c055",
   "metadata": {},
   "outputs": [],
   "source": [
    "gdp_data = eurostat.get_data_df('sdg_10_10')\n",
    "gdp_data"
   ]
  },
  {
   "cell_type": "markdown",
   "id": "aa6ec3f8",
   "metadata": {},
   "source": [
    "Tabellen inneholder imidlertid endel data vi ikke ønsker å ha med. For det første ønsker vi kun å ta med tilfellene der feltet \"na_item\" er lik 'EXP_PPS_EU27_2020_HAB', for det andre er her dataene til hvert enkelt land ligger. Dette gjør vi på samme måte som over med listen `gdp_data['na_item']=='EXP_PPS_EU27_2020_HAB'`, som er sann når \"na_item\" er lik 'EXP_PPS_EU27_2020_HAB'. Setter vi inn denne listen i klammeparentes etter `gdp_data` får vi en filtrert liste:\n",
    "\n",
    "#### Eksempel 22:"
   ]
  },
  {
   "cell_type": "code",
   "execution_count": null,
   "id": "46411fbb",
   "metadata": {},
   "outputs": [],
   "source": [
    "gdp_data = gdp_data[gdp_data['na_item']=='EXP_PPS_EU27_2020_HAB']\n",
    "gdp_data"
   ]
  },
  {
   "cell_type": "markdown",
   "id": "008bbb4f",
   "metadata": {},
   "source": [
    "### Tips: endring av kolonnenavn\n",
    "\n",
    "\n",
    "\n",
    "Vi husker at man kan finne navnene på kolonner ved `keys` eller `columns`, inkl spesifikke kolonner ved bruk av slice"
   ]
  },
  {
   "cell_type": "code",
   "execution_count": null,
   "id": "def1ce80",
   "metadata": {},
   "outputs": [],
   "source": [
    "print(gdp_data.keys())\n",
    "print(gdp_data.columns)"
   ]
  },
  {
   "cell_type": "markdown",
   "id": "af60f094",
   "metadata": {},
   "source": [
    "Vi ser ovenfor at denne er definert som en index. Derfor lagrer vi kolonnenavnene vår som en liste i `col_names` "
   ]
  },
  {
   "cell_type": "code",
   "execution_count": null,
   "id": "6490876e",
   "metadata": {},
   "outputs": [],
   "source": [
    "col_names = list(gdp_data.columns)\n"
   ]
  },
  {
   "cell_type": "markdown",
   "id": "a2a10c9a",
   "metadata": {},
   "source": [
    "Hvis vi f.eks. ønsker å endre \"unit\" til \"unit_new\", kan vi definere på nytt, på samme måte som vi gjorde for lister i forelesning 4"
   ]
  },
  {
   "cell_type": "code",
   "execution_count": null,
   "id": "d0c46389",
   "metadata": {},
   "outputs": [],
   "source": [
    "col_names[2] = \"unit_new\"\n",
    "print(col_names)"
   ]
  },
  {
   "cell_type": "markdown",
   "id": "59b136f7",
   "metadata": {},
   "source": [
    "For å gjøre disse endringene i datasettet vårt, kan vi definere kolonnene våre i datasettet til col_names"
   ]
  },
  {
   "cell_type": "code",
   "execution_count": null,
   "id": "d523f991",
   "metadata": {},
   "outputs": [],
   "source": [
    "gdp_data.columns= col_names\n",
    "gdp_data.head()"
   ]
  },
  {
   "cell_type": "markdown",
   "id": "5ee9cc58",
   "metadata": {},
   "source": [
    "En annen metode er å bruke funksjonen `rename` sammen med oppslag"
   ]
  },
  {
   "cell_type": "code",
   "execution_count": null,
   "id": "0a174498",
   "metadata": {},
   "outputs": [],
   "source": [
    "gdp_data.rename(columns={\"unit_new\":\"unit_new_v2\"}, inplace=True)\n",
    "gdp_data.head()"
   ]
  },
  {
   "cell_type": "markdown",
   "id": "00960061",
   "metadata": {},
   "source": [
    "### Tilbake til eksemplene..."
   ]
  },
  {
   "cell_type": "markdown",
   "id": "8efc3159",
   "metadata": {},
   "source": [
    "Videre ønsker vi å fjerne de definisjonene av EU vi ikke trenger, som er 'EA18','EA19','EU27_2007','EU27_2020','EA18' og 'EA18'. Vi bruker samme teknikk, vi lager en liste som inneholder `True` og `False`, avhengig om en betingelse er oppfylt. \n",
    "\n",
    "Feltet vi nå skal filtrere ut fra er \"geo\\\\time\", som innholder landkodene. Siden vi ikke bare skal sjekke om én streng er i denne kolonnen, men om flere mulige kandidater er det, kan vi ikke bruke \"list comprehension\" som over. Vi bruker i stedet en pandas-funksjon `isin` (*is in*), som tar en liste med \"ting\" vi ikke vil ha i feltet som argument.\n",
    "\n",
    "<b> NB!: </b> Hvis dere har et annet variabelnavn enn 'geo\\\\time', kan dere bytte ut det under, eller lage nytt variabelnavn (jamf tipsene ovenfor)\n",
    "\n",
    "#### Eksempel 23:"
   ]
  },
  {
   "cell_type": "code",
   "execution_count": null,
   "id": "52ab3fe8",
   "metadata": {},
   "outputs": [],
   "source": [
    "unwanted=gdp_data['geo\\\\time'].isin(['EA18','EA19','EU27_2007','EU27_2020','EA18','EA18'])\n"
   ]
  },
  {
   "cell_type": "markdown",
   "id": "9e886fac",
   "metadata": {},
   "source": [
    "Men vi vil ikke ha `unwanted`, så vi tar kun med tilfellene der `unwanted==False`\n",
    "\n",
    "#### Eksempel 24:"
   ]
  },
  {
   "cell_type": "code",
   "execution_count": null,
   "id": "bc3b8a30",
   "metadata": {},
   "outputs": [],
   "source": [
    "gdp_data = gdp_data[unwanted==False]"
   ]
  },
  {
   "cell_type": "markdown",
   "id": "b6951383",
   "metadata": {},
   "source": [
    "Angela Merkel akkurat er gått av. Vi ønsker derfor å se på utviklingen i BNP justert for kjøpekraft siden Merkel tiltrådte i 2005. \n",
    "\n",
    "Vi ønsker derfor å velge ut kolonnene 2005 til 2020, i tillegg til kolonnen 'geo\\\\time' med landkodene, som skal stå først. Vi gjør det ved å lage en liste med de kolonnene vi ønsker å hente ut fra `gdp_data`. Vi lager da to lister som vi slår sammen:\n",
    "\n",
    "Liste 1: Vi starter med navnet til første kolonne 'geo\\\\time', som vi lager om til en liste med ett element ved hjelp av klammeparenteser: `['geo\\\\time']`. \n",
    "\n",
    "Liste 2: Vi bruker så den innebygde `range()` til å generere fra 2005 til 2020, og konverterer resultatet til en liste: `list(range(2005,2021)`. \n",
    "\n",
    "Summen av disse to listene blir da en liste med 'geo\\\\time' først og så årstallene.\n",
    "\n",
    "<b> NB!: </b> hvis koden under ikke fungerer, se på kommentaren rett over \"eksempel 23\"\n",
    "\n",
    "#### Eksempel 25:"
   ]
  },
  {
   "cell_type": "code",
   "execution_count": null,
   "id": "e122bd10",
   "metadata": {},
   "outputs": [],
   "source": [
    "chosen_columns=['geo\\\\time']+list(range(2005,2021))"
   ]
  },
  {
   "cell_type": "markdown",
   "id": "51dbdc9f",
   "metadata": {},
   "source": [
    "Vi kan nå velge ut kun disse kolonnene ved å velge samtlige rader fra gdp_data.loc, og kolonnene angitt av listen:\n",
    "\n",
    "#### Eksempel 26:"
   ]
  },
  {
   "cell_type": "code",
   "execution_count": null,
   "id": "e7763996",
   "metadata": {},
   "outputs": [],
   "source": [
    "gdp_data=gdp_data.loc[:,chosen_columns]\n",
    "gdp_data"
   ]
  },
  {
   "cell_type": "markdown",
   "id": "9fc62c50",
   "metadata": {},
   "source": [
    "Så ønsker vi videre å kategorisere observasjonene ut fra landkode, og ikke rekkefølge. Vi setter derfor 'geo\\\\time' som indeks:\n",
    "\n",
    "#### Eksempel 27:"
   ]
  },
  {
   "cell_type": "code",
   "execution_count": null,
   "id": "f6e48d5c",
   "metadata": {},
   "outputs": [],
   "source": [
    "gdp_data=gdp_data.set_index('geo\\\\time')\n",
    "gdp_data"
   ]
  },
  {
   "cell_type": "markdown",
   "id": "8b56d9b6",
   "metadata": {},
   "source": [
    "Vi skal nå \"rebasere\" tallene slik  at alle starter på 100. Vi må først sørge for at hvert årstall er en observasjon/rad, og ikke en kolonne. Vi gjør det med pandasfunksjonen `transpose()`. Den bytter om på rader og kolonner:\n",
    "\n",
    "#### Eksempel 28:"
   ]
  },
  {
   "cell_type": "code",
   "execution_count": null,
   "id": "1144b6cb",
   "metadata": {},
   "outputs": [],
   "source": [
    "gdp_data=gdp_data.transpose()\n",
    "gdp_data"
   ]
  },
  {
   "cell_type": "markdown",
   "id": "3bed9903",
   "metadata": {},
   "source": [
    "Vi kan nå \"rebasere\". Vi gjør det ved å bruke pandasfunksjonen `div()`, som deler alle observasjonene på argumentet. Vi ønsker å dele på første rad (år 2005), som er `gdp_data.iloc[0]`:\n",
    "\n",
    "#### Eksempel 29:"
   ]
  },
  {
   "cell_type": "code",
   "execution_count": null,
   "id": "3e822221",
   "metadata": {},
   "outputs": [],
   "source": [
    "gdp_data=gdp_data.div(gdp_data.iloc[0])\n",
    "gdp_data"
   ]
  },
  {
   "cell_type": "markdown",
   "id": "73de2351",
   "metadata": {},
   "source": [
    "Vi kan nå plotte resultatet med `plot()`-funksjonen i pandas. Vi velger gjennomsiktighet 0.3 og figurstørrelse 20x10. Etikettene plasseres øverst til venstre, uten ramme og i fire kolonner:\n",
    "\n",
    "#### Eksempel 30:"
   ]
  },
  {
   "cell_type": "code",
   "execution_count": null,
   "id": "abf6f563",
   "metadata": {},
   "outputs": [],
   "source": [
    "ax=gdp_data.plot(alpha=0.3,figsize=(20, 10))\n",
    "ax.legend(loc='upper left',frameon=False,ncol=4)"
   ]
  },
  {
   "cell_type": "markdown",
   "id": "7b255dee",
   "metadata": {},
   "source": [
    "Som nevnt har vi valgt perioden fra 2005 fordi Angela Merkel tiltrådte da. Det kan derfor være en god idé å utheve Tysklands kurve. Vi skal gjøre det ved å øke linjevidden til 5 og ta bort gjennomsiktighet (alpha=1). For at det skal være enkelt å også utheve andre land, lager vi en funksjon som uthever land med et bestemt symbol. `ax` representerer grafen, og må også være et argument, slik at funksjonen kan operere på den. Her er funksjonen:\n",
    "\n",
    "#### Eksempel 31:"
   ]
  },
  {
   "cell_type": "code",
   "execution_count": null,
   "id": "7c7fbbb8",
   "metadata": {},
   "outputs": [],
   "source": [
    "def thick_line(symbol,ax):\n",
    "    labels=[i._label for i in ax.lines]  #makes a list of symbols in the order of lines in the axis object\n",
    "    i=labels.index(symbol)               #identifies at which position symbol is located\n",
    "    ax.lines[i].set_linewidth(5)         #sets the line with of the line at position i to 5 \n",
    "    ax.lines[i].set_alpha(1)             #removes transparancy of the line at position i to 5 "
   ]
  },
  {
   "cell_type": "markdown",
   "id": "4eaffeac",
   "metadata": {},
   "source": [
    "Funksjonen gjør følgende:\n",
    "1. Lager en liste med symbolene til linjene\n",
    "2. identifiserer hvor i listen `symbol` befinner seg\n",
    "3. setter linjevidden til denne linjen til 5\n",
    "4. Fjerner gjennomsiktigheten til denne linjen\n",
    "\n",
    "Vi kan nå plotte grafen, etter å ha uthevet linjene til 'DE' (Tyskland) 'NO' (Norge) og 'EU28' (EU inkludert Storbritannia):\n",
    "\n",
    "#### Eksempel 32:"
   ]
  },
  {
   "cell_type": "code",
   "execution_count": null,
   "id": "1ced4bd2",
   "metadata": {},
   "outputs": [],
   "source": [
    "\n",
    "thick_line('DE',ax)\n",
    "thick_line('NO',ax)\n",
    "thick_line('EU28',ax)\n",
    "ax.legend(loc='upper left',frameon=False,ncol=4)\n",
    "ax.figure"
   ]
  },
  {
   "cell_type": "markdown",
   "id": "1dd7d263",
   "metadata": {},
   "source": [
    "## Oppgaver:"
   ]
  },
  {
   "cell_type": "markdown",
   "id": "b928aef9",
   "metadata": {},
   "source": [
    "1. Hent ut to andre selskap fra titlon, og plott dem med `scatter()`-funksjonen for å se om det er en sammenheng mellom avkastningene.  \n",
    "\n",
    "2. Én av `elif`-setningene i Eksempel 4 vil aldri bli tilfredsstilt, uansett hva du setter som `animal`. Hvorfor?\n",
    "\n",
    "3. I eksempel 6, hva skjer om du fjerner `or edu>10` fra koden? Forklar.\n",
    "\n",
    "4. Hent data for et annet selskap (valgfritt) fra titlon.uit.no, og velg to andre variabler enn i Eksempel 17, og plott dem mot hverandre.\n",
    "\n",
    "5. Hent en tabell om strømpris i eurostat, og lag en tilsvarende graf som i Eksempel 32 for den. Gjør slik:\n",
    "    1. Sjekk hvilke tabeller som er tilgjengelig med `toc[['Electricity' in i for i in toc['title']]]` og finn koden i feltet 'code' til tabellen \"7328\tElectricity prices for non-household consumers...\". \n",
    "    2. Hent tabellen som har denne koden\n",
    "    3. Gjør følgende filtrering:\n",
    "    ```\n",
    "    df=df[(df['tax']=='X_TAX')*\n",
    "   (df['consom']=='4162906')*\n",
    "   (df['currency']=='EUR')*\n",
    "   (df!=0).all(axis=1)]\n",
    "    ```\n",
    "    4. Lag graf som i Eksempel 32. Velg selv hvilke land dy synes er viktige å utheve. "
   ]
  },
  {
   "cell_type": "markdown",
   "id": "4beff551",
   "metadata": {},
   "source": [
    "##### [< Forrige](5%20-%20sympy.ipynb)     |     [Neste >](7%20-%20løkker%20og%20simulering.ipynb)"
   ]
  }
 ],
 "metadata": {
  "kernelspec": {
   "display_name": "Python 3",
   "language": "python",
   "name": "python3"
  },
  "language_info": {
   "codemirror_mode": {
    "name": "ipython",
    "version": 3
   },
   "file_extension": ".py",
   "mimetype": "text/x-python",
   "name": "python",
   "nbconvert_exporter": "python",
   "pygments_lexer": "ipython3",
   "version": "3.1.-1"
  }
 },
 "nbformat": 4,
 "nbformat_minor": 5
}
