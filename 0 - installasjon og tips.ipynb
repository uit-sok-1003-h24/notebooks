{
 "cells": [
  {
   "cell_type": "markdown",
   "id": "541033d4-f85d-40b0-a42d-ecbe31a20105",
   "metadata": {},
   "source": [
    "##### <span style=\"color:lightgrey\">\\<Forrige </span>   |     [Neste \\>](1%20-%20introduksjon.ipynb)"
   ]
  },
  {
   "cell_type": "markdown",
   "id": "074ebde0-2d56-4157-83a4-9d57f74a6fa8",
   "metadata": {
    "jp-MarkdownHeadingCollapsed": true,
    "tags": []
   },
   "source": [
    "<span style=\"color:#9bb1d4;font-size:30px;font-weight:900\"> 0 - installasjon og tips </span>  "
   ]
  },
  {
   "cell_type": "markdown",
   "id": "95e8e826-78e1-4335-bb5e-91c522514c68",
   "metadata": {},
   "source": [
    "# Installasjon av  Python, git og Jupyter"
   ]
  },
  {
   "cell_type": "markdown",
   "id": "a771bb6c-f173-4fcc-8615-d8899847fb5a",
   "metadata": {
    "tags": []
   },
   "source": [
    "\n",
    "\n",
    "<a href=\"https://www.python.org/downloads/\"><img align=\"right\" src=\"img/python-logo2.png\" style=\"padding:20px;\"></a>\n",
    "\n",
    "## 1. Installere python \n",
    "\n",
    "**Windows:**\n",
    "\n",
    "På noen systemer er det tilstrekkelig at du skriver `python` kommandovinduet. Om ikke det fungerer, gjør slik:\n",
    "\n",
    "1. Gå til [installasjonssiden](https://www.python.org/downloads/) og last ned\n",
    "4. Installer for alle brukere (krever elevering/admin login) og **hak av for å legge til \"PATH\"**. \n",
    "\n",
    "(Jeg har endret litt på \"oppskriften\" etter at videoen ble spilt inn)\n",
    "\n",
    "**Mac:**\n",
    "\n",
    "Gå til [https://www.python.org/downloads/](https://www.python.org/downloads/)\n",
    "\n",
    "## 2. Installere git\n",
    "**Windows:**\n",
    "\n",
    "1. Gå til [installasjonsiden for git](https://git-scm.com/downloads){:target=\"blank\"}\n",
    "4. Last ned for windows og installer for alle brukere (krever elevering/admin login)\n",
    "\n",
    "**Mac:**\n",
    "\n",
    "Åpne Terminal-appen og skriv `git`. Du blir spurt om du vil installere utviklerverktøy. Takk ja, og installer. \n",
    "\n",
    "## 3. Hente kursmateriell fra Github\n",
    "\n",
    "For å hente filene til Jupyter  åpner du kommanovinduet på nytt, men denne gangen UTEN Å HØYREKLIKKET, siden du nå skal arbeidet på ditt hjemmeområde. Videre gjør du slik:\n",
    "\n",
    "1. Naviger til dit du ønsker å ha kursmappen din. Om du for eksempel har en mappe `Documents` på maskinen din, og du vil ha kursmappen under den, så skriver du\n",
    "```cd Documents```\n",
    "\n",
    "2. Lag en mappe der du ønsker å ha kursfilene dine ved å skrive inn i terminalvinduet\n",
    "\n",
    "```mkdir sok-1003```\n",
    "\n",
    "3. Gå så inn i den mappen du har laget ved å skrive \n",
    "\n",
    "```cd sok-1003```\n",
    "        \n",
    "4. Last ned kursmateriellet ved å kopiere inn følgende kommando i kommandovinduet: \n",
    "\n",
    "```git clone https://github.com/espensirnes/notebooks/```<br>\n",
    "[https://github.com/espensirnes/notebooks/](https://github.com/espensirnes/notebooks/)\n",
    "\n"
   ]
  },
  {
   "cell_type": "markdown",
   "id": "d27f40a3-9b39-4513-805c-1819b6d6d58d",
   "metadata": {},
   "source": [
    "# 4. Kjøre Jupyter\n",
    "\n",
    "\n",
    "**Installere Jupyter lab:**\n",
    "\n",
    "1. åpne kommandovinduet: Åpne finder og skriv \"terminal\" i søkefeltet og åne terminal. \n",
    "2. Skriv inn<br>`sudo -H pip3 install jupyterlab`<br>(\"sodu -H\" gjør at det installeres som admin, slik at \"jupyter lab\" blir en global kommando som du kan starte jupyter med)\n",
    "3. Skriv inn passord\n",
    "\n",
    "**Starte Jupyter lab:**\n",
    "\n",
    "Skriv `jupyter lab` i terminalen"
   ]
  },
  {
   "cell_type": "markdown",
   "id": "64f73db0-7a43-4e5f-a2c0-8feda191211f",
   "metadata": {
    "tags": []
   },
   "source": [
    "# Installere Python-pakker"
   ]
  },
  {
   "cell_type": "markdown",
   "id": "0ae4c045-a0b1-4966-8136-81ce0b49c930",
   "metadata": {},
   "source": [
    "Om du har installert Python riktig for alle brukere med admnistratorrettighete, er det utrolig enkelt å installere \"pakker\" for python. En pakke er et pythonprogram som du kan importere til Python. Om du for eksempel skal installere pakken `numpy`, en matematikkpakke, så skriver du på windows:\n",
    "\n",
    "```pip install numpy```\n",
    "\n",
    "På mac må du normalt skrive\n",
    "\n",
    "```pip3 install numpy```\n",
    "\n",
    "Dermed er pakken installert!"
   ]
  },
  {
   "cell_type": "markdown",
   "id": "0a95f297-3dc7-4b0c-9938-7010709c8e80",
   "metadata": {},
   "source": [
    "# Diverse nyttig"
   ]
  },
  {
   "cell_type": "markdown",
   "id": "cfca0e16-b806-4c0a-bafd-d54ee52300d7",
   "metadata": {},
   "source": [
    "## Lage en ny undermappe:"
   ]
  },
  {
   "cell_type": "markdown",
   "id": "deb15fab-cd45-4af9-9920-d22585b25dbe",
   "metadata": {},
   "source": [
    "```mkdir minmappe```"
   ]
  },
  {
   "cell_type": "markdown",
   "id": "4a25204a-7319-40a8-823b-f95e803d5572",
   "metadata": {},
   "source": [
    "Der `minmappe` er navnet på mappen du lager"
   ]
  },
  {
   "cell_type": "markdown",
   "id": "ed7e20fe-9566-4617-a384-c2bd99f837d4",
   "metadata": {},
   "source": [
    "## Gå inn i undermappe:"
   ]
  },
  {
   "cell_type": "markdown",
   "id": "e533a58f-6c06-4fac-97b6-4789b255efa7",
   "metadata": {},
   "source": [
    "`cd minmappe`"
   ]
  },
  {
   "cell_type": "markdown",
   "id": "7c3206fc-4683-4955-9912-dd8f969fbeca",
   "metadata": {},
   "source": [
    "Du vil nå se at teksten foran innsetningspunktet skifter til"
   ]
  },
  {
   "cell_type": "markdown",
   "id": "78af6da6-4641-4858-9739-21f921aebdc9",
   "metadata": {},
   "source": [
    "`[<brukernavn>@ad.uit.no@jupyt03 minmappe]$`"
   ]
  },
  {
   "cell_type": "markdown",
   "id": "2e2130e7-cd42-4ab4-a3f0-0dc215b2adb9",
   "metadata": {},
   "source": [
    "`~` har altså skiftet til `minmappe` fordi du nå er i mappen \"minmappe\"."
   ]
  },
  {
   "cell_type": "markdown",
   "id": "64d2f489-ccb3-4ca4-8396-93548e8e45ae",
   "metadata": {},
   "source": [
    "## Gå opp fra undermappe"
   ]
  },
  {
   "cell_type": "markdown",
   "id": "7903a5a0-ac00-4240-b5ab-63fdec512809",
   "metadata": {},
   "source": [
    "Du kan gå opp fra undermappen ved å skrive"
   ]
  },
  {
   "cell_type": "markdown",
   "id": "3aec2eec-7ed6-410d-b72e-c67b282fc580",
   "metadata": {},
   "source": [
    "`cd .. `"
   ]
  },
  {
   "cell_type": "markdown",
   "id": "bef8126e-7d18-4c1d-9170-7231209ccbe2",
   "metadata": {},
   "source": [
    "Teksten foran innsetningspunktet skifter da tilbake til symbolet for rotmappen: \n",
    "\n",
    "`[<brukernavn>@ad.uit.no@jupyt03 ~]$`"
   ]
  },
  {
   "cell_type": "markdown",
   "id": "c62d2fa1-80da-4d0e-8c4a-e5db7c39a37e",
   "metadata": {},
   "source": [
    "## Se innhold"
   ]
  },
  {
   "cell_type": "markdown",
   "id": "ff4d42d0-5134-4d46-b3d6-9d1f1b6d35f2",
   "metadata": {},
   "source": [
    "Du kan se innholdet av mappen du er i, ved å skrive\n",
    "\n",
    "**Windows**:\n",
    "\n",
    "`dir`\n",
    "\n",
    "**Mac**:\n",
    "\n",
    "`ls`"
   ]
  },
  {
   "cell_type": "markdown",
   "id": "eab00291-3da9-4737-aaf9-7aad3ebe9544",
   "metadata": {},
   "source": [
    "## Slette undermappe"
   ]
  },
  {
   "cell_type": "markdown",
   "id": "bbc5c7d1-655b-48d4-8f8b-a0e1b6d93c57",
   "metadata": {},
   "source": [
    "For å slette undermappen minmappe skriver du"
   ]
  },
  {
   "cell_type": "markdown",
   "id": "b40728e4-d986-4f38-8e5f-f8a5ec970121",
   "metadata": {},
   "source": [
    "        rmdir minmappe"
   ]
  },
  {
   "cell_type": "markdown",
   "id": "4ba0c508-126c-454c-8e37-e5ae5f27f0c8",
   "metadata": {},
   "source": [
    "Bruk aldri denne uten at du er sikker på hva du gjør. Mappen kan ikke gjenopprettes etter at den er slettet."
   ]
  },
  {
   "cell_type": "markdown",
   "id": "8e5a4f29-1077-4c24-a3f3-58333bae8c5d",
   "metadata": {},
   "source": [
    "# Fjerne en mappe og alt dets innhold (FARLIG!)\n",
    "\n",
    "Dersom en mappe har innhold som er vanskelig å fjerne, slik som et git-repositorie, kan det være du må da kjøre en kommando i Terminal for å fjerne mappen. Du må da kjøre en kommando i Terminal for å fjerne mappen. For å fjerne en mappe og alt innholdet, navigerer du til mappen over (se 3.), slik at om du kjører `dir` så ser du navnet på mappen (samme med eventuelt andre filer og mapper). Du kjører så\n",
    "```\n",
    "rm -r <navn på mappe du vil ha fjernet>\n",
    "```\n",
    "Bytt ut ´<navn på mappe du vil ha fjernet>´ med mappen du vil slette. \n",
    "\n",
    "MERK at dette sletter mappen FOR EVIG OG ALLTID! Den kan ikke gjenoprettes, så VÆR HELT SIKKER før du gjør dette. Du må være HELT sikker på hvor du er i mappestrukturen i terminal, slik at du ikke sletter noe uforvarende. \n",
    "\n",
    "Når du har kjørt kommandoen, vil du få gjentatte spørsmål om du vil slette hver enkelt fil. Trykk `y` og Enter på hvert spørsmål. "
   ]
  },
  {
   "cell_type": "markdown",
   "id": "f201471d-feba-479b-9476-4def60d81815",
   "metadata": {
    "tags": []
   },
   "source": [
    "# Git"
   ]
  },
  {
   "cell_type": "markdown",
   "id": "6fc27ce5-eb6c-4fcd-bfa9-25e71320b2e5",
   "metadata": {},
   "source": [
    "## Hvordan sørge for at du alltid har siste versjon?"
   ]
  },
  {
   "cell_type": "markdown",
   "id": "02a0e96a-1089-4ea8-8543-5987ce1c82dd",
   "metadata": {},
   "source": [
    "Det kan å bli endringer i notatene undervegs, så det vil bli behov for å laste ned fra `github` på nytt. Om du har gjort notater i eksisterende notatbok, og du ønsker å beholde dem, gir du denne mappen et annet navn enn `notebooks`, og kloner en ny versjon av `notebooks`repositoriet slik som beskrevet i  [installasjonsveiledningen i kapittel 0](0%20-%20installasjon%20og%20tips.ipynb) .\n",
    "\n",
    "For å oppdatere repositoriet til siste versjon gjør du \n",
    "\n",
    "```\n",
    "[user@jupty02 notebooks]$ git pull\n",
    "```\n",
    "Merk at du må \"være\" i mappen `notebooks` i kommandovinduet (`notebooks`skal vises til venstre på linjen du skriver på). Om du nettopp har klonet må navigere inn i notebooksmappen med\n",
    "```\n",
    "[user@jupty02 notebooks]$ cd notebooks\n",
    "```\n",
    "Om du nå har gjort endringer i den samme `notbooks`-mappen som du forsøker å oppdatere, kan du får følgende melding:\n",
    "\n",
    "```Your local changes to the following files would be overwritten by merge:```\n",
    "\n",
    "For å tvinge gjennom en oppdatering kan du da gjøre følgende ( <span style=\"color:red\">MERK!!!!! alt innhold i den mappen du er i vil BLI SLETTET og ERSTATTET med innholdet i `notebooks` på github. Vær derfor HELT sikker på at du er i riktig mappe (det SKAL stå `notebooks` sist i promtet slik: `[user@jupty02 notebooks]$`)</span>):\n",
    "```\n",
    "[user@jupty02 notebooks]$ git reset --hard\n",
    "```\n",
    "Så kjører du en `git pull` igjen. Da resettes repositoriet til den versjonen som ligger på github. "
   ]
  },
  {
   "cell_type": "markdown",
   "id": "ac373348-ae07-471c-8931-43dff6ffb3d6",
   "metadata": {
    "tags": []
   },
   "source": [
    "## Klone dette repositoriet: \n",
    "```\n",
    "git clone https://github.com/uit-sok-1003-h21/notebooks/\n",
    "```    \n",
    " "
   ]
  },
  {
   "cell_type": "markdown",
   "id": "a4d1164b-d6db-4cea-9f8b-6454a440428a",
   "metadata": {},
   "source": [
    "## Hente siste versjon (pull):\n",
    "Slik hetner du siste versjon:\n",
    "```\n",
    "git pull\n",
    "```\n",
    "\n",
    "1. Om filer er endret, og du ønsker å overskrive endringene:\n",
    "```\n",
    "git reset --hard\n",
    "git pull\n",
    "```\n",
    "\n",
    "2. Om filer er endret, og du ønsker å overskrive endringene, men også ta vare på endringer.\n",
    "```\n",
    "git stash\n",
    "```  \n",
    " "
   ]
  },
  {
   "cell_type": "markdown",
   "id": "15806fe3-f015-4353-a303-bd154e6bb5cc",
   "metadata": {
    "tags": []
   },
   "source": [
    "## Lage git-repositorie:\n",
    "[Se her for en forklaring på hvordan du skal levere arbeidskrav på github](https://uit-sok-1003-h21.github.io/github.html)\n",
    "\n",
    "1. Lag en githubkonto (du trenger ikke bruke din uit-mail, det er valgfritt)\n",
    "2. Start Jupyter, og åpne ny Terminal (+), og naviger dit du vil ha repositoriet på jupyter med `cd <mappenavn>`.\n",
    "3. Konfigurer git med e-posten til kontoen og ditt brukernavn (bytt ut klammeparentesene med e-posten og brukernavnet til githubkontoen):\n",
    "```\n",
    "git config --global user.email \"<e-post>\"\n",
    "git config --global user.name \"<brukernavn>\"\n",
    "```\n",
    "4. Gå til **Repositories**, trykk **New**, gi repositoriet et navn og velg **Private** eller **Public**. \n",
    "5. Hold denne fanen åpen, for du skal bruke html-adressen til denne siden.\n",
    "6. Sørg for at du har et token. Gå eventuelt til https://github.com/settings/tokens/new for å generere nytt token. *Hold fanen åpen for å ha tokenet tilgjengelig.*\n",
    "7. kjør `git clone https://<token>@github.com/<sti>` der \\<token\\> er tokenet er det du fikk i 6. og \\<sti\\> er det som kommer etter **github.com/**  i html-adressen i 5.\n",
    "\n",
    " Du kan nå redigere repositoriet ditt<br><br>\n",
    " \n",
    "**NYTTIG TIPS!** Om du glemte å legge inn tokenet da du klonet, kan du legge det inn etterpå med denne kommandoen:<br>\n",
    "```\n",
    "git remote set-url origin https://<token>@github.com/<sti>\n",
    "```\n",
    "<br><br>\n",
    " "
   ]
  },
  {
   "cell_type": "markdown",
   "id": "f679eea8-c1f8-4776-b0b0-e08fea3edff8",
   "metadata": {},
   "source": [
    "## Dytte repositoriet til github:\n",
    "1. Ta en sikkerhetskopi av filene dine (egentlig ikke nødvendig om man kan git, men det er en enkel måte å unngå problemer)\n",
    "2. Naviger til repositoriemappen i Terminal (se avsnitt 1.)\n",
    "3. Kjør i Terminal:\n",
    "```\n",
    "git pull\n",
    "git add .\n",
    "git commit -m \"New repository\"\n",
    "git push \n",
    "```\n",
    "\n",
    "Dersom du får en rettighetsfeil kan du forsøke å legge inn, etter `git push`, nettadressen som beskrevet over. \n",
    "      \n",
    "      \n",
    " \n",
    " "
   ]
  },
  {
   "cell_type": "markdown",
   "id": "7982c3e5-d991-4e27-af1a-e3c454a871fa",
   "metadata": {
    "tags": []
   },
   "source": [
    "# Installere geopandas på windows\n",
    "\n",
    "Geopandas er ikke helt rett frem å installere på windows. Har du en linux eller Mac skal det bare være å kjøre henholdsvis `pip install geopandas` eller `pip3 install geopandas`. Du kan kjøre samme kommando på windows, men pakken vil sannsynligvis ikke fungere. Enda verre er det at dersom du gjør det, må du kanskje gå tilbake etterpå og avinstallere såkalte \"dependencies\", så det beste er å følge følgende oppskrift, uten å forsøke `pip install` først. \n",
    "\n",
    "\n",
    "1) Gå til [https://www.lfd.uci.edu/~gohlke/pythonlibs/](https://www.lfd.uci.edu/~gohlke/pythonlibs) og last ned følgende pakker (søk etter dem med ctrl+F, og skriv inn navnene etter tur):\n",
    "\n",
    "* GDAL, Fiona, pyproj, rtree og shapely\n",
    "\n",
    "2) Last alle pakken ned til din \"Downloads\"-mappe\n",
    "* Hver pakke har en rekke ulike versjoner. Sørg for at følgende stemmer:\n",
    "    * velg et versjonsnummer som stemmer med pythonversjonen du bruker. \n",
    "    * velg en pakke med \"cp\" foran versjonsnummer\n",
    "    * velg riktig antall bit for din maksin, enten 32 eller 64. Stort sett alle maskiner har 64 bit i dag. \n",
    "    * For eksempel har du python 3.8 og en 64bit maskin, velger du for GDAL filen **\"GDAL‑3.4.1‑cp38‑cp38‑win_amd64.whl\"**\n",
    "    \n",
    "    \n",
    "3) installer pakkene i rekkefølgen GDAL, Fiona, pyproj, rtree og shapely\n",
    "* Åpne kommandovinduet med adminrettigheter og naviger med `cd` til du er i \"Dwnloads\"-mappen\n",
    "* \"Downloads\"-mappen ligger normalt på **C:\\Users\\<brukernavn>\\Downloads**\n",
    "* skriv inn `pip install \"<navn på pakke>\"`\n",
    "* for å installere GDAL for python 3.8 og 64 bit skriver du for eksempel: `pip install \"GDAL‑3.4.1‑cp38‑cp38‑win_amd64.whl\"`\n",
    "\n",
    "4) kjør `pip install geopandas`"
   ]
  },
  {
   "cell_type": "markdown",
   "id": "419a61c7-7c93-444c-8c3f-b6716c7c5220",
   "metadata": {},
   "source": [
    "##### <span style=\"color:lightgrey\">\\<Forrige </span>   |     [Neste \\>](1%20-%20introduksjon.ipynb)"
   ]
  }
 ],
 "metadata": {
  "kernelspec": {
   "display_name": "Python 3 (ipykernel)",
   "language": "python",
   "name": "python3"
  },
  "language_info": {
   "codemirror_mode": {
    "name": "ipython",
    "version": 3
   },
   "file_extension": ".py",
   "mimetype": "text/x-python",
   "name": "python",
   "nbconvert_exporter": "python",
   "pygments_lexer": "ipython3",
   "version": "3.11.9"
  }
 },
 "nbformat": 4,
 "nbformat_minor": 5
}
