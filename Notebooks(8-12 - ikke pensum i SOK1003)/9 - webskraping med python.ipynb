{
 "cells": [
  {
   "cell_type": "markdown",
   "id": "14d1a27b",
   "metadata": {},
   "source": [
    "##### [< Forrige](8%20-%20git%2C%20pythonfiler%20og%20IDE.ipynb)     |     [Neste >](10%20-%20statsmodels.ipynb)"
   ]
  },
  {
   "cell_type": "markdown",
   "id": "f0d23649-641d-4bc9-b58e-7186f173b629",
   "metadata": {
    "jp-MarkdownHeadingCollapsed": true,
    "tags": []
   },
   "source": [
    "<span style=\"color:#9bb1d4;font-size:30px;font-weight:900\"> 9 - webskraping med python </span>  "
   ]
  },
  {
   "cell_type": "markdown",
   "id": "466cab53",
   "metadata": {},
   "source": [
    "# HTML-kode\n",
    "\n",
    "Når vi skal skrape nettsider, analyserer vi \"kildekoden\" som ligger bak nettsiden. I de fleste nettleser kan du enkelt se kildekoden ved å høyreklikke på siden og velge \"view page source\" eller lignende. I denne leksjonen skal vi begynne med å skrape rentebarometeret til Norsk Famileøkonomi. For å se hva vi skal skrape kan du derfor gå til [https://www.norskfamilie.no/barometre/rentebarometer/](https://www.norskfamilie.no/barometre/rentebarometer/), høyreklikke og velge å se kildekoden. \n",
    "\n",
    "Elementer er markert i en nettside med såkalte \"html-tagger\". For eksempel lager du kursiv på en nettside ved å skrive `<i>kursiv</i>`. Denne teksten er skrevet i \"markdown\", som også forstår html-tagger. <i>Om du leser dette interaktivt i en jupyterfil kan du dobbelklikke her og se at denne setningen er skrevet inne i kursivtagger</i>.\n",
    "\n",
    "Når vi skraper websider er innholdet vi er interessert i veldig ofte inne i en tabell. Det er det her også. Gjør et tekstsøk i kildekoden etter \"\\<table\". Det finnes kun én plass i dokumentet, og markerer begynnelsen på tabellen. Søker du én gang til med \"\\</table\\>\" finner du hvor tabellen ender. \n",
    "\n",
    "I mellom disse taggene er det en god del kode som kanskje ser veldig komplisert ut. Men vi trenger kun å forholde oss til følgende tre typer tagger:\n",
    "\n",
    "* `<tr>`: rad\n",
    "* `<th>`: overskrift\n",
    "* `<td>`: celle\n",
    "\n",
    "For å hente ut innholdet i tabellen må vi altså søke etter disse taggene, etter at vi har identifisere teksten mellom \"tabell\"-taggene. Det finnes heldigvis et veldig godt verktøy for dette i python, som heter `BeutifulSoup` (`pip install beautifulsoup4` i kommandovinduet om det ikke er installert). \n",
    "\n",
    "Med dette verktøyet kan du enkelt finne de taggene du ønsker. Vi starter med å finne selve tabellen, etter å ha bruke pakken `requests` til å laste ned html-filen:\n",
    "\n",
    "#### Eksempel 1:"
   ]
  },
  {
   "cell_type": "code",
   "execution_count": 1,
   "id": "1b8a0b91",
   "metadata": {},
   "outputs": [
    {
     "name": "stdout",
     "output_type": "stream",
     "text": [
      "<table class=\"table table-striped table-hover barometer\">\n",
      "<thead>\n",
      "<tr>\n",
      "<th> </th>\n",
      "<th>Bank</th>\n",
      "<th> </th>\n",
      "<th class=\"d-none d-sm-table-cell\">Navn</th>\n",
      "<th>Nominell</th>\n",
      "<th class=\"d-none d-sm-table-cell\">Sikkerhets<br/>gebyr</th>\n",
      "<th class=\"d-none d-sm-table-cell\">Etablerings<br/>gebyr</th>\n",
      "<th class=\"d-none d-sm-table-cell\">Termin</th>\n",
      "<th>Effektiv</th>\n",
      "</tr>\n",
      "</thead>\n",
      "<tbody>\n",
      "<tr>\n",
      "<td>1</td>\n",
      "<td>Høland og Setskog Sparebank</td>\n",
      "<td>\n",
      "<button class=\"popover_info btn btn-none\" data-html=\"true\" data-placement=\"left\" data-toggle=\"tooltip\" title=\"Nominell: &lt;strong&gt;4,90&lt;/strong&gt;&lt;br&gt;Sikkerhetsgebyr: &lt;strong&gt;0&lt;/strong&gt;&lt;br&gt;Etableringsgebyr: &lt;strong&gt;0&lt;/strong&gt;&lt;br&gt;Termingebyr: &lt;strong&gt;75&lt;/strong&gt;&lt;br&gt;Effektiv rente: &lt;strong&gt;5,11&lt;/strong&gt;&lt;br&gt;&lt;br&gt;Energimerke A eller B, samt kjøp av bolig i Aurskog-Høland.\" type=\"button\">\n",
      "<i class=\"fa fa-info-circle\"></i>\n",
      "</button>\n",
      "</td>\n",
      "<td class=\"d-none d-sm-table-cell\"\n"
     ]
    }
   ],
   "source": [
    "from bs4 import BeautifulSoup\n",
    "import requests\n",
    "\n",
    "def fetch_html_tables(url):\n",
    "    \"Returns a list of tables in the html of url\"\n",
    "    page = requests.get(url)\n",
    "    bs=BeautifulSoup(page.content)\n",
    "    tables=bs.find_all('table')\n",
    "    return tables\n",
    "\n",
    "tables=fetch_html_tables('https://www.norskfamilie.no/barometre/rentebarometer/')\n",
    "table_html=tables[0]\n",
    "\n",
    "#printing top\n",
    "print(str(table_html)[:1000])"
   ]
  },
  {
   "cell_type": "markdown",
   "id": "00466c08",
   "metadata": {},
   "source": [
    "# Få tak i HTML-tabellene\n",
    "\n",
    "Det vi får ut med `bs.find_all('table')` er altså en liste med alle partier i teksten med matchende `<table>`-`</table>`-tagger. I dette dokumentet er det bare én tabell, så listen har bare ett element. Vi må nå søke videre inne i tabellen etter innholdstaggene. Vi bruker samme funksjon til det. Her er to funksjoner som sammen finner innholdstaggene og returnerer en tabell:\n",
    "\n",
    "#### Eksempel 2:"
   ]
  },
  {
   "cell_type": "code",
   "execution_count": 2,
   "id": "777e87b1",
   "metadata": {},
   "outputs": [
    {
     "name": "stdout",
     "output_type": "stream",
     "text": [
      "[['', 'Bank', '', 'Navn', 'Nominell', 'Sikkerhetsgebyr', 'Etableringsgebyr', 'Termin', 'Effektiv'], ['1', 'Høland og Setskog Sparebank', '', 'Grønt Boliglån spesial', '4,90', '0', '0', '75', '5,11'], ['2', 'Statens pensjonskasse', '', 'Boliglån inntil 80 %', '4,99', '0', '0', '50', '5,16'], ['3', 'Nordnet Bank (Nordnet Bank AB)', '', 'Boliglån Private Banking (nivå 4)', '5,14', '0', '0', '0', '5,26'], ['4', 'Romsdal Sparebank', '', 'Grønt boliglån', '5,15', '1000', '2500', '60', '5,35'], ['5', 'Oppdalsbanken', '', 'Grønt boliglån innenfor 50%', '5,20', '1200', '0', '55', '5,40'], ['6', 'Ørskog Sparebank', '', 'Grønt bustadlån', '5,20', '1000', '0', '70', '5,41'], ['7', 'Høland og Setskog Sparebank', '', 'Grønt Boliglån', '5,20', '0', '0', '75', '5,42'], ['8', 'Landkreditt Bank AS', '', 'Grønt Boliglån 50%', '5,29', '500', '0', '0', '5,42'], ['9', 'Berg Sparebank', '', 'Grønt Boliglån 75%', '5,24', '1000', '0', '50', '5,43'], ['10', 'Vekselbanken', '', 'Grønt bustadlån', '5,25', '0', '0\n"
     ]
    }
   ],
   "source": [
    "def html_to_table(html):\n",
    "    \"Returns the table defined in html as a list\"\n",
    "    #defining the table:\n",
    "    table=[]\n",
    "    #iterating over all rows\n",
    "    for row in html.find_all('tr'):\n",
    "        r=[]\n",
    "        #finding all cells in each row:\n",
    "        cells=row.find_all('td')\n",
    "        \n",
    "        #if no cells are found, look for headings\n",
    "        if len(cells)==0:\n",
    "            cells=row.find_all('th')\n",
    "            \n",
    "        #iterate over cells:\n",
    "        for cell in cells:\n",
    "            cell=format(cell)\n",
    "            r.append(cell)\n",
    "        \n",
    "        #append the row to t:\n",
    "        table.append(r)\n",
    "    return table\n",
    "\n",
    "def format(cell):\n",
    "    \"Returns a string after converting bs4 object cell to clean text\"\n",
    "    if cell.content is None:\n",
    "        s=cell.text\n",
    "    elif len(cell.content)==0:\n",
    "        return ''\n",
    "    else:\n",
    "        s=' '.join([str(c) for c in cell.content])\n",
    "        \n",
    "    #here you can add additional characters/strings you want to \n",
    "    #remove, change punctuations or format the string in other\n",
    "    #ways:\n",
    "    s=s.replace('\\xa0','')\n",
    "    s=s.replace('\\n','')\n",
    "    return s\n",
    "\n",
    "table=html_to_table(table_html)\n",
    "\n",
    "#printing top\n",
    "print(str(table)[:1000])"
   ]
  },
  {
   "cell_type": "markdown",
   "id": "7e208de8-e45e-49eb-967d-d24b8f331543",
   "metadata": {},
   "source": [
    "Den første funksjonen itererer over tabellceller, mens den andre funksjonen konverterer innholdet fra et bs4-objekt med html-kode til leselig tekst. \n",
    "\n",
    "# Lagre tabellen\n",
    "\n",
    "Vi har nå skrapet siden, og hentet ut tabellen. For å gjøre den mer leselig, kan vi lagre den som en fil. Når vi lager filer i python bruker vi den innebygde `open`-funksjonen. Om vi kaller filen for \"rentebarometer.csv\", kan vi opprette filen ved å kjøre `f=open('rentebarometer.csv','w')`. Strengen `'w'` betyr at vi åpner filen for skriving (*writing*, i motsetning til lesing/*reading* markert med `'r'`. Vi fyller filen med innhold med `f.write()`. \n",
    "\n",
    "For å skille kolonnene skal vi her bruke semikolon ';'. Python har en enkel måte å konvertere en liste til en streng med skilletegn. En tar utgangspunkt i skilletegnet, og bruker metoden `join()` på det. For eksempel: \n",
    "\n",
    "#### Eksempel 3:"
   ]
  },
  {
   "cell_type": "code",
   "execution_count": 3,
   "id": "2b65a199",
   "metadata": {},
   "outputs": [
    {
     "data": {
      "text/plain": [
       "';Bank;;Navn;Nominell;Sikkerhetsgebyr;Etableringsgebyr;Termin;Effektiv'"
      ]
     },
     "execution_count": 3,
     "metadata": {},
     "output_type": "execute_result"
    }
   ],
   "source": [
    "';'.join(table[0])"
   ]
  },
  {
   "cell_type": "markdown",
   "id": "288e475d",
   "metadata": {},
   "source": [
    "Vi kan nå åpne filen for skriving og iterere over rader og skrive dem til filen. \n",
    "\n",
    "#### Eksempel 4:"
   ]
  },
  {
   "cell_type": "code",
   "execution_count": 4,
   "id": "51d8ba52",
   "metadata": {},
   "outputs": [],
   "source": [
    "def save_data(file_name,table):\n",
    "    \"Saves table to file_name\"\n",
    "    f=open(file_name,'w')\n",
    "    for row in table:\n",
    "        f.write(';'.join(row)+'\\n')\n",
    "    f.close()\n",
    "    \n",
    "save_data('rentebarometer.csv',table)"
   ]
  },
  {
   "cell_type": "code",
   "execution_count": 7,
   "id": "637b94af",
   "metadata": {},
   "outputs": [
    {
     "data": {
      "text/html": [
       "<div>\n",
       "<style scoped>\n",
       "    .dataframe tbody tr th:only-of-type {\n",
       "        vertical-align: middle;\n",
       "    }\n",
       "\n",
       "    .dataframe tbody tr th {\n",
       "        vertical-align: top;\n",
       "    }\n",
       "\n",
       "    .dataframe thead th {\n",
       "        text-align: right;\n",
       "    }\n",
       "</style>\n",
       "<table border=\"1\" class=\"dataframe\">\n",
       "  <thead>\n",
       "    <tr style=\"text-align: right;\">\n",
       "      <th></th>\n",
       "      <th>Unnamed: 0</th>\n",
       "      <th>Bank</th>\n",
       "      <th>Unnamed: 2</th>\n",
       "      <th>Navn</th>\n",
       "      <th>Nominell</th>\n",
       "      <th>Sikkerhetsgebyr</th>\n",
       "      <th>Etableringsgebyr</th>\n",
       "      <th>Termin</th>\n",
       "      <th>Effektiv</th>\n",
       "    </tr>\n",
       "  </thead>\n",
       "  <tbody>\n",
       "    <tr>\n",
       "      <th>0</th>\n",
       "      <td>1</td>\n",
       "      <td>Høland og Setskog Sparebank</td>\n",
       "      <td>NaN</td>\n",
       "      <td>Grønt Boliglån spesial</td>\n",
       "      <td>4,90</td>\n",
       "      <td>0</td>\n",
       "      <td>0</td>\n",
       "      <td>75</td>\n",
       "      <td>5,11</td>\n",
       "    </tr>\n",
       "    <tr>\n",
       "      <th>1</th>\n",
       "      <td>2</td>\n",
       "      <td>Statens pensjonskasse</td>\n",
       "      <td>NaN</td>\n",
       "      <td>Boliglån inntil 80 %</td>\n",
       "      <td>4,99</td>\n",
       "      <td>0</td>\n",
       "      <td>0</td>\n",
       "      <td>50</td>\n",
       "      <td>5,16</td>\n",
       "    </tr>\n",
       "    <tr>\n",
       "      <th>2</th>\n",
       "      <td>3</td>\n",
       "      <td>Nordnet Bank (Nordnet Bank AB)</td>\n",
       "      <td>NaN</td>\n",
       "      <td>Boliglån Private Banking (nivå 4)</td>\n",
       "      <td>5,14</td>\n",
       "      <td>0</td>\n",
       "      <td>0</td>\n",
       "      <td>0</td>\n",
       "      <td>5,26</td>\n",
       "    </tr>\n",
       "    <tr>\n",
       "      <th>3</th>\n",
       "      <td>4</td>\n",
       "      <td>Romsdal Sparebank</td>\n",
       "      <td>NaN</td>\n",
       "      <td>Grønt boliglån</td>\n",
       "      <td>5,15</td>\n",
       "      <td>1000</td>\n",
       "      <td>2500</td>\n",
       "      <td>60</td>\n",
       "      <td>5,35</td>\n",
       "    </tr>\n",
       "    <tr>\n",
       "      <th>4</th>\n",
       "      <td>5</td>\n",
       "      <td>Oppdalsbanken</td>\n",
       "      <td>NaN</td>\n",
       "      <td>Grønt boliglån innenfor 50%</td>\n",
       "      <td>5,20</td>\n",
       "      <td>1200</td>\n",
       "      <td>0</td>\n",
       "      <td>55</td>\n",
       "      <td>5,40</td>\n",
       "    </tr>\n",
       "    <tr>\n",
       "      <th>...</th>\n",
       "      <td>...</td>\n",
       "      <td>...</td>\n",
       "      <td>...</td>\n",
       "      <td>...</td>\n",
       "      <td>...</td>\n",
       "      <td>...</td>\n",
       "      <td>...</td>\n",
       "      <td>...</td>\n",
       "      <td>...</td>\n",
       "    </tr>\n",
       "    <tr>\n",
       "      <th>405</th>\n",
       "      <td>406</td>\n",
       "      <td>Kraft Bank ASA</td>\n",
       "      <td>NaN</td>\n",
       "      <td>Refinansieringslån med sikkerhet</td>\n",
       "      <td>8,00</td>\n",
       "      <td>0</td>\n",
       "      <td>0</td>\n",
       "      <td>75</td>\n",
       "      <td>8,40</td>\n",
       "    </tr>\n",
       "    <tr>\n",
       "      <th>406</th>\n",
       "      <td>407</td>\n",
       "      <td>INSTABANK ASA</td>\n",
       "      <td>NaN</td>\n",
       "      <td>Lån med sikkerhet</td>\n",
       "      <td>8,10</td>\n",
       "      <td>0</td>\n",
       "      <td>5000</td>\n",
       "      <td>50</td>\n",
       "      <td>8,47</td>\n",
       "    </tr>\n",
       "    <tr>\n",
       "      <th>407</th>\n",
       "      <td>408</td>\n",
       "      <td>MYBANK ASA</td>\n",
       "      <td>NaN</td>\n",
       "      <td>Omstartslån mybank</td>\n",
       "      <td>8,50</td>\n",
       "      <td>0</td>\n",
       "      <td>0</td>\n",
       "      <td>0</td>\n",
       "      <td>8,84</td>\n",
       "    </tr>\n",
       "    <tr>\n",
       "      <th>408</th>\n",
       "      <td>409</td>\n",
       "      <td>Bluestep Bank AB (publ), filial Oslo</td>\n",
       "      <td>NaN</td>\n",
       "      <td>Bluestep Boliglån</td>\n",
       "      <td>8,60</td>\n",
       "      <td>0</td>\n",
       "      <td>20000</td>\n",
       "      <td>25</td>\n",
       "      <td>8,98</td>\n",
       "    </tr>\n",
       "    <tr>\n",
       "      <th>409</th>\n",
       "      <td>410</td>\n",
       "      <td>Kraft Bank ASA</td>\n",
       "      <td>NaN</td>\n",
       "      <td>2. prioritetslån</td>\n",
       "      <td>9,50</td>\n",
       "      <td>0</td>\n",
       "      <td>0</td>\n",
       "      <td>75</td>\n",
       "      <td>10,02</td>\n",
       "    </tr>\n",
       "  </tbody>\n",
       "</table>\n",
       "<p>410 rows × 9 columns</p>\n",
       "</div>"
      ],
      "text/plain": [
       "     Unnamed: 0                                  Bank  Unnamed: 2  \\\n",
       "0             1           Høland og Setskog Sparebank         NaN   \n",
       "1             2                 Statens pensjonskasse         NaN   \n",
       "2             3        Nordnet Bank (Nordnet Bank AB)         NaN   \n",
       "3             4                     Romsdal Sparebank         NaN   \n",
       "4             5                         Oppdalsbanken         NaN   \n",
       "..          ...                                   ...         ...   \n",
       "405         406                        Kraft Bank ASA         NaN   \n",
       "406         407                         INSTABANK ASA         NaN   \n",
       "407         408                            MYBANK ASA         NaN   \n",
       "408         409  Bluestep Bank AB (publ), filial Oslo         NaN   \n",
       "409         410                        Kraft Bank ASA         NaN   \n",
       "\n",
       "                                  Navn Nominell  Sikkerhetsgebyr  \\\n",
       "0               Grønt Boliglån spesial     4,90                0   \n",
       "1                 Boliglån inntil 80 %     4,99                0   \n",
       "2    Boliglån Private Banking (nivå 4)     5,14                0   \n",
       "3                       Grønt boliglån     5,15             1000   \n",
       "4          Grønt boliglån innenfor 50%     5,20             1200   \n",
       "..                                 ...      ...              ...   \n",
       "405   Refinansieringslån med sikkerhet     8,00                0   \n",
       "406                  Lån med sikkerhet     8,10                0   \n",
       "407                 Omstartslån mybank     8,50                0   \n",
       "408                  Bluestep Boliglån     8,60                0   \n",
       "409                   2. prioritetslån     9,50                0   \n",
       "\n",
       "     Etableringsgebyr  Termin Effektiv  \n",
       "0                   0      75     5,11  \n",
       "1                   0      50     5,16  \n",
       "2                   0       0     5,26  \n",
       "3                2500      60     5,35  \n",
       "4                   0      55     5,40  \n",
       "..                ...     ...      ...  \n",
       "405                 0      75     8,40  \n",
       "406              5000      50     8,47  \n",
       "407                 0       0     8,84  \n",
       "408             20000      25     8,98  \n",
       "409                 0      75    10,02  \n",
       "\n",
       "[410 rows x 9 columns]"
      ]
     },
     "execution_count": 7,
     "metadata": {},
     "output_type": "execute_result"
    }
   ],
   "source": [
    "\n",
    "\n",
    "import pandas as pd\n",
    "pd.read_csv('rentebarometer.csv', delimiter=';')\n",
    "\n"
   ]
  },
  {
   "cell_type": "code",
   "execution_count": null,
   "id": "13fe7b05-171b-440e-9b6c-dbe8c4cf8b71",
   "metadata": {},
   "outputs": [],
   "source": []
  },
  {
   "cell_type": "markdown",
   "id": "5e599b25",
   "metadata": {},
   "source": [
    "Vi kan ta en kikk på dataene med Pandas (på windows må du kanskje ta med `encoding='latin1'` som argument for å få med æ,ø,å):\n",
    "\n",
    "#### Eksempel 5:"
   ]
  },
  {
   "cell_type": "markdown",
   "id": "9192af14",
   "metadata": {},
   "source": [
    "# En funksjon som skraper alle tabeller på en side\n",
    "\n",
    "Vi kan sammenfatte stegene over i én funksjon, som anvender\n",
    "\n",
    "#### Eksempel 6:"
   ]
  },
  {
   "cell_type": "code",
   "execution_count": 5,
   "id": "6c945aa9",
   "metadata": {},
   "outputs": [],
   "source": [
    "from bs4 import BeautifulSoup\n",
    "import requests\n",
    "\n",
    "def scrape(url, file_name):\n",
    "    table=[]\n",
    "    tables=fetch_html_tables(url)\n",
    "    #iterate over all tables, if there are more than one:\n",
    "    for tbl in tables:\n",
    "        #exends table so that table is a list containing elements \n",
    "        #from all tables:\n",
    "        table.extend(html_to_table(tbl))\n",
    "    #saving it:\n",
    "    save_data(file_name,table)\n",
    "    return table\n"
   ]
  },
  {
   "cell_type": "markdown",
   "id": "8b1948b2",
   "metadata": {},
   "source": [
    "Med denne koden kan vi nå skrape hvilken som helst nettside med tabeller vi ønsker å få tak i. For eksempel om vi ønsker å hente timeplanen til kurset:\n",
    "\n",
    "#### Eksempel 7:"
   ]
  },
  {
   "cell_type": "code",
   "execution_count": 6,
   "id": "c38d9a56",
   "metadata": {},
   "outputs": [
    {
     "name": "stdout",
     "output_type": "stream",
     "text": [
      "Uke  2\tMandag  08.01.2024\tTirsdag  09.01.2024\tOnsdag  10.01.2024\tTorsdag  11.01.2024\tFredag  12.01.2024\n",
      "08:00\t\t\t\t\t\n",
      "09:00\t\t\t\t\t\n",
      "10:00\t\t\t\t\t\n",
      "11:00\t\t\t\t\t\n",
      "12:00\t\t\t\t\tAktiviteter i tidsrommet 12:15-14:0012:15-14:00HHT 01.202SOK-1005-1ForelesningD.G. KidaneØ. MyrlandE. Sirnes\t12:15-14:00\tHHT 01.202\tSOK-1005-1\tForelesning\tD.G. KidaneØ. MyrlandE. Sirnes\t\n",
      "12:15-14:00\tHHT 01.202\n",
      "SOK-1005-1\tForelesning\n",
      "D.G. KidaneØ. MyrlandE. Sirnes\t\n",
      "13:00\t\t\t\t\n",
      "14:00\t\t\t\t\t\n",
      "15:00\t\t\t\t\t\n",
      "16:00\t\t\t\t\t\n",
      "12:15-14:00\tHHT 01.202\n",
      "SOK-1005-1\tForelesning\n",
      "D.G. KidaneØ. MyrlandE. Sirnes\t\n",
      "Uke  3\tMandag  15.01.2024\tTirsdag  16.01.2024\tOnsdag  17.01.2024\tTorsdag  18.01.2024\tFredag  19.01.2024\n",
      "08:00\t\t\t\t\t\n",
      "09:00\t\t\t\t\t\n",
      "10:00\t\t\t\t\t\n",
      "11:00\t\t\t\t\t\n",
      "12:00\t\tAktiviteter i tidsrommet 12:15-14:0012:15-14:00HHT 02.119SOK-1005-1ForelesningKontortid med studentassistent SOK-1005 og SOK-1006\t12:15-14:00\tHHT 02.119\tSOK-1005-1\tForelesningKontortid med studentassistent SOK-1005 og SOK-1006\t\t\t\t\tAktiviteter i tidsrommet 12:15-14:0012:15-14:00HHT 01.202SOK-1005-1For\n"
     ]
    }
   ],
   "source": [
    "url=('https://timeplan.uit.no/'\n",
    "'emne_timeplan.php?sem=24v&fag=&module[]=SOK-1005-1#week-15')\n",
    "file_name='schedule.csv'\n",
    "\n",
    "table=scrape(url,file_name)\n",
    "\n",
    "s='\\n'.join(['\\t'.join(row) for row in table])\n",
    "\n",
    "\n",
    "#printing top\n",
    "print(str(s)[:1000])"
   ]
  },
  {
   "cell_type": "markdown",
   "id": "8ddeedf2",
   "metadata": {},
   "source": [
    "# Når nettsiden ikke er \"vennligsinnet\"\n",
    "\n",
    "Det er ikke alle nettsideeiere som synes det er greit at vi skraper nettsidene deres. For ordens skyld så er det altså helt lovlig å skrape nettsider. Når noen legger ut data på en nettside har de offentliggjort dataene, og kan ikke bestemme hvordan dataene skal leses. Dette gjelder selv om de legger ut beskjed om noe annet. \n",
    "\n",
    "Det som *kan* være ulovlig, er å videreformidle dataene. \n",
    "\n",
    "Når nettsiden er vanskelig å skrape, er *selenium* av google en veldig nyttig pakke. Med den kan koden din opptre som en vanlig bruker. Så lenge du kan se dataene på skjermen din, bør det da i prinsippet være mulig å skrape enhver side. \n",
    "\n",
    "Vi har ikke tid til å gå inn på bruken av selenium i dette kurset, men her er en kode som bruker selenium til å skrape [nordpool.no](https://www.nordpoolgroup.com/Market-data1/Dayahead/Area-Prices/NO/Monthly/?view=table). De er ikke spesielt interessert i at vi gjør det, om du forsøker å skrape flere ganger kommer det opp en advarsel om at det er ulovlig, som altså ikke medfører riktighet. \n",
    "\n",
    "[Her er imidlertid en kode som gjøre det mulig å skrape Nordpools nettsider med selenium](https://github.com/espensirnes/notebooks/blob/main/res/scraping_nordpool.py)\n"
   ]
  },
  {
   "cell_type": "markdown",
   "id": "d70bd637-20c3-4f48-922a-10855766e263",
   "metadata": {},
   "source": [
    "# Oppgave\n",
    "\n",
    "1) Finn en side på nettet, som ikke er skrapet her (eller i R-delen av kurset) og skrap den\n",
    "2) Få siden inn i pandas\n",
    "3) Gjør noen beregninger du synes er interessante med dataene\n",
    "4) Lagre tabllen(e)"
   ]
  },
  {
   "cell_type": "markdown",
   "id": "02923370",
   "metadata": {},
   "source": [
    "##### [< Forrige](8%20-%20git%2C%20pythonfiler%20og%20IDE.ipynb)     |     [Neste >](10%20-%20statsmodels.ipynb)"
   ]
  }
 ],
 "metadata": {
  "kernelspec": {
   "display_name": "Python 3 (ipykernel)",
   "language": "python",
   "name": "python3"
  },
  "language_info": {
   "codemirror_mode": {
    "name": "ipython",
    "version": 3
   },
   "file_extension": ".py",
   "mimetype": "text/x-python",
   "name": "python",
   "nbconvert_exporter": "python",
   "pygments_lexer": "ipython3",
   "version": "3.11.9"
  }
 },
 "nbformat": 4,
 "nbformat_minor": 5
}
