{
 "cells": [
  {
   "cell_type": "markdown",
   "id": "e0ec92ec",
   "metadata": {
    "tags": []
   },
   "source": [
    "##### [< Forrige](7%20-%20løkker%20og%20simulering.ipynb)     |     [Neste >](9%20-%20webskraping%20med%20python.ipynb)"
   ]
  },
  {
   "cell_type": "markdown",
   "id": "063f5c3d-b593-420f-9bc3-afa09870d18b",
   "metadata": {
    "jp-MarkdownHeadingCollapsed": true,
    "tags": []
   },
   "source": [
    "<span style=\"color:#9bb1d4;font-size:30px;font-weight:900\"> 8 - Git, IDE'er og et lite spill </span>  "
   ]
  },
  {
   "cell_type": "markdown",
   "id": "1381f253",
   "metadata": {},
   "source": [
    "# Git"
   ]
  },
  {
   "cell_type": "markdown",
   "id": "10e03586",
   "metadata": {},
   "source": [
    "<a href=\"https://github.com/\"><img align=\"right\" src=\"img/github.png\" style=\"padding:20px;\"></a>\n",
    "Vi har fra før lært hvordan vi kloner et git-repositorie og hvordan vi dytter endringer dit. Men den kanskje viktigste funksjonen til git er som verktøy for å samarbeide om og koordinere arbeid med kode. I denne forelesningen skal vi se litt nærmere på hvordan vi bruker git til dette. \n",
    "\n",
    "For å forstå dette, oppretter vi et enkelt test-repositorie med en tekstfil, som vi kan teste git på."
   ]
  },
  {
   "cell_type": "markdown",
   "id": "15a8c186",
   "metadata": {},
   "source": [
    "## Opprett et nytt repositorie med en tekstfil\n",
    "Start med å opprette et repositorie du kaller \"git-test\": \n",
    "1. gå til [https://github.com/](https://github.com/) og logg eventuelt inn, om du ikke allerede er innlogget\n",
    "2. Trykk New\n",
    "3. Kall repositoriet \"git-test\"\n",
    "\n",
    "Du skal så klone dette repositoriet. Finn en egnet plassering, for eksempel ved å lage en ny mappe med navn \"SOK-1005\".\n",
    "\n",
    "3. Åpne kommandovinduet\n",
    "4. Skriv inn `cd <ønsket plassering>`, for eksempel `cd SOK-1005`. \n",
    "5. Hent et [token](https://github.com/settings/tokens) (husk å merke av for \"repo\"), eller bruk et du allerede har, og lim det inn i følgende kommando:\n",
    "\n",
    "```\n",
    "git clone https://<token>@github.com/<brukernavn>/git-test\n",
    "```\n",
    "(bytt ut \\<token\\> og \\<brukernavn\\> med ditt token og brukernavn)\n",
    "\n",
    "6. Opprett en ny tekstfil i den nye mappen \"git-test\". I windows og `jupyter.uit.no` gjør du det ved å høyreklikke i mappen. \n",
    "\n",
    "7. Åpne tekstfilen og kopier inn følgende linjer med tekst: \n",
    "\n",
    "```\n",
    "To be, or not to be, that is the question:\n",
    "Whether 'tis nobler in the mind to suffer\n",
    "The slings and arrows of outrageous fortune,\n",
    "Or to take Arms against a Sea of troubles,\n",
    "And by opposing end them? \n",
    "```\n",
    "\n",
    "8. Dytt endringene til git-hub ved å skrive (HUSK bruk `cd` + mappenavn for å navigere deg inn i `git-test`):\n",
    "\n",
    "```\n",
    "git add .\n",
    "git commit -m \"added Shakespeare\"\n",
    "git push\n",
    "```\n",
    "\n",
    "Blir du bedt om brukernavn/passord, generer du et  og bruker det som passord. "
   ]
  },
  {
   "cell_type": "markdown",
   "id": "14ea777c",
   "metadata": {},
   "source": [
    "## Konflikt"
   ]
  },
  {
   "cell_type": "markdown",
   "id": "ed52a5c1",
   "metadata": {},
   "source": [
    "Til nå har vi forutsatt at bare én person arbeider med samme repositorie. Hele poenget med git er imidlertid samarbeid, og da oppstår det ofte \"konflikt\". Vi snakker ikke da om bitter uenighet, men at to personer gjør endringer i samme repositorie på en måte som git ikke klarer å ordne opp i. \n",
    "\n",
    "Kort fortalt så klarer git fint å holde rede på at  ulike personer endrer på ulike filer, men når ulike personer endrer samme fil oppstår det konflikt. La os simulere dette med den nye tekstfilen vi har laget. \n",
    "\n",
    "Du skal nå ta rollene som begge parter i konflikten. \n",
    "\n",
    "1. Gå til repositoriet på github og endre \" 'tis\" i teksten til \"it is\"\n",
    "2. Gå til tekstfilen lokalt, og endre samme del av teksten til \"this\", og lukk tekstfilen.\n",
    "3. Forplikt den lokale endringen i kommandovinduet med \n",
    "```\n",
    "git add .\n",
    "git commit -m \"Improved Shakespeare\"\n",
    "```\n",
    "\n"
   ]
  },
  {
   "cell_type": "markdown",
   "id": "f2c2de7f",
   "metadata": {},
   "source": [
    "## Konfliktløsning\n",
    "Du har nå skapt en konflikt med deg selv. For å løse konflikten må du kjøre\n",
    "```\n",
    "git pull\n",
    "```\n",
    "\n",
    "Du skal da få en melding om at det er en konflikt du må løse. Åpne tekstfilen lokalt på nytt. Du vil da se at den er endret til noe slikt som dette:\n",
    "\n",
    "```\n",
    "To be, or not to be, that is the question:\n",
    "<<<<<<< HEAD\n",
    "Whether this nobler in the mind to suffer\n",
    "=======\n",
    "Whether 'it is nobler in the mind to suffer\n",
    ">>>>>>> 2de43c361c099727ae6f3cabce81a2fb87fe3e48\n",
    "The slings and arrows of outrageous fortune,\n",
    "Or to take Arms against a Sea of troubles,\n",
    "And by opposing end them? \n",
    "```\n",
    "\n",
    "Partitet mellom `<<<<<<< HEAD` og `>>>>>>> 2de43c361c099727ae6f3cabce81a2fb87fe3e48` er der konflikten befinner seg. Bytt ut teksten med\n",
    "\n",
    "```\n",
    "To be, or not to be, that is the question:\n",
    "Whether it is nobler in the mind to suffer        #\" 'tis\" means \"it is\" NOT \"this\", can I read?\n",
    "The slings and arrows of outrageous fortune,\n",
    "Or to take Arms against a Sea of troubles,\n",
    "And by opposing end them? \n",
    "```\n",
    "\n",
    "forplikt og dytt endringene til github:\n",
    "```\n",
    "git add .\n",
    "git commit -m \"Modernized Shakespeare\"\n",
    "git push\n",
    "```\n",
    "Du har nå løst konflikten."
   ]
  },
  {
   "cell_type": "markdown",
   "id": "5005063a-9012-43ce-9feb-c8da9d615045",
   "metadata": {},
   "source": [
    "## Når konflikten er for stor og omfattende til å redigere i teksten\n",
    "\n",
    "Av og til vil det være upraktisk å redigere i teksten, dersom endringene er for store og omfattende, eller dersom endringene for eksempel er i en jupyter-fil. \n",
    "\n",
    "Git er laget for å samarbeide om kode, som er lagret i vanlige tekstfiler. Formatet til \\*.ipynb-filene som jupyter lager er også kode, men vi ser den ikke når vi åpner dokumentet i jupyter. Når git setter inn tekst i jupyter-filer, slik som over, vil den blir ubrukelig. \n",
    "\n",
    "Den enkleste måten å løse slike situasjoner på, er å avbryte konfliktløsningen, omdøpe det lokale repositoriet og klone det originale fjernrepositoriet på på nytt. Det er ikke helt \"etter boken\", men å håndtere mer avanserte konflikter er det ikke plass til i dette kurset.\n",
    "\n",
    "Om du har klonet repositoriet på nytt kan du åpne filen i repoen på nett og lokalt samtidig, og sammenligne. Du kan så endre filen i det klonede repositoriet, eller bytte ut filen i fjernrepositoriet med den nyere lokale filen. Dette gjør du på følgende måte:\n",
    "\n",
    "1. Avbryt konfliktløsningen med `git merge --abort`\n",
    "\n",
    "2. Omdøp eksisterende lokale repositorie til noe annet, for eksempel \"git-test\" til \"git-test0\".\n",
    "\n",
    "3. Klon fjernrepositoriet på github på nytt (husk \"cd ..\" slik at du befinner deg i mappen over eksempelvis \"git-test0\")\n",
    "\n",
    "4. Sammenlign filene, gjør endringer eller lagre filen(e) i \"git-test0\" i det nyklonede repositoriet. \n",
    "\n",
    "5. Forplikt og dytt til github:\n",
    "\n",
    "```\n",
    "git add .\n",
    "git commit -m \"Fixed Shakespeare\"\n",
    "git push\n",
    "```\n",
    "\n",
    "Generelt er det langt mer nøyaktig og sikrere å bruke gits konfliktløsningsmetode enn å selv sammenligne versjoner, men dersom du vet helt sikkert at din lokale versjon er den riktige, eller at det er opplagt hvilke endringer som skal gjøres, kan du bruke metoden over. "
   ]
  },
  {
   "cell_type": "markdown",
   "id": "0b909102",
   "metadata": {},
   "source": [
    "## Arbeidsflyt i git"
   ]
  },
  {
   "cell_type": "markdown",
   "id": "d9812bf1",
   "metadata": {},
   "source": [
    "Følgende arbeidsflyt anbefales for git:\n",
    "\n",
    "1. Kjør følgende kommandoer ofte:\n",
    "\n",
    "```\n",
    "git add .\n",
    "git commit -m \"Update\"\n",
    "git pull\n",
    "```\n",
    "\n",
    "   Da vil din kode hele tiden være oppdatert mot originalkoden på serveren. Dersom du oppdager konflikter, kan du håndtere dem selv eller ta opp konflikten med de andre på prosjektet. Generelt er det en god idé at flere ikke jobber med samme fil samtidig. \n",
    "   \n",
    "\n",
    "2. Du får beskjed når det skjer en konflikten etter å ha kjørt `git pull`. Søk da etter \"<<<<<<< HEAD\" i teksten for å finne hvor konfliktene ligger, og rediger bort git-taggene som vist i eksemplet over. \n",
    "\n",
    "2. Kjør alltid kommandoene i 1. før du dytter til orginalen på serveren (`git push`)"
   ]
  },
  {
   "cell_type": "markdown",
   "id": "f8b516b4",
   "metadata": {},
   "source": [
    "### Dersom innloggingen ikke fungerer"
   ]
  },
  {
   "cell_type": "markdown",
   "id": "696bb372",
   "metadata": {},
   "source": [
    "En vanlig feil er at innloggingstedaljene som er lagret på maskinen din er utdaterte og feil. Når du bruker git vil ofte innloggingsdetaljene lagres på maskinen. Du kan løse problemet ved å slette detaljene \n",
    "* på Mac: Finn appen \"Keychain Access\", finn oppføringen for github, og slett den\n",
    "* På Windows: Trykk på vindu-knappen, søk og åpne \"Credential Manager\", finn oppføringen for github og slett den\n",
    "\n",
    "Om du må skrive inn passord hver gang du pusher til github, så kan du åpne filen som heter \"config\" under mappen \".git\" i repositoriet lokalt. Du kan åpne den med \"notepad\" (eller installer [Notepad++](https://notepad-plus-plus.org/downloads/)). Her kan du sette inn tokenet etterfulgt av \"@\" før \"github.com\" i nettadressen. Altså, om tokenet er \"abddefg\", brukernavnet er \"bruker\" og repositoriet heter \"mitt_repo\", skal adressen i config-filen se slik ut: \"https://abddefg@github.com/bruker/mitt_repo\"\n",
    "\n",
    "Du må muligens endre på visningsalternativene i \"Windows File Explorer\" til å vise skjulte filer og mapper, for å kunne se \"config\"-filen. "
   ]
  },
  {
   "cell_type": "markdown",
   "id": "fca589ad",
   "metadata": {
    "tags": []
   },
   "source": [
    "# IDE'er"
   ]
  },
  {
   "cell_type": "markdown",
   "id": "76762f5d",
   "metadata": {},
   "source": [
    "<a href=\"https://code.visualstudio.com/download\"><img align=\"right\" src=\"img/vs_code.jpg\" style=\"padding:20px;\"></a>\n",
    "\n",
    "Integrated Development Environment (IDE) er et program som hjelper deg å programmere. I motsetning til jupyter, brukes IDE'er til å redigere tekstfiler. \n",
    "\n",
    "Jupyter er fint til å redigere korte programsnutter og å hente inn og kjøre ferdigprogrammerte pakker og moduler. Men skal du skrive kode på mer en femten linjer, bør du skrive dem i en tekstfil. \n",
    "\n",
    "En av de mest brukte IDE'ene er  Visual Studio Code, som støtter en lang rekke programmeringsspråk, inkludert python. \n",
    "\n",
    "* [Her kan du laste ned Visual Studio Code](https://code.visualstudio.com/download) for både Mac og Windows.\n",
    "\n",
    "Før du kan bruke VSCode med python, må du sørge for at python er installert. [Last det ned her](https://www.python.org/downloads/). Dersom du har Windows, så vær sikker på at du installerer for alle brukere (krever adminrettigheter) og at du haker av for at python skal legges til i PATH.  "
   ]
  },
  {
   "cell_type": "markdown",
   "id": "a8c0697c-236a-4834-8cc6-16909f9bcecd",
   "metadata": {},
   "source": [
    "## Blotto"
   ]
  },
  {
   "cell_type": "markdown",
   "id": "a7d4c3c0-9fbe-423c-9331-6a6fd166b71d",
   "metadata": {},
   "source": [
    "Blotto er et spill der Oberst Blotto (du) skal disponere styrker over et gitt antall slagmarker. Spillet er sentralt innenfor økonomifaget og det som kalles *spillteori*. Vi kommer tilbake til noen interessante egenskaper med spillet senere, men la oss først spillet det. \n",
    "\n",
    "Du laster ned spillet ved å klone det fra github. Du bruker da følgende kommando: \n",
    "\n",
    "```\n",
    "git clone https://github.com/espensirnes/blotto\n",
    "```\n",
    "<a href=\"https://github.com/espensirnes/blotto\"><img align=\"right\" src=\"img/blotto.png\" style=\"padding:20px;\"></a>\n",
    "\n",
    "Pass på at du er i ønsket mappe i kommandovinduet før du kloner. [Les mer her](0%20-%20installasjon%20og%20tips.ipynb) om hvordan du navigerer i filsystemet i kommandovinduet. Naviger for eksempel til sok-1005-mappen du skapte over. \n",
    "\n",
    "Du kan nå åpne spillet i VSCode. Om du har VSCode åpen, så går du på \"File\" og velger \"Open Folder\". Du kan så velge blotto-mappen du nettopp klonet. \n",
    "\n",
    "Windows: For å lokalisere mappen du nettopp skapte i Windows, se hvilken bokstav stien begynner med, og se under \"min Datamaskin\"/\"My Computer\" for å gjenfinne rett stasjon. "
   ]
  },
  {
   "cell_type": "markdown",
   "id": "379b2596-2ef8-473b-9b0b-b1139fff3f4e",
   "metadata": {},
   "source": [
    "## Lag en python-fil"
   ]
  },
  {
   "cell_type": "markdown",
   "id": "cb49ba23-1d1d-4ab0-a266-babb92e03b16",
   "metadata": {
    "tags": []
   },
   "source": [
    "Om du nå har åpen VSCode i blotto-mappen, velger du \"File\"->\"New File\" og så \"File\"->\"Save As...\" , og lagerer den nye filen som \"run.py\". \n",
    "\n",
    "\"run.py\" er nå en python-fil, som du kan kjøre pythonkode i. Skriv for eksempel `print(\"Hello World\")` i filen og trykk ctrl+s for å lagre. \n",
    "\n",
    "Før du kan kjøre koden i VSCode, må du konfigurere \"debugging\" (feilsøking). \n",
    "\n",
    "1. Trykk på ![run debug](img/VSCode_debug.png)-knappen \n",
    "2. Under \"Run and Debug\", trykk på \"create a launch.json file\"\n",
    "3. På spørsmål om hvilken utvidelse (extension) som skal brukes, trykk på \"install\" under \"Python intelliSense\" fra Microsoft. \n",
    "4. Velg fanen \"run.py\" for å komme til bake til fila di. \n",
    "5. Velg \"Run and Debug\"\n",
    "\n",
    "Du kan nå trykke på ![run debug](img/run_vscode.png)-knappen oppe til venstre hver når du skal kjøre koden. \n",
    "\n",
    "For å kjøre spillet skriver du inn:\n",
    "\n",
    "```\n",
    "import blotto\n",
    "blotto.Run(6,100)\n",
    "```\n",
    "\n",
    "Du vil med stor sannsynlighet få en `ModuleNotFoundError` når du forsøker å laste `blotto`. Det skyldes i så fall at du ikke har installert alle pakkene du trenger. Om du har installert python riktig, for alle brukere, så kan du installere det du trenger med følgende kommandoer i kommandovinduet:\n",
    "\n",
    "```\n",
    "pip install tk\n",
    "pip install Pillow\n",
    "pip install numpy\n",
    "```\n",
    "\n",
    "* Mac-brukere: skriv `pip3` i stedet for `pip`\n",
    "* Windowsbrukere: pass på at du har åpnet kommandovinduet med adminrettigheter\n",
    "\n",
    "\n"
   ]
  },
  {
   "cell_type": "markdown",
   "id": "09c0827e-2ecd-4a9b-b484-41e49c095663",
   "metadata": {
    "tags": []
   },
   "source": [
    "## Forhåndsdefinere strategier\n",
    "Du kan legge inn en forhåndsdefinert strategi om du vil slippe å korrigere den i spillet hver gang. før `blotto.Run()` kan du for eksempel bestemme deg for å satse alle troppene på fire av feltene. \n",
    "\n",
    "\n",
    "Om du nå limer inn strategien under i \"run.py\", før `blotto.Run(6,100)`, og bytter ut sistnevnte med `blotto.Run(6,100,player_strategy)`, vil dette bli din utgangsstrategi:\n",
    "\n",
    "#### Eksempel 1:"
   ]
  },
  {
   "cell_type": "code",
   "execution_count": 1,
   "id": "537e1af4-3bdb-49c3-9abd-41ccd0b85159",
   "metadata": {},
   "outputs": [],
   "source": [
    "import numpy as np\n",
    "\n",
    "def player_strategy(n_battalions,n_fields):\n",
    "    #defining the array:\n",
    "    battalions=np.zeros(n_fields,dtype=int)\n",
    "    \n",
    "    #assigning 25 battalions to the first four battle fields:\n",
    "    battalions[:4]=25\n",
    "    \n",
    "    #randomizing to make strategy less predictable\n",
    "    battalions=battalions[np.random.rand(n_fields).argsort()]\n",
    "    \n",
    "    #asserting that all and no more than all battalions are used:\n",
    "    assert sum(battalions)==n_battalions\n",
    "    \n",
    "    return battalions"
   ]
  },
  {
   "cell_type": "markdown",
   "id": "d44bba52-d708-4226-81a8-2a384931dab4",
   "metadata": {
    "tags": []
   },
   "source": [
    "Koden over må altså *limes inn* i \"run.py\". \n",
    "\n",
    "Legg merke til at vi importerer numpy øverst, siden denne brukes til å lage en strategi. Du byttet ut `blotto.Run(6,100)` til `blotto.Run(6,100,player_strategy)` fordi det tredje argumentet i blotto.Run angir din utgangsstrategi strategi. \n",
    "\n",
    "Du kan forresten alltid sjekke hvilke argumenter en funksjon i har i VSCodev som en funksjon tar ved å holde ned Alt mens du har pekere over funksjonen. \n",
    "\n",
    "* Start nå spillet på nytt, med den forhåndsdefinerte strategien. \n",
    "\n",
    "Du kan endre koden over, og legge inn hvilken som helst strategi. I dette tilfellet er en startegi en funksjon som tar antall battaljoner og slagmarker som argumenter, og returnerer en liste over hvor battaljonene skal plasseres. "
   ]
  },
  {
   "cell_type": "markdown",
   "id": "7731b6e6-dc00-4e58-a360-372494d402d3",
   "metadata": {},
   "source": [
    "## PC'ens strategier"
   ]
  },
  {
   "cell_type": "markdown",
   "id": "05ae505b-eafa-4657-aef1-4246e564ebc3",
   "metadata": {},
   "source": [
    "PC'en sin strategi i dette spillet er foreløpig ikke veldig smart. Strategien over vil nesten alltid slå PC'en, så la oss hjelpe PC'en med en litt smartere strategi:\n",
    "\n",
    "#### Eksempel 2:"
   ]
  },
  {
   "cell_type": "code",
   "execution_count": 2,
   "id": "5367e685-14d7-4da7-9b1a-e1d78d87e8b2",
   "metadata": {},
   "outputs": [],
   "source": [
    "def computer_strategy(n_battalions,n_fields):\n",
    "    battalions=np.zeros(n_fields,dtype=int)\n",
    "    \n",
    "    #Will at present only work witih 100 battalions\n",
    "    battalions[0:1]=8\n",
    "    battalions[1:4]=30\n",
    "    battalions[4:]=1\n",
    "    \n",
    "    #randomizing location to make strategy less predictable\n",
    "    battalions=battalions[np.random.rand(n_fields).argsort()]\n",
    "    \n",
    "    assert sum(battalions)==n_battalions\n",
    "    return battalions"
   ]
  },
  {
   "cell_type": "markdown",
   "id": "95042fec-5dfd-476c-841b-999611e249e6",
   "metadata": {},
   "source": [
    "Lim koden inn i \"run.py\", og legg navnet på funksjonen inn som fjerde argument i`blotto.Run`, slik at det blir `blotto.Run(6,100,player_strategy, computer_strategy)`\n",
    "\n",
    "Om du ikke selv endrer på din forhåndsdefinerte strategi i spillet, vil du nå se at rollene er snudd om. Nå vinner PC'en  alltid de fire siste slagmarkene så vidt. Problemet er at PC'en nå vet hva du skal velge. Det kan hjelpe litt å gjøre valgene dine tilfeldige, slik at PC'en ikke kan vite hvilke valg du kommer til å ta. Du kan skape litt tilfeldighet ved å legge følgende inn i strategien over, før `assert`:\n",
    "\n",
    "```\n",
    "battalions=battalions[np.random.rand(n_fields).argsort()]\n",
    "```\n",
    "\n",
    "Denne koden sørge for at plasseringen av battaljonene blir tilfeldig. Du vil nå tape ofte, men ikke alltid. "
   ]
  },
  {
   "cell_type": "markdown",
   "id": "ffc77cfa",
   "metadata": {},
   "source": [
    "## Testing av strategier"
   ]
  },
  {
   "cell_type": "markdown",
   "id": "e4b15b8d",
   "metadata": {},
   "source": [
    "Det er upraktisk og veldig ineffektivt å kjøre `blotto.run` for å teste strategier. Det er enkelt å lage en funksjon som gir en poengsum for hvor god en strategi er mot en annen. Følgende funksjon returnerer en poengsum på -1 (tap), 0 (uavgjort) eller 1 (seier):\n",
    "\n",
    "#### Eksempel 3:"
   ]
  },
  {
   "cell_type": "code",
   "execution_count": 3,
   "id": "6cf14280",
   "metadata": {},
   "outputs": [
    {
     "name": "stdout",
     "output_type": "stream",
     "text": [
      "-1\n"
     ]
    }
   ],
   "source": [
    "def call_battle(n_fields, n_battalions, player_strategy, computer_strategy):\n",
    "    c_battlions=computer_strategy(n_battalions,n_fields)\n",
    "    p_battlions=player_strategy(n_battalions,n_fields)\n",
    "    \n",
    "    diff=p_battlions-c_battlions\n",
    "    points=sum(diff>0)-sum(diff<0)\n",
    " \n",
    "    return int(points>0)-int(points<0)\n",
    "\n",
    "print(call_battle(6, 100, player_strategy, computer_strategy))"
   ]
  },
  {
   "cell_type": "markdown",
   "id": "d02bf885",
   "metadata": {},
   "source": [
    "Å sjekke bare ett spill kan vi imidlertid ikke dra noen konklusjon av. Følgende kode kjører `call_battle` 100 000 ganger, og returner et score fra -1 (alltid tap) til 1 (alltid seier):\n",
    "\n",
    "#### Eksempel 4:"
   ]
  },
  {
   "cell_type": "code",
   "execution_count": 4,
   "id": "46e95750",
   "metadata": {},
   "outputs": [
    {
     "data": {
      "text/plain": [
       "-0.79813"
      ]
     },
     "execution_count": 4,
     "metadata": {},
     "output_type": "execute_result"
    }
   ],
   "source": [
    "def test_strategies(n_fields,n_battalions,player_strategy, computer_strategy):\n",
    "    n_tests=100000\n",
    "    r=0\n",
    "    record=[]\n",
    "    for i in range(n_tests):\n",
    "        p=call_battle(n_fields, n_battalions,\n",
    "            player_strategy, computer_strategy)\n",
    "        record.append(p)\n",
    "        r+=p\n",
    "    return r/n_tests\n",
    "\n",
    "test_strategies(6,100,player_strategy, computer_strategy)"
   ]
  },
  {
   "cell_type": "markdown",
   "id": "c52588da",
   "metadata": {},
   "source": [
    "\n",
    "Du kan nå gjøre endringer i både `player_strategy` og `computer_strategy` for å finne best mulig strategi, som fungerer mot flest mulig andre strategier!"
   ]
  },
  {
   "cell_type": "markdown",
   "id": "dc91c118",
   "metadata": {},
   "source": [
    "## Bruk funksjonaliteten i IDE'en\n",
    "\n",
    "<img src=img/stop_point.png align='right'>\n",
    "Når du skal forsøke å lage best mulig strategi, kan det være lurt å benytte seg av mulighetene som ligger i IDE'en. Den store fordelen med en IDE er at du kan stoppe koden, og undersøke variabler under veis. Trykker du i margen til venstre, vil det komme et rødt punkt som indikerer et stoppunkt. "
   ]
  },
  {
   "cell_type": "markdown",
   "id": "fdab637d",
   "metadata": {},
   "source": [
    "# Oppgaver:"
   ]
  },
  {
   "cell_type": "markdown",
   "id": "fea89e2b",
   "metadata": {},
   "source": [
    "3) Gå sammen to eller flere og gjør følgende:\n",
    "    a) Lag et repositorie 'blottokopi' på github som deles med alle\n",
    "    b) Klon repositoriet og kopier innholdet i blottorepositoriet til 'blottokopi'\n",
    "    c) Nå kan dere løse oppgavene under på hver deres PC, men arbeide på samme dokument\n",
    "    d) Forsøk å lage og løse konflikter, for å se hvordan det fungerer\n",
    "\n",
    "1) Forsøk å endre på funksjonen `player_strategy` slik at den blir best mulig (gjør gjerne endringer i `computer_strategy` også for å gi den best mulig konkurranse), og lagre strategien/funksjonen i en fil du kaller \"strategy.py\" i sok-1005-repositoriet. Koden vil bli kjørt mot den beste strategien til foreleser 100 000 ganger og får en score mellom -1 (alltid tap) og 1 (alltid seier). Du vil få vite hvordan du er rangert. \n",
    "\n",
    "Det må være gjort større endringer i funksjonen enn bare å endre på antall bataljoner i `player_strategy`, for å få godkjent. \n",
    "\n",
    "2) Endre `computer_strategy` og `player_strategy` slik at du faktisk kan angi vilkårlig hvilket antall battalioner og slagmarker du skal ha (nå vil du få en `assert error` om du oppgir noe annet enn hhv. 100 og 6. \n",
    "\n",
    "\n",
    "    "
   ]
  },
  {
   "cell_type": "markdown",
   "id": "42efbb1d",
   "metadata": {},
   "source": [
    "##### [< Forrige](7%20-%20løkker%20og%20simulering.ipynb)     |     [Neste >](9%20-%20webskraping%20med%20python.ipynb)"
   ]
  }
 ],
 "metadata": {
  "kernelspec": {
   "display_name": "Python 3 (ipykernel)",
   "language": "python",
   "name": "python3"
  },
  "language_info": {
   "codemirror_mode": {
    "name": "ipython",
    "version": 3
   },
   "file_extension": ".py",
   "mimetype": "text/x-python",
   "name": "python",
   "nbconvert_exporter": "python",
   "pygments_lexer": "ipython3",
   "version": "3.11.9"
  }
 },
 "nbformat": 4,
 "nbformat_minor": 5
}
