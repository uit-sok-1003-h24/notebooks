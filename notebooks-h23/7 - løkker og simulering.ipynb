{
 "cells": [
  {
   "cell_type": "markdown",
   "id": "a2f3208f",
   "metadata": {},
   "source": [
    "##### [< Forrige](6%20-%20pandas%2C%20filtrering%2C%20logikk%20og%20betingelser.ipynb)     |     [Neste >](8%20-%20Git,%20IDE'er%20og%20et%20lite%20spill.ipynb)"
   ]
  },
  {
   "cell_type": "markdown",
   "id": "44886fcb-8397-47dc-ab96-063adeea6cf4",
   "metadata": {
    "jp-MarkdownHeadingCollapsed": true,
    "tags": []
   },
   "source": [
    "<span style=\"color:#9bb1d4;font-size:30px;font-weight:900\"> 7 - løkker og simulering </span>  "
   ]
  },
  {
   "cell_type": "markdown",
   "id": "b947848b",
   "metadata": {},
   "source": [
    "Løkker er noe av det mest brukte verktøyet for en programmerer. EN løkke er en programkode som repeteres. Det finnes i hovedsak to typer løkker i Python: `while`-løkker og `for`-løkker. En `while` lar løkken løpe til en betingelse er oppfylt, mens `for` løkken repeterer koden for alle elementene i en liste eller annen *iterativ datastruktur*. La oss se på noen eksempler:\n",
    "\n",
    "# For-løkker\n",
    "\n",
    "Her er eksempel på en `for`-løkke som deriverer alle utrykkene i listen `expressions`:\n",
    "\n",
    "#### Eksempel 1:"
   ]
  },
  {
   "cell_type": "code",
   "execution_count": 1,
   "id": "551dd6b8",
   "metadata": {
    "tags": []
   },
   "outputs": [
    {
     "data": {
      "text/markdown": [
       "Den deriverte av $x^{\\frac{1}{y}}$ er $\\frac{x^{\\frac{1}{y}}}{x y}$"
      ],
      "text/plain": [
       "<IPython.core.display.Markdown object>"
      ]
     },
     "metadata": {},
     "output_type": "display_data"
    },
    {
     "data": {
      "text/markdown": [
       "Den deriverte av $x^{2} + 5 e^{x}$ er $2 x + 5 e^{x}$"
      ],
      "text/plain": [
       "<IPython.core.display.Markdown object>"
      ]
     },
     "metadata": {},
     "output_type": "display_data"
    },
    {
     "data": {
      "text/markdown": [
       "Den deriverte av $x \\log{\\left(x \\right)}$ er $\\log{\\left(x \\right)} + 1$"
      ],
      "text/plain": [
       "<IPython.core.display.Markdown object>"
      ]
     },
     "metadata": {},
     "output_type": "display_data"
    }
   ],
   "source": [
    "from IPython.display import Markdown, display\n",
    "import sympy as sp\n",
    "\n",
    "x,y=sp.symbols(\"x y\")\n",
    "\n",
    "expressions=[\n",
    "    sp.root(x,y),\n",
    "    x**2+5*sp.exp(x),\n",
    "    x*sp.ln(x)\n",
    "]\n",
    "\n",
    "for i in expressions:\n",
    "    display(Markdown(f\"Den deriverte av ${sp.latex(i)}$ er ${sp.latex(sp.diff(i,x))}$\"))"
   ]
  },
  {
   "cell_type": "markdown",
   "id": "9271b05c",
   "metadata": {},
   "source": [
    "Eller du kan bare gjøre en enkel iterasjon for heltall fra en startverdi til en sluttverdi:\n",
    "\n",
    "#### Eksempel 2:"
   ]
  },
  {
   "cell_type": "code",
   "execution_count": 6,
   "id": "96a1576b",
   "metadata": {
    "tags": []
   },
   "outputs": [
    {
     "name": "stdout",
     "output_type": "stream",
     "text": [
      "5\n",
      "6\n",
      "7\n",
      "0\n",
      "1\n",
      "2\n"
     ]
    },
    {
     "data": {
      "text/plain": [
       "[5, 6, 7]"
      ]
     },
     "execution_count": 6,
     "metadata": {},
     "output_type": "execute_result"
    }
   ],
   "source": [
    "for i in range(5,8):\n",
    "    print(i)\n",
    "    \n",
    "for i in range(3):\n",
    "    print(i)\n",
    "list(range(5,8))"
   ]
  },
  {
   "cell_type": "markdown",
   "id": "fde1b45d-dab4-41bc-ad1e-6ca4166b3c80",
   "metadata": {},
   "source": [
    "`range(5,8)` er i praksisk listen `[5, 6, 7]`"
   ]
  },
  {
   "cell_type": "markdown",
   "id": "3265f948",
   "metadata": {},
   "source": [
    "Du kan også \"pakke ut\" elementer, dersom hvert element i `for`-setningen har et bestemt antall under-elementer. La oss først lage en liste som inneholder en ´tuple´ med uttrykkene i `expressions` over, og den deriverte av disse:\n",
    "\n",
    "#### Eksempel 3:"
   ]
  },
  {
   "cell_type": "code",
   "execution_count": 3,
   "id": "01851fb5",
   "metadata": {
    "tags": []
   },
   "outputs": [
    {
     "data": {
      "text/plain": [
       "[(x**(1/y), x**(1/y)/(x*y)),\n",
       " (x**2 + 5*exp(x), 2*x + 5*exp(x)),\n",
       " (x*log(x), log(x) + 1)]"
      ]
     },
     "execution_count": 3,
     "metadata": {},
     "output_type": "execute_result"
    }
   ],
   "source": [
    "#using list comprehension to generate a list with expression,derivative tuples:\n",
    "expressions_w_derivatives=[ (i, sp.diff(i,x)) for i in expressions ]\n",
    "expressions_w_derivatives"
   ]
  },
  {
   "cell_type": "markdown",
   "id": "abd8b449",
   "metadata": {},
   "source": [
    "Vi kan nå kjøre en for-løkke som forventer at hvert element i listen er en *iterabel* (for eksempel liste eller tuple) med to elementer:\n",
    "\n",
    "#### Eksempel 4"
   ]
  },
  {
   "cell_type": "code",
   "execution_count": 4,
   "id": "07e6d77e",
   "metadata": {
    "tags": []
   },
   "outputs": [
    {
     "data": {
      "text/markdown": [
       "Den deriverte av $x^{\\frac{1}{y}}$ er $\\frac{x^{\\frac{1}{y}}}{x y}$"
      ],
      "text/plain": [
       "<IPython.core.display.Markdown object>"
      ]
     },
     "metadata": {},
     "output_type": "display_data"
    },
    {
     "data": {
      "text/markdown": [
       "Den deriverte av $x^{2} + 5 e^{x}$ er $2 x + 5 e^{x}$"
      ],
      "text/plain": [
       "<IPython.core.display.Markdown object>"
      ]
     },
     "metadata": {},
     "output_type": "display_data"
    },
    {
     "data": {
      "text/markdown": [
       "Den deriverte av $x \\log{\\left(x \\right)}$ er $\\log{\\left(x \\right)} + 1$"
      ],
      "text/plain": [
       "<IPython.core.display.Markdown object>"
      ]
     },
     "metadata": {},
     "output_type": "display_data"
    }
   ],
   "source": [
    "\n",
    "for function,derivative in expressions_w_derivatives:\n",
    "    display(Markdown(f\"Den deriverte av ${sp.latex(function)}$ er ${sp.latex(derivative)}$\"))"
   ]
  },
  {
   "cell_type": "markdown",
   "id": "4d4fc74f",
   "metadata": {},
   "source": [
    "# While-løkker\n",
    "\n",
    "En `while`-løkke er en løkke som fortsetter inntil en betingelse er oppfylt. I eksemplet under ser vi at det genereres nye tilfeldige aksjekurser så lenge kursen er under 125 kroner . \n",
    "\n",
    "Aksjen skal bevege seg tilfeldig. For å få til det bruker vi funksjonen `rand` fra `random`-modulen i numpy.  `np.random.rand()` gir et tilfeldig tall mellom null og én, så ved å multiplisere `(np.random.rand()-0.5)` med 40, får vi et tilfeldig tall mellom -20 og 20. \n",
    "\n",
    "#### Eksempel 5:"
   ]
  },
  {
   "cell_type": "code",
   "execution_count": 10,
   "id": "1ad7929e",
   "metadata": {
    "tags": []
   },
   "outputs": [
    {
     "name": "stdout",
     "output_type": "stream",
     "text": [
      "100\n",
      "92.7640276983727\n",
      "93.82781004142633\n",
      "107.09865158007074\n",
      "119.09008690539238\n",
      "107.72106323868806\n",
      "105.39781618352283\n",
      "104.1860351965741\n",
      "92.07037580756295\n",
      "102.34634828170836\n",
      "91.55444893630857\n",
      "93.68692925699115\n",
      "112.37678731798464\n",
      "128.14019828934912\n"
     ]
    }
   ],
   "source": [
    "import numpy as np\n",
    "\n",
    "dy,y=0,100\n",
    "\n",
    "while y<125:  \n",
    "    y+=dy\n",
    "    dy=40*(np.random.rand()-0.5) \n",
    "    print(y)"
   ]
  },
  {
   "cell_type": "markdown",
   "id": "098780b7",
   "metadata": {},
   "source": [
    "Legg spesielt merke til `y+=dy` over. Denne operasjonen legger `dy` til `y`, og tilsvarer altså `y=y+dy`. De aller fleste programmeringsspråk støtter `+=`-operatoren.  \n",
    "\n",
    "Dette er forøvrig standard måte å moddelere aksjekursbevegelse innen økonomifaget.\n",
    "\n",
    "Legg også merke til at vi kan sette flere variabler samtidig, ved å skille både variablene og verdiene med like mange kommaer, `dy,y=0,100`"
   ]
  },
  {
   "cell_type": "markdown",
   "id": "662d50e0",
   "metadata": {
    "tags": []
   },
   "source": [
    "# Simulering\n",
    "\n",
    "Løkker kan brukes til mye, så la oss se på et eksempel på simulering. Simulering vil si å trekke tilfeldige tall for å se hvordan en modell opptrer under usikkerhet. La oss for eksempel tenke oss en aksje som starter på hundre kroner, og så beveger seg tilfeldig. Vi ser på aksjen hvert sjette minutt, eller én tidel (0.1) av én time. Tiden øker dermed med 0.1 i hver periode. \n",
    "\n",
    "For å tegne opp stien til aksjekursen, lager vi først lister for x- og y-verdiene, og så legger vi til elementer i hver av listene med `append`-funksjonen til listeobjektene, før listen plottes som en graf. Kjør koden flere ganger, for å se ulike simuleringer. \n",
    "\n",
    "#### Eksempel 6:"
   ]
  },
  {
   "cell_type": "code",
   "execution_count": 24,
   "id": "f6b22abd",
   "metadata": {
    "tags": []
   },
   "outputs": [
    {
     "data": {
      "text/plain": [
       "<matplotlib.legend.Legend at 0x29a6c295690>"
      ]
     },
     "execution_count": 24,
     "metadata": {},
     "output_type": "execute_result"
    },
    {
     "data": {
      "image/png": "[encoded data removed]",
      "text/plain": [
       "<Figure size 2000x1000 with 1 Axes>"
      ]
     },
     "metadata": {},
     "output_type": "display_data"
    }
   ],
   "source": [
    "import matplotlib.pyplot as plt\n",
    "from matplotlib.patches import Ellipse\n",
    "from IPython.display import display, clear_output\n",
    "fig, ax = plt.subplots(figsize=(20, 10))\n",
    "ax.set_ylim([0,200])\n",
    "ax.set_xlim([0,20])\n",
    "\n",
    "x,y,dy=0,100,0\n",
    "\n",
    "ypath=[]\n",
    "xpath=[]\n",
    "\n",
    "while x<25:\n",
    "    x+= 0.1\n",
    "    y+= dy\n",
    "    dy=40*(np.random.rand()-0.5)\n",
    "\n",
    "\n",
    "    xpath.append(x)\n",
    "    ypath.append(y)\n",
    "    \n",
    "ax.plot(xpath,ypath,label='YARA')\n",
    "ax.legend(loc='upper left',frameon=False,fontsize=30)\n",
    "\n",
    "    \n"
   ]
  },
  {
   "cell_type": "markdown",
   "id": "11324a44-42cf-46f3-838c-00966587119d",
   "metadata": {},
   "source": [
    "# Dynamisk plott\n",
    "\n",
    "Om vi ønsker å formidle kunnskap, er det av og til nyttig med dynamiske plott. Altså plott som endrer seg mens du ser på dem. Vi kan gjøre det ved å rykke inn de to siste setningene i Eksempel 19 over. Det er disse setningene som lager plottet. Ved å rykke dem inn, plottes figuren i hver iterasjon. \n",
    "\n",
    "I utgangspunktet vil du da få 25 figurer etter hverandre. For at figuren skal tegnes i samme figur hver gang, må vi\n",
    "\n",
    "1. Ekspisit be python om å vise den med `display(fig)`\n",
    "2. Slette figuren i figurobjektet `ax` med `ax.cla()` og i visningen (`clear_output(wait = True)`).\n",
    "3. Sette akseintervallene på nytt. \n",
    "\n",
    "Det kan du få til ved å sette følgende setninger inn i løkken:\n",
    "\n",
    "#### Eksempel 7:"
   ]
  },
  {
   "cell_type": "code",
   "execution_count": 21,
   "id": "88885535-4de3-4688-b87d-f73346d43cf9",
   "metadata": {
    "tags": []
   },
   "outputs": [
    {
     "data": {
      "text/plain": [
       "(0.0, 20.0)"
      ]
     },
     "execution_count": 21,
     "metadata": {},
     "output_type": "execute_result"
    }
   ],
   "source": [
    "#displaying and deleting last plot\n",
    "display(fig)\n",
    "ax.cla()\n",
    "clear_output(wait = True)\n",
    "\n",
    "#Fixing axes\n",
    "ax.set_ylim([0,200])\n",
    "ax.set_xlim([0,20])"
   ]
  },
  {
   "cell_type": "markdown",
   "id": "8c24c3ab-433a-4629-be44-9b946e511224",
   "metadata": {},
   "source": [
    "I tillegg kan vi lage en markør ved å tegne en rund elipse i x,y, og legge til teks til den. Det skjer om du limer inn denne i løkken:\n",
    "\n",
    "#### Eksempel 8"
   ]
  },
  {
   "cell_type": "code",
   "execution_count": 28,
   "id": "aae1cac8-977f-4596-b936-dc6c967ce6ed",
   "metadata": {
    "tags": []
   },
   "outputs": [
    {
     "data": {
      "text/plain": [
       "Text(25.100000000000087, 13.244829263245325, 'NOK 10.2')"
      ]
     },
     "execution_count": 28,
     "metadata": {},
     "output_type": "execute_result"
    }
   ],
   "source": [
    "#making dot:\n",
    "c=Ellipse((x, y), 0.25,5, color='r')\n",
    "ax.add_patch(c)\n",
    "ax.text(x+0.1,y+3,f'NOK {np.round(y,1)}')"
   ]
  },
  {
   "cell_type": "markdown",
   "id": "b33da02f-ae8a-4b4b-bf43-0a0b74d2663f",
   "metadata": {
    "tags": []
   },
   "source": [
    "Det bør nevenes at dette ikke er den anbefalte måte å lage grafiske animasjoner. Det går tregt og hakker. Om en skal gjøre det på en litt mer profesjonell måte, er det hovedsakelig to alternativer:\n",
    "\n",
    "* bruke python-pakken ´tkinter´, som er den vanligste pakken for å lage python-programmer med grafisk brukergrensesnitt\n",
    "* javascript på en nettside\n",
    "\n",
    "#### Eksempel 9:"
   ]
  },
  {
   "cell_type": "markdown",
   "id": "44eb8703-2cd9-4afb-8876-64d1114d61b2",
   "metadata": {},
   "source": [
    "## Fangenes dilemma - dynamisk repetert spill"
   ]
  },
  {
   "cell_type": "markdown",
   "id": "99fbafc3-74e3-446a-9422-9218a05e6ae1",
   "metadata": {},
   "source": [
    "\"Fangenes dilemma\" er et velkjent spill innen samfunnsøkonomi. To fanger avhøres om en forbrytelse de har begått sammen. Hver av dem kan enten velge å forråde den andre ved å sladre (\"T\" for \"tyste/traitor\") eller være lojal og taus (\"L\" for \"lojal/loyal\"). Holder begge tett, blir det en lav straff for begge. Sladrer begge blir det en høyere straff. Dersom bare én sladrer, slipper den som sladrer fri, mens den som holder tett får en streng straff.\n",
    "\n",
    "            Spiller B\n",
    "<div style=\"display: flex;\">\n",
    "    \n",
    "  <div style=\"margin-right: 20px;\">Spiller A</div>\n",
    "  <div>\n",
    "\n",
    "|  | Tyste | Lojal | \n",
    "|----------|----------|----------|\n",
    "| Tyste | 1,1 | 5,0 |\n",
    "|Lojal | 0,5 | 3,3 |\n",
    "\n",
    "\n",
    "  </div>\n",
    "</div>\n",
    "<br><br>\n",
    "Ser du hva som er lurt å gjøre for spillerne? Dette kan operasjonaliseres i følgende gevinstfunksjon:\n",
    "\n",
    "\n",
    "#### Eksempel 10:"
   ]
  },
  {
   "cell_type": "code",
   "execution_count": 31,
   "id": "e558a5f7-87df-458b-8a71-d2ff88f7e5c4",
   "metadata": {
    "tags": []
   },
   "outputs": [],
   "source": [
    "def game_payoff(action_a, action_b):\n",
    "    if action_a == \"L\" and action_b == \"L\":\n",
    "        return 3, 3\n",
    "    elif action_a == \"L\" and action_b == \"T\":\n",
    "        return 0, 5\n",
    "    elif action_a == \"T\" and action_b == \"L\":\n",
    "        return 5, 0\n",
    "    else:\n",
    "        return 1, 1"
   ]
  },
  {
   "cell_type": "markdown",
   "id": "04c8a8f1-c550-4553-b227-3b41d1166723",
   "metadata": {},
   "source": [
    "Du kan se på poengene som antall år de får i strafferabatt i forhold til straffen for en som holder tett, når den andre forråder. \n",
    "\n",
    "Vi kan nå lage en adferdsfunksjon for fangene. Fangene får ikke vite hva motstanderen gjør i øyeblikket, men vi skal se på et spill som gjentas flere ganger. Spillerne får da vite hva motstanderen gjorde forrige periode. Handlingen til motstanderen forrige periode, blir da argumentet i adferdsfunksjonen, eller strategien. Vi definerer en egen funksjon for hver spiller, men de er foreløpig identiske. I øvingsoppgaven kan du lage ulike funksjoner for spillerne om du vil.\n",
    "\n",
    "#### Eksempel 11"
   ]
  },
  {
   "cell_type": "code",
   "execution_count": 32,
   "id": "9d76b369-38fb-4677-a7bc-dbc9b45a9c88",
   "metadata": {
    "tags": []
   },
   "outputs": [],
   "source": [
    "def strategy_player_a(action_b):\n",
    "    #punish if the other is a traitor, else be loyal\n",
    "    if action_b == \"T\":\n",
    "        return \"T\"\n",
    "    else:\n",
    "        return \"L\"\n",
    "    \n",
    "def strategy_player_b(action_a):\n",
    "    #punish if the other is a traitor, else be loyal\n",
    "    if action_a == \"T\":\n",
    "        return \"T\"\n",
    "    else:\n",
    "        return \"L\"\n"
   ]
  },
  {
   "cell_type": "markdown",
   "id": "e4f92039-f8f3-4cc0-800d-fa41619e94dc",
   "metadata": {},
   "source": [
    "Dersom spillet kun spilles én gang, er den åpenbart beste strategien for begge å tyste. Om de spiller spillet gjentatte ganger, er imidlertid ikke det like klart. Vi kan nå se hvordan dette vil spille seg ut, gitt payoffen og strategien i et gjentatt spill, der fangene spiller mot hverandre et gitt antall ganger:\n",
    "\n",
    "#### Eksempel 12"
   ]
  },
  {
   "cell_type": "code",
   "execution_count": 27,
   "id": "846fb7e2-7beb-4811-b54b-69f0b5d22451",
   "metadata": {
    "tags": []
   },
   "outputs": [
    {
     "name": "stdout",
     "output_type": "stream",
     "text": [
      "Actions A: ['T', 'T', 'T', 'T', 'T', 'T', 'T', 'T', 'T', 'T']\n",
      "Actions B: ['T', 'T', 'T', 'T', 'T', 'T', 'T', 'T', 'T', 'T']\n",
      "Total Score A: 9\n",
      "Total Score B: 9\n"
     ]
    }
   ],
   "source": [
    "num_rounds = 10\n",
    "\n",
    "#Defining history and initial response\n",
    "actions_a = [\"T\"]\n",
    "actions_b = [\"T\"]\n",
    "\n",
    "scores_a = 0\n",
    "scores_b = 0\n",
    "\n",
    "#Iterating over periods\n",
    "for i in range(1, num_rounds):\n",
    "    #collecting responses and appending to history\n",
    "    next_a = strategy_player_a(actions_b[i-1])\n",
    "    next_b = strategy_player_b(actions_a[i-1])\n",
    "    \n",
    "    actions_a.append(next_a)\n",
    "    actions_b.append(next_b)\n",
    "    \n",
    "    #calculating score\n",
    "    score_a, score_b = game_payoff(next_a, next_b)\n",
    "    scores_a += score_a\n",
    "    scores_b += score_b\n",
    "\n",
    "\n",
    "print(\"Actions A:\", actions_a)\n",
    "print(\"Actions B:\", actions_b)\n",
    "print(\"Total Score A:\", scores_a)\n",
    "print(\"Total Score B:\", scores_b)"
   ]
  },
  {
   "cell_type": "markdown",
   "id": "bb16c7f3-83fb-4337-ad57-8d9927b94942",
   "metadata": {},
   "source": [
    "Målet er for hver å få lavest mulig score. Hva er den beste strategien for spillerne?"
   ]
  },
  {
   "cell_type": "markdown",
   "id": "ebe68bb5-f731-48eb-9027-981dbbbfad70",
   "metadata": {},
   "source": [
    "## Nummerisk optimering"
   ]
  },
  {
   "cell_type": "markdown",
   "id": "9ac733ee-fbc8-499f-9370-53aa908a068e",
   "metadata": {},
   "source": [
    "Vi har før regnet ut optimalt kvantum ved å bruke Sympy til å regne ut den deriverte, sette lik null og løse. Av og til er det vanskelig å regne ut det optimale. Da går det an å regneut objektfunksjonen (det vi ønsker å maksimere) for mange ulike verdier, og velge det som gir høyest resultat. \n",
    "\n",
    "Vi skal her se et eksempel på det, men med en objektfunksjon som egentlig er enkelt å regne ut maksimum av analytisk med Sympy. Du kan da sjekke om det nummeriske resultatet er korrekt ved å regne ut i Sympy (det er en av øvningsoppgavene). \n",
    "\n",
    "Som objektfunksjon bruker vi fortjenesten til en bedrift som selger Q varer til pris p. Bedriftens kostnad per enhet er C\n",
    "\n",
    "#### Eksempel 13:"
   ]
  },
  {
   "cell_type": "code",
   "execution_count": 11,
   "id": "77b58d73-3410-4b2b-b2ec-ba49ede527a7",
   "metadata": {
    "tags": []
   },
   "outputs": [],
   "source": [
    "def profit(p, C):\n",
    "    \"\"\"Beregner profitt gitt pris p og kostnad per enhet C.\"\"\"\n",
    "    Q = demand(p)\n",
    "    return p * Q - C * Q"
   ]
  },
  {
   "cell_type": "markdown",
   "id": "dc11629a-ae6b-4c9e-958e-ec7bb7097ec6",
   "metadata": {},
   "source": [
    "Q bestemmes av en etterspørselsfunksjon. \n",
    "\n",
    "#### Eksempel 14:"
   ]
  },
  {
   "cell_type": "code",
   "execution_count": 12,
   "id": "f85da137-409f-4e38-a720-85a91760b77f",
   "metadata": {
    "tags": []
   },
   "outputs": [],
   "source": [
    "def demand(p):\n",
    "    \"\"\"Returnerer antall enheter solgt gitt en pris p.\"\"\"\n",
    "    return 100 - p"
   ]
  },
  {
   "cell_type": "markdown",
   "id": "efd16153-a056-4c6c-987d-0c0f5ac3cc9f",
   "metadata": {},
   "source": [
    "Vi kan nå finne optimum nummerisk:\n",
    "\n",
    "#### Eksempel 15"
   ]
  },
  {
   "cell_type": "code",
   "execution_count": 13,
   "id": "86e98a46-8d70-4768-8efa-403dea57cd47",
   "metadata": {
    "tags": []
   },
   "outputs": [
    {
     "name": "stdout",
     "output_type": "stream",
     "text": [
      "Optimal pris: 52.452452452452455\n",
      "Maksimal profitt ved optimal pris: 2256.247739230722\n"
     ]
    }
   ],
   "source": [
    "import numpy as np\n",
    "\n",
    "def find_optimal_price(start, end, C):\n",
    "    \"\"\"Finding optimal price in the range start-end\"\"\"\n",
    "    max_profit = float('-inf')\n",
    "    optimal_price = None\n",
    "    n_samples = 1000\n",
    "    \n",
    "    #iterating over the price range\n",
    "    for p in np.linspace(start, end, n_samples):\n",
    "        current_profit = profit(p, C)\n",
    "        if current_profit > max_profit:\n",
    "            #if the profit exeeds the current profit, then store the new profit and price\n",
    "            max_profit = current_profit\n",
    "            optimal_price = p\n",
    "\n",
    "    return optimal_price, max_profit\n",
    "\n",
    "\n",
    "cost = 5\n",
    "start_price = 0\n",
    "end_price = 100\n",
    "\n",
    "optimal_price, max_profit = find_optimal_price(0, 100, cost)\n",
    "\n",
    "print(f\"Optimal pris: {optimal_price}\")\n",
    "print(f\"Maksimal profitt ved optimal pris: {max_profit}\")"
   ]
  },
  {
   "cell_type": "markdown",
   "id": "d55d782e-7644-4b14-baf1-09b47f74277a",
   "metadata": {},
   "source": [
    "## \"Monte Carlo\"-simulering"
   ]
  },
  {
   "cell_type": "markdown",
   "id": "d69392fa-e2d1-44f9-836b-a770b5b8b505",
   "metadata": {},
   "source": [
    "Fremtiden er usikker, en deterministisk modell som over tar ikke hensyn til det. En \"Monte Carlo\"-simulering betyr å trekke tilfeldige tall fra en sannsynlighetsfordeling, og bruke det i beregningen. En vil da kunne få et anslag på usikkerheten i den endelige beregningen. \n",
    "\n",
    "I dette eksemplet regnes inntekten etter 30 år ut (eller så lenge du spesifiserer). Inntekten hvert år er imidlertid avhengig av inntekten i fjor (for eksempel fordi man investerer noe av inntekten). \n",
    "\n",
    "Vi starter med å definere en funksjon som regner ut inntekten, basert på forrige års inntekt og et tilfeldig bidrag:\n",
    "\n",
    "#### Eksempel 16:"
   ]
  },
  {
   "cell_type": "code",
   "execution_count": 14,
   "id": "5b1b880e-14aa-4381-b6cc-a49d304e12bd",
   "metadata": {
    "tags": []
   },
   "outputs": [
    {
     "data": {
      "text/plain": [
       "533433.1498755204"
      ]
     },
     "execution_count": 14,
     "metadata": {},
     "output_type": "execute_result"
    }
   ],
   "source": [
    "import numpy as np\n",
    "\n",
    "def calc_income(last_year_income, growth_rate, volatility):\n",
    "    \n",
    "    random_growth = np.random.normal(0, volatility)\n",
    "    growth =  growth_rate + random_growth\n",
    "    \n",
    "    income = last_year_income * (1 + growth)\n",
    "    \n",
    "    return income\n",
    "\n",
    "# regner ut med en halv million som fjorårets inntekt, 5% forventet inntektsøkning og 2% usikkerhet\n",
    "\n",
    "calc_income(500000, 0.05, 0.02)"
   ]
  },
  {
   "cell_type": "markdown",
   "id": "ba59d797-72b3-42e5-a4c5-27518acfdc03",
   "metadata": {},
   "source": [
    "Så lager vi en funksjon som lager en \"inntektssti\" (income path) for et gitt antall års inntekt. Dette kalles en \"sti\"/\"path\" fordi dagens inntekt er avhengig av gårsdagen. Dagens situasjon er altså avhengig av hvilken sti inntekten har fulgt i alle tidligere år. \n",
    "\n",
    "#### Eksempel 17"
   ]
  },
  {
   "cell_type": "code",
   "execution_count": 15,
   "id": "7c920c0c-659a-4945-b184-eeeea414a6eb",
   "metadata": {
    "tags": []
   },
   "outputs": [
    {
     "data": {
      "text/plain": [
       "[500000,\n",
       " 506168.7941812706,\n",
       " 535258.7582826338,\n",
       " 564758.1719742338,\n",
       " 566393.5674357883]"
      ]
     },
     "execution_count": 15,
     "metadata": {},
     "output_type": "execute_result"
    }
   ],
   "source": [
    "def income_path(years, initial_income, growth_rate, volatility):\n",
    "    \n",
    "    incomes = [initial_income]\n",
    "    \n",
    "    #simulating a single income path:\n",
    "    for year in range(years-1):\n",
    "\n",
    "        #calculating income:\n",
    "        income = calc_income(incomes[-1], growth_rate, volatility)\n",
    "\n",
    "        #adding income for year to the path\n",
    "        incomes.append(income)\n",
    "        \n",
    "    return incomes\n",
    "\n",
    "#regner ut for fem år:\n",
    "\n",
    "income_path(5,500000, 0.05, 0.02)"
   ]
  },
  {
   "cell_type": "markdown",
   "id": "a2020760-b7ef-43ef-bc76-533dfa7bea7c",
   "metadata": {},
   "source": [
    "Vi kan nå lage en funksjon som simulerer et gitt antall intektsstier gitt ved `num_simulations`:\n",
    "\n",
    "#### Eksempel 18:"
   ]
  },
  {
   "cell_type": "code",
   "execution_count": 16,
   "id": "27cb7fa2-2023-4093-b301-04823afa9a6c",
   "metadata": {
    "tags": []
   },
   "outputs": [
    {
     "data": {
      "text/html": [
       "<div>\n",
       "<style scoped>\n",
       "    .dataframe tbody tr th:only-of-type {\n",
       "        vertical-align: middle;\n",
       "    }\n",
       "\n",
       "    .dataframe tbody tr th {\n",
       "        vertical-align: top;\n",
       "    }\n",
       "\n",
       "    .dataframe thead th {\n",
       "        text-align: right;\n",
       "    }\n",
       "</style>\n",
       "<table border=\"1\" class=\"dataframe\">\n",
       "  <thead>\n",
       "    <tr style=\"text-align: right;\">\n",
       "      <th></th>\n",
       "      <th>0</th>\n",
       "      <th>1</th>\n",
       "      <th>2</th>\n",
       "      <th>3</th>\n",
       "      <th>4</th>\n",
       "    </tr>\n",
       "  </thead>\n",
       "  <tbody>\n",
       "    <tr>\n",
       "      <th>0</th>\n",
       "      <td>500000.0</td>\n",
       "      <td>540576.123105</td>\n",
       "      <td>583394.434495</td>\n",
       "      <td>597057.526074</td>\n",
       "      <td>639534.378887</td>\n",
       "    </tr>\n",
       "    <tr>\n",
       "      <th>1</th>\n",
       "      <td>500000.0</td>\n",
       "      <td>498980.102373</td>\n",
       "      <td>520177.467079</td>\n",
       "      <td>546327.340384</td>\n",
       "      <td>562340.864710</td>\n",
       "    </tr>\n",
       "    <tr>\n",
       "      <th>2</th>\n",
       "      <td>500000.0</td>\n",
       "      <td>523886.294686</td>\n",
       "      <td>550140.566096</td>\n",
       "      <td>572966.722461</td>\n",
       "      <td>607913.955354</td>\n",
       "    </tr>\n",
       "  </tbody>\n",
       "</table>\n",
       "</div>"
      ],
      "text/plain": [
       "          0              1              2              3              4\n",
       "0  500000.0  540576.123105  583394.434495  597057.526074  639534.378887\n",
       "1  500000.0  498980.102373  520177.467079  546327.340384  562340.864710\n",
       "2  500000.0  523886.294686  550140.566096  572966.722461  607913.955354"
      ]
     },
     "execution_count": 16,
     "metadata": {},
     "output_type": "execute_result"
    }
   ],
   "source": [
    "import pandas as pd\n",
    "\n",
    "def simulate_income(years, initial_income, growth_rate, volatility, num_simulations):\n",
    "    \"\"\"Returns a 2D-array with simulated income for each year.\"\"\"\n",
    "    all_incomes = []\n",
    "    for _ in range(num_simulations):\n",
    "        #adding the path to all_incomes\n",
    "        incomes = income_path(years, initial_income, growth_rate, volatility)\n",
    "        all_incomes.append(incomes)\n",
    "        \n",
    "    return np.array(all_incomes)\n",
    "\n",
    "#Setter inn i pandas DataFrame for å få en finere tabell\n",
    "\n",
    "pd.DataFrame(  simulate_income(5, 500000, 0.05, 0.02, 3)\n",
    "            )"
   ]
  },
  {
   "cell_type": "markdown",
   "id": "56587b2c-822a-4d06-80aa-ab18a3b75ee7",
   "metadata": {},
   "source": [
    "Vi kan nå plotte fordelingen, for å få et inntrykk av fordelingen til inntekten i avslutningsåret:\n",
    "\n",
    "#### Eksempel 19:"
   ]
  },
  {
   "cell_type": "code",
   "execution_count": 17,
   "id": "92b608e8-a9a5-49e7-a741-f10d630ce3c8",
   "metadata": {
    "tags": []
   },
   "outputs": [
    {
     "data": {
      "image/png": "[encoded data removed]",
      "text/plain": [
       "<Figure size 640x480 with 1 Axes>"
      ]
     },
     "metadata": {},
     "output_type": "display_data"
    }
   ],
   "source": [
    "import matplotlib.pyplot as plt\n",
    "\n",
    "#parameters\n",
    "initial_income = 400000\n",
    "growth_rate = 0.03\n",
    "volatility = 0.02\n",
    "years = 30\n",
    "num_simulations = 1000\n",
    "\n",
    "simulated_incomes = simulate_income(years, initial_income, growth_rate, volatility, num_simulations)\n",
    "\n",
    "# plotting the final income\n",
    "final_year_incomes = simulated_incomes[:, -1]\n",
    "\n",
    "plt.hist(final_year_incomes, bins=50, edgecolor='black', alpha=0.75)\n",
    "plt.gca().get_xaxis().set_major_formatter(plt.FuncFormatter(lambda x, loc: \"{:,}\".format(int(x))))\n",
    "plt.xticks(rotation=90)\n",
    "plt.title(\"Distribusjon av simulerte inntekter etter 30 år\")\n",
    "plt.xlabel(\"Inntekt\")\n",
    "plt.ylabel(\"Antall simuleringer\")\n",
    "plt.show()"
   ]
  },
  {
   "cell_type": "markdown",
   "id": "7d1f4ab7",
   "metadata": {},
   "source": [
    "# Oppgaver"
   ]
  },
  {
   "cell_type": "markdown",
   "id": "8752da63-9401-49b8-b5f9-d3d8672cbb3e",
   "metadata": {},
   "source": [
    "1. Om du kjører koden i Eksempel 18 noen ganger vil du oppdage et problem. Aksjekursen kan bli negativ. Dette kan unngås ved å plotte *eksponenenten* av prosessen, i stedet. Dette kan du få til på følgende måte \n",
    "    1. Omdøp `y` i `y+= dy` til `lny`, og `x,y,dy=0,100,0` til `x,lny,dy=0,0,0`\n",
    "    2. Eksponenten liker ikke store tall som argument, så fjern `40*` fra definisjonen av `dy` inne i while-løkken.\n",
    "    3. definer en ny `y`som settes lik hundre ganger eksponenten til `lny`. Bruk `np.exp()`-funksjonen til numpy. \n",
    "    "
   ]
  },
  {
   "cell_type": "markdown",
   "id": "29faaefb-5f27-4d57-870b-caefdb679c5d",
   "metadata": {},
   "source": [
    "2. I simuleringen du nå har laget over, lag intervallet for aksjekursen dynamisk, slik at slik at største aksjekurs alltid er minst ti prosent mer enn den simulerte kursen."
   ]
  },
  {
   "cell_type": "markdown",
   "id": "d062f12e-6d29-4dfd-82d2-90d8ff321636",
   "metadata": {},
   "source": [
    "3. Fangenes dilemma:\n",
    "   1. Lag en strategi for hver spiller der spillerne antar at motstanderen vil repetere forrige trekk, og finn den beste responsen gitt denne antakelsen. \n",
    "   2. Hva skal til for å få dem til å samarbeide, om de gjør denne antakelsen?\n",
    "   3. Programmere strategien til hver spiller i én funksjon i stedet for to. "
   ]
  },
  {
   "cell_type": "markdown",
   "id": "b5f0b6d9-f676-4d1d-81da-e30ac21ed4a5",
   "metadata": {
    "tags": []
   },
   "source": [
    "4. Finn optimal pris i Eksemplene 11-13 analytisk, i stedet for nummerisk. Finn både for enhetskostnadene som er kjent (et konkret tall) og ukjent (C), og sammenlign resultatet med det nummeriske svaret"
   ]
  },
  {
   "cell_type": "markdown",
   "id": "8b1464ab-3485-4a20-8f44-81ff1ff0adab",
   "metadata": {},
   "source": [
    "5. Lag en funksjon som regner ut optimal pris analytisk"
   ]
  },
  {
   "cell_type": "markdown",
   "id": "76c52df8-77da-4360-9083-cdd317cf90d6",
   "metadata": {},
   "source": [
    "6. Lag en \"Monte Carlo\"-simulering der enhetskostnadene er usikre, og plott et stolpediagram for optimal pris"
   ]
  },
  {
   "cell_type": "markdown",
   "id": "0cd9c0ec-ab04-4374-b890-29ee3ec2a454",
   "metadata": {},
   "source": [
    "##### [< Forrige](6%20-%20pandas%2C%20filtrering%2C%20logikk%20og%20betingelser.ipynb)     |     [Neste >](8%20-%20Git,%20IDE'er%20og%20et%20lite%20spill.ipynb)"
   ]
  }
 ],
 "metadata": {
  "kernelspec": {
   "display_name": "Python 3 (ipykernel)",
   "language": "python",
   "name": "python3"
  },
  "language_info": {
   "codemirror_mode": {
    "name": "ipython",
    "version": 3
   },
   "file_extension": ".py",
   "mimetype": "text/x-python",
   "name": "python",
   "nbconvert_exporter": "python",
   "pygments_lexer": "ipython3",
   "version": "3.11.7"
  }
 },
 "nbformat": 4,
 "nbformat_minor": 5
}
